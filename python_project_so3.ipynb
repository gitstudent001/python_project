{
 "cells": [
  {
   "cell_type": "code",
   "execution_count": null,
   "id": "720c082e-3dd5-4e55-9707-1363fca76491",
   "metadata": {},
   "outputs": [],
   "source": [
    "import pandas as pd\n",
    "import numpy as np\n",
    "import warnings\n",
    "warnings.filterwarnings('ignore')\n",
    "import seaborn as sns\n",
    "import matplotlib.pyplot as plt\n",
    "%matplotlib inline\n",
    "# 한글 설정\n",
    "# pip install koreanize_matplotlib\n",
    "plt.rc('font', family='Malgun Gothic')\n",
    "plt.rc('axes', unicode_minus=False)\n",
    "# root = 'C:/workspace/python/project/data/'\n",
    "root = 'G:/workspace/python/python_project/data/'\n",
    "\n",
    "# 구글드라이브 : https://drive.google.com/drive/folders/1zIzm1o8-3uxcWSU2DoWpB8aV0Oxdfz_P?usp=sharing"
   ]
  },
  {
   "cell_type": "code",
   "execution_count": null,
   "id": "f0aa3c92-b782-490e-ba3e-69cc5f6ded43",
   "metadata": {},
   "outputs": [],
   "source": [
    "'''\n",
    "건축거래 현황 데이터 프레임\n",
    "'''\n",
    "house_transaction_df = pd.read_csv(root + '주거실태_Data/행정구역별_건축물거래현황_20241126100629.csv', encoding='cp949', header=None)\n",
    "# house_transaction_df = pd.read_csv(root + '주거실태_Data/행정구역별_건축물거래현황_20241126100629.csv', encoding='cp949')"
   ]
  },
  {
   "cell_type": "code",
   "execution_count": null,
   "id": "08ae1c53-3723-43f7-8975-785e822d60d1",
   "metadata": {},
   "outputs": [],
   "source": [
    "house_transaction_df.loc[:, 0:5][:5]"
   ]
  },
  {
   "cell_type": "code",
   "execution_count": null,
   "id": "9472c66b-fc49-4627-b2c2-023a0ca71224",
   "metadata": {},
   "outputs": [],
   "source": [
    "house_transaction_df.columns = house_transaction_df.iloc[0]\n",
    "house_transaction_df"
   ]
  },
  {
   "cell_type": "code",
   "execution_count": null,
   "id": "9eb6fe87-ffbb-4a02-b8e4-8bfd77d8298f",
   "metadata": {},
   "outputs": [],
   "source": [
    "house_transaction_df = house_transaction_df.rename(columns={'행정구역별(2)':'구'})\n",
    "house_transaction_df"
   ]
  },
  {
   "cell_type": "code",
   "execution_count": null,
   "id": "096d348a-8ee0-4a12-9e06-7f5a1067efcf",
   "metadata": {},
   "outputs": [],
   "source": [
    "house_transaction_df = house_transaction_df.drop(columns=['행정구역별(1)'])\n",
    "house_transaction_df"
   ]
  },
  {
   "cell_type": "code",
   "execution_count": null,
   "id": "b4e00ac7-749a-431f-924f-a14a00cbe06d",
   "metadata": {},
   "outputs": [],
   "source": [
    "'''\n",
    "0 행 삭제 클래스\n",
    "'''\n",
    "class ManagedDataFrame:\n",
    "    def __init__(self, name, df):\n",
    "        self.name = name\n",
    "        self.df = df\n",
    "        self.row_deleted = False  # 플래그 초기화\n",
    "\n",
    "    def delete_row_once(self):\n",
    "        if not self.row_deleted and 0 in self.df.index:\n",
    "            self.df = self.df.drop(0)\n",
    "            self.row_deleted = True\n",
    "            print(f\"{self.name}: 0행이 삭제되었습니다.\")\n",
    "        else:\n",
    "            print(f\"{self.name}: 삭제 작업이 이미 완료되었거나 0행이 없습니다.\")\n",
    "\n",
    "    # 객체 출력 시 사용자 정의 내용 반환\n",
    "    def __repr__(self):\n",
    "        return f\"ManagedDataFrame(name={self.name}, row_deleted={self.row_deleted}, df=\\n{self.df}\\n)\""
   ]
  },
  {
   "cell_type": "code",
   "execution_count": null,
   "id": "51bbe165-8376-4641-b654-4a78f3e10c01",
   "metadata": {},
   "outputs": [],
   "source": [
    "transaction_df = ManagedDataFrame('house_transaction_df', house_transaction_df)\n",
    "transaction_df.delete_row_once()"
   ]
  },
  {
   "cell_type": "code",
   "execution_count": null,
   "id": "639e9eb8-c2c2-4b2f-a9f8-ff0eb43168b6",
   "metadata": {},
   "outputs": [],
   "source": [
    "transaction_df = transaction_df.df\n",
    "print(transaction_df.dtypes)\n",
    "transaction_df"
   ]
  },
  {
   "cell_type": "code",
   "execution_count": null,
   "id": "57509b7e-3fc3-4149-958b-50cae254a07e",
   "metadata": {},
   "outputs": [],
   "source": [
    "# transaction_df.to_csv(root + '주거실태_Data/행정구역별_건축물거래현황.csv', encoding='cp949', index=False)\n",
    "transaction_df"
   ]
  },
  {
   "cell_type": "code",
   "execution_count": null,
   "id": "0b9d03a2-8676-44a8-ad49-f941cac18309",
   "metadata": {},
   "outputs": [],
   "source": [
    "# DataFrame 생성\n",
    "df = transaction_df.copy()\n",
    "df.iloc[:, 1:]\n",
    "\n",
    "# '년도', '월' 열을 추가하고 기존의 '동(호)수'와 '면적' 정보를 각각 새롭게 정리\n",
    "df_melted = pd.melt(df, id_vars=['구'], value_vars=(df.iloc[:, 1:]), var_name='년도_월', value_name='값')\n",
    "df_melted[df_melted['구']=='종로구']"
   ]
  },
  {
   "cell_type": "code",
   "execution_count": null,
   "id": "ecc54494-4e9f-43ed-9cbd-125e1b4f20eb",
   "metadata": {},
   "outputs": [],
   "source": [
    "df.columns"
   ]
  },
  {
   "cell_type": "code",
   "execution_count": null,
   "id": "531085e5-1525-4f2c-abc0-22957eb2b80c",
   "metadata": {},
   "outputs": [],
   "source": [
    "tmp_df = df.iloc[:, 1:]\n",
    "tmp_df.columns"
   ]
  },
  {
   "cell_type": "code",
   "execution_count": null,
   "id": "d4390ff4-b0fe-45a0-90b8-5c577fa8c7b2",
   "metadata": {},
   "outputs": [],
   "source": [
    "category_2021 = df.columns.str.contains('2021.01')\n",
    "category_2021[0] = True\n",
    "category_2021"
   ]
  },
  {
   "cell_type": "code",
   "execution_count": null,
   "id": "e0f4e4da-d416-4f6b-b6f0-dc3e77d5433c",
   "metadata": {},
   "outputs": [],
   "source": [
    "category_2021_df = df.loc[:, category_2021]\n",
    "category_2021_df\n",
    "col_2021 = category_2021_df.loc[1].values\n",
    "category_2021_df.columns = col_2021\n",
    "display(category_2021_df[:3])"
   ]
  },
  {
   "cell_type": "code",
   "execution_count": null,
   "id": "db3234c8-780c-4c04-9be7-c076fcc6a77f",
   "metadata": {},
   "outputs": [],
   "source": [
    "df_2021 = pd.DataFrame(category_2021_df)\n",
    "df_2021['년월'] = '2021.01'"
   ]
  },
  {
   "cell_type": "code",
   "execution_count": null,
   "id": "8bdc7dbb-15ae-4e73-9387-3ebe579931cc",
   "metadata": {},
   "outputs": [],
   "source": [
    "df_2021 = df_2021.drop(1)"
   ]
  },
  {
   "cell_type": "code",
   "execution_count": null,
   "id": "8b9e1999-6c22-4b78-8b3f-b23bbe501740",
   "metadata": {},
   "outputs": [],
   "source": [
    "# 데이터프레임 병합\n",
    "df_combined = pd.concat([df_2021], ignore_index=True)\n",
    "# 결과 확인\n",
    "display(df_combined)"
   ]
  },
  {
   "cell_type": "code",
   "execution_count": null,
   "id": "e1c9abbd-3bdb-40fd-9381-2295feaea29a",
   "metadata": {},
   "outputs": [],
   "source": [
    "'''   (여기서 부터 작업함 -- 희만 --)\n",
    "건축거래 현황 데이터 프레임\n",
    "'''\n",
    "house_transaction_df = pd.read_csv(root + '주거실태_Data/행정구역별_건축물거래현황_20241126100629.csv', encoding='cp949', header=None)\n",
    "# house_transaction_df = pd.read_csv(root + '주거실태_Data/행정구역별_건축물거래현황_20241126100629.csv', encoding='cp949')"
   ]
  },
  {
   "cell_type": "code",
   "execution_count": null,
   "id": "fddd5d79-ae69-4101-a7cc-41eae3b701fa",
   "metadata": {},
   "outputs": [],
   "source": [
    "house_transaction_df"
   ]
  },
  {
   "cell_type": "code",
   "execution_count": null,
   "id": "0007ffb9-d1f0-433f-8af5-6476500983e5",
   "metadata": {},
   "outputs": [],
   "source": [
    "def precleaning_transaction(df, year) :\n",
    "  copy_df = df.copy()\n",
    "  copy_df.columns = copy_df.iloc[0] + '_' + copy_df.iloc[1]\n",
    "  copy_df = copy_df.iloc[2:, 1:]\n",
    "  copy_df = copy_df.rename(columns = {'행정구역별(2)_행정구역별(2)' : '구'})\n",
    "\n",
    "  condition1 = copy_df.columns.str.contains(year)\n",
    "  select_columns = copy_df.loc[:, condition1].columns\n",
    "  columns = []\n",
    "  columns.append('구')\n",
    "  for column in select_columns :\n",
    "    columns.append(column)\n",
    "  \n",
    "  selected_df = copy_df[columns]\n",
    "  # Melt 함수를 사용하여 열을 행으로 변환\n",
    "  df_melted = selected_df.melt(id_vars=['구'], var_name='월', value_name='값')\n",
    "  \n",
    "  # 월별 동(호)수와 면적을 구분하기 위해 컬럼을 분리\n",
    "  df_melted[['연도_월', '항목']] = df_melted['월'].str.split('_', expand=True)\n",
    "  \n",
    "  # 항목이 동(호)수인지 면적인지에 따라 값 분리\n",
    "  df_melted = df_melted.pivot_table(index=['구', '연도_월'], columns='항목', values='값', aggfunc='first').reset_index()\n",
    "  return df_melted"
   ]
  },
  {
   "cell_type": "code",
   "execution_count": null,
   "id": "91c79e42-5694-4f44-901f-0512bae597d5",
   "metadata": {},
   "outputs": [],
   "source": [
    "house_transaction_2021_df = precleaning_transaction(house_transaction_df, '2021')\n",
    "house_transaction_2021_df[:5]\n",
    "house_transaction_2021_df['년도'] = 2021\n",
    "house_transaction_2021_df[:5]"
   ]
  },
  {
   "cell_type": "code",
   "execution_count": null,
   "id": "67cc970e-6e1a-4ed1-b045-fec63c351886",
   "metadata": {},
   "outputs": [],
   "source": [
    "house_transaction_2022_df = precleaning_transaction(house_transaction_df, '2022')\n",
    "house_transaction_2022_df[:5]\n",
    "house_transaction_2022_df['년도'] = 2022\n",
    "house_transaction_2022_df[:5]"
   ]
  },
  {
   "cell_type": "code",
   "execution_count": null,
   "id": "0b948705-b0cd-4c46-9726-f38caf6ae226",
   "metadata": {},
   "outputs": [],
   "source": [
    "house_transaction_2023_df = precleaning_transaction(house_transaction_df, '2023')\n",
    "house_transaction_2023_df[:5]\n",
    "house_transaction_2023_df['년도'] = 2023\n",
    "house_transaction_2023_df[:5]"
   ]
  },
  {
   "cell_type": "code",
   "execution_count": null,
   "id": "401330d6-1756-4b2b-928d-e986bb1f2bdd",
   "metadata": {},
   "outputs": [],
   "source": [
    "# 데이터프레임 병합\n",
    "house_transaction_combined = pd.concat([house_transaction_2021_df, house_transaction_2022_df, house_transaction_2023_df], ignore_index=True)\n",
    "# 결과 확인\n",
    "print(house_transaction_combined)"
   ]
  },
  {
   "cell_type": "code",
   "execution_count": null,
   "id": "ec80a43d-b516-477f-b468-c2ccef31fbe9",
   "metadata": {},
   "outputs": [],
   "source": [
    "house_transaction_combined.isna().sum()"
   ]
  },
  {
   "cell_type": "code",
   "execution_count": null,
   "id": "f644943a-8885-41b8-8b3f-e11afa1d84b4",
   "metadata": {},
   "outputs": [],
   "source": [
    "house_transaction_combined = house_transaction_combined.rename(columns={'동(호)수 (동(호)수)':'동(호)수'})"
   ]
  },
  {
   "cell_type": "code",
   "execution_count": null,
   "id": "fb980aa8-9eb8-4984-8748-7e295bc45032",
   "metadata": {},
   "outputs": [],
   "source": [
    "house_transaction_combined['동(호)수']    = house_transaction_combined['동(호)수'].astype(int)\n",
    "house_transaction_combined['면적 (천㎡)'] = house_transaction_combined['면적 (천㎡)'].astype(int)"
   ]
  },
  {
   "cell_type": "code",
   "execution_count": null,
   "id": "3f218337-2946-45ed-8f19-334dd4e8a7fa",
   "metadata": {},
   "outputs": [],
   "source": [
    "house_transaction_grouped = house_transaction_combined.groupby(['년도', '구']).agg({'동(호)수': 'sum',\n",
    "                                                                                    '면적 (천㎡)': 'sum'}).reset_index()\n",
    "house_transaction_grouped"
   ]
  },
  {
   "cell_type": "code",
   "execution_count": null,
   "id": "ff20fe20-1e43-4a66-b92f-73ac921ca5a5",
   "metadata": {},
   "outputs": [],
   "source": [
    "# 데이터 준비\n",
    "grouped_data = house_transaction_grouped.copy()\n",
    "grouped_data = grouped_data[grouped_data['구'] != '소계']"
   ]
  },
  {
   "cell_type": "code",
   "execution_count": null,
   "id": "7ebe8112-96cd-4b91-90f5-43d67d145ff1",
   "metadata": {},
   "outputs": [],
   "source": [
    "# 연도별 동(호)수 비교 막대 그래프\n",
    "plt.figure(figsize=(12, 6))\n",
    "sns.barplot(x='년도', y='동(호)수', hue='구', data=grouped_data, palette='tab10')\n",
    "plt.title('연도별 구별 동(호)수', fontsize=16)\n",
    "plt.ylabel('동(호)수', fontsize=12)\n",
    "plt.xlabel('년도', fontsize=12)\n",
    "plt.legend(title='구', bbox_to_anchor=(1.05, 1), loc='upper left')\n",
    "plt.tight_layout()\n",
    "plt.show()"
   ]
  },
  {
   "cell_type": "code",
   "execution_count": null,
   "id": "26752696-573c-4e47-aeb9-fd4ff8970c38",
   "metadata": {},
   "outputs": [],
   "source": [
    "# 동(호)수와 면적 (천㎡)의 상관 관계\n",
    "plt.figure(figsize=(8, 6))\n",
    "sns.scatterplot(x='동(호)수', y='면적 (천㎡)', hue='년도', style='구', data=grouped_data, palette='viridis', s=100)\n",
    "plt.title('동(호)수와 면적 (천㎡)의 관계', fontsize=16)\n",
    "plt.xlabel('동(호)수', fontsize=12)\n",
    "plt.ylabel('면적 (천㎡)', fontsize=12)\n",
    "plt.legend(title='년도/구', bbox_to_anchor=(1.05, 1), loc='upper left')\n",
    "plt.tight_layout()\n",
    "plt.show()"
   ]
  },
  {
   "cell_type": "code",
   "execution_count": null,
   "id": "81d6657e-859a-4df0-b6b7-dbc6da23cb9d",
   "metadata": {},
   "outputs": [],
   "source": [
    "# 연도별 면적 (천㎡) 변화 추세선\n",
    "plt.figure(figsize=(12, 6))\n",
    "sns.lineplot(x='년도', y='면적 (천㎡)', hue='구', data=grouped_data, marker='o', palette='tab20')\n",
    "plt.title('연도별 구별 면적 (천㎡) 변화', fontsize=16)\n",
    "plt.ylabel('면적 (천㎡)', fontsize=12)\n",
    "plt.xlabel('년도', fontsize=12)\n",
    "plt.legend(title='구', bbox_to_anchor=(1.05, 1), loc='upper left')\n",
    "plt.tight_layout()\n",
    "plt.show()"
   ]
  },
  {
   "cell_type": "code",
   "execution_count": null,
   "id": "760324ca-d274-4a51-8ff3-2777a610747e",
   "metadata": {},
   "outputs": [],
   "source": [
    "# 데이터 추출\n",
    "# house_transaction_grouped\n",
    "# 소계 데이터 제외\n",
    "# grouped_data\n",
    "# 사용할 것"
   ]
  },
  {
   "cell_type": "code",
   "execution_count": null,
   "id": "737d1fe9-7a7c-4723-9232-70c76a644f2a",
   "metadata": {},
   "outputs": [],
   "source": []
  },
  {
   "cell_type": "code",
   "execution_count": null,
   "id": "3f3be13c-803a-43f9-83be-770de71e882e",
   "metadata": {},
   "outputs": [],
   "source": []
  },
  {
   "cell_type": "code",
   "execution_count": null,
   "id": "aef7c726-7949-4913-a033-15286ec152de",
   "metadata": {},
   "outputs": [],
   "source": []
  },
  {
   "cell_type": "code",
   "execution_count": null,
   "id": "03488a7e-4ce1-4194-8d49-d1d2c28df8da",
   "metadata": {},
   "outputs": [],
   "source": []
  }
 ],
 "metadata": {
  "kernelspec": {
   "display_name": "Python 3 (ipykernel)",
   "language": "python",
   "name": "python3"
  },
  "language_info": {
   "codemirror_mode": {
    "name": "ipython",
    "version": 3
   },
   "file_extension": ".py",
   "mimetype": "text/x-python",
   "name": "python",
   "nbconvert_exporter": "python",
   "pygments_lexer": "ipython3",
   "version": "3.12.3"
  }
 },
 "nbformat": 4,
 "nbformat_minor": 5
}
