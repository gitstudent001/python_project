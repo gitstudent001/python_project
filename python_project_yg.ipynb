{
 "cells": [
  {
   "cell_type": "code",
   "execution_count": null,
   "id": "0ddbbea2-b6a7-4f7f-a8bf-f4cdbfc4678f",
   "metadata": {},
   "outputs": [],
   "source": [
    "import pandas as pd\n",
    "import numpy as np\n",
    "import warnings\n",
    "warnings.filterwarnings('ignore')\n",
    "import seaborn as sns\n",
    "import matplotlib.pyplot as plt\n",
    "%matplotlib inline\n",
    "# 한글 설정\n",
    "# pip install koreanize_matplotlib\n",
    "plt.rc('font', family='Malgun Gothic')\n",
    "plt.rc('axes', unicode_minus=False)\n",
    "root = 'C:/workspace/python/project/data/'\n",
    "\n",
    "# 구글드라이브 : https://drive.google.com/drive/folders/1zIzm1o8-3uxcWSU2DoWpB8aV0Oxdfz_P?usp=sharing"
   ]
  },
  {
   "cell_type": "code",
   "execution_count": null,
   "id": "f8c6694c-b7fb-4e5b-a1e5-91031b7c4d87",
   "metadata": {},
   "outputs": [],
   "source": [
    "'''\n",
    "서울시 집값 데이터 프레임\n",
    "'''\n",
    "seoul_2021_df = pd.read_csv(root + '부동산_Data/부동산_2021.csv', encoding = 'cp949')\n",
    "seoul_2022_df = pd.read_csv(root + '부동산_Data/부동산_2022.csv', encoding = 'cp949')\n",
    "seoul_2023_df = pd.read_csv(root + '부동산_Data/부동산_2023.csv', encoding = 'cp949')"
   ]
  },
  {
   "cell_type": "code",
   "execution_count": null,
   "id": "f80eb496-c44e-425c-85ed-d973952b6eee",
   "metadata": {},
   "outputs": [],
   "source": [
    "# 서울시 집값 데이터 확인\n",
    "display(seoul_2021_df.info())\n",
    "print()\n",
    "print('+=' * 20)\n",
    "print()\n",
    "display(seoul_2022_df.info())\n",
    "print()\n",
    "print('+=' * 20)\n",
    "print()\n",
    "display(seoul_2023_df.info())"
   ]
  },
  {
   "cell_type": "code",
   "execution_count": null,
   "id": "cfcfd828-cf83-4988-9544-1cea17e67594",
   "metadata": {},
   "outputs": [],
   "source": [
    "# dict_keys(['2019년 12월 31일 기준', '2020년 12월 31일 기준', '2021년 12월 31일 기준', '2022년 12월 31일 기준', '2023년 12월 4일 기준'])\n",
    "all_bus_stop_dict = pd.read_excel(root + '교통_Data/버스_정류소현황(2019~2023년).xlsx', sheet_name=None)"
   ]
  },
  {
   "cell_type": "code",
   "execution_count": null,
   "id": "f3ddbff9-4044-472a-8427-70c03b0d9500",
   "metadata": {},
   "outputs": [],
   "source": [
    "'''\n",
    "버스 정류장 데이터 프레임\n",
    "'''\n",
    "bus_stop_2021_df = all_bus_stop_dict['2021년 12월 31일 기준']\n",
    "bus_stop_2022_df = all_bus_stop_dict['2022년 12월 31일 기준']\n",
    "bus_stop_2023_df = all_bus_stop_dict['2023년 12월 4일 기준']"
   ]
  },
  {
   "cell_type": "code",
   "execution_count": null,
   "id": "fa2c094d-7a13-4527-b018-8ee36bdc58e9",
   "metadata": {},
   "outputs": [],
   "source": [
    "# 서울시 버스정류장 정보 확인\n",
    "display(bus_stop_2021_df.info())\n",
    "print()\n",
    "print('+=' * 20)\n",
    "print()\n",
    "display(bus_stop_2022_df.info())\n",
    "print()\n",
    "print('+=' * 20)\n",
    "print()\n",
    "display(bus_stop_2023_df.info())"
   ]
  },
  {
   "cell_type": "code",
   "execution_count": null,
   "id": "2c79d797-b2bb-4f01-b3a5-3ac6e1f5c399",
   "metadata": {},
   "outputs": [],
   "source": [
    "'''\n",
    "지하철 데이터 프레임\n",
    "'''\n",
    "train_2021_df = pd.read_csv(root + '교통_Data/서울시 지역별 지하철역 정보_2021.csv', encoding = 'cp949')\n",
    "train_2022_df = pd.read_csv(root + '교통_Data/서울시 지역별 지하철역 정보_2022.csv', encoding = 'cp949')\n",
    "train_2023_df = pd.read_csv(root + '교통_Data/서울시 지역별 지하철역 정보_2023.csv', encoding = 'cp949')"
   ]
  },
  {
   "cell_type": "code",
   "execution_count": null,
   "id": "2e49ab4b-691e-4c6c-96c4-0fbeb8032db3",
   "metadata": {},
   "outputs": [],
   "source": [
    "# 지하철 정보 확인\n",
    "train_2021_df.info()\n",
    "print()\n",
    "print('+=' * 20)\n",
    "print()\n",
    "train_2022_df.info()\n",
    "print()\n",
    "print('+=' * 20)\n",
    "print()\n",
    "train_2023_df.info()"
   ]
  },
  {
   "cell_type": "code",
   "execution_count": null,
   "id": "2608f420-4309-4457-84ff-497469877bfe",
   "metadata": {},
   "outputs": [],
   "source": [
    "'''\n",
    "주거실태 데이터 프레임\n",
    "'''\n",
    "abode_family_df = pd.read_csv(root + '주거실태_Data/거처의_종류_및_거처__가구__가구원__시군구_20241120174650.csv', encoding = 'cp949')\n",
    "abode_house_category = pd.read_csv(root + '주거실태_Data/주택의_종류별_주택__읍면동_연도_끝자리_0__5___시군구_그_외_연도__20241120174542.csv', encoding = 'cp949')"
   ]
  },
  {
   "cell_type": "code",
   "execution_count": null,
   "id": "7cf86af8-d454-434a-bfdd-378e00ca82a4",
   "metadata": {},
   "outputs": [],
   "source": [
    "# 주거실태 정보 확인\n",
    "abode_family_df.info()\n",
    "print()\n",
    "print('+=' * 20)\n",
    "print()\n",
    "abode_house_category.info()"
   ]
  },
  {
   "cell_type": "code",
   "execution_count": null,
   "id": "51f601aa-51bb-4a6e-b9da-4c31d9efa8aa",
   "metadata": {},
   "outputs": [],
   "source": [
    "'''\n",
    "공원 데이터 프레임\n",
    "'''\n",
    "park_2021_df = pd.read_excel(root + '공원_Data/공원현황_2021.xlsx')\n",
    "park_2022_df = pd.read_excel(root + '공원_Data/공원현황_2022.xlsx')\n",
    "park_2023_df = pd.read_excel(root + '공원_Data/공원현황_2023.xlsx')"
   ]
  },
  {
   "cell_type": "code",
   "execution_count": null,
   "id": "8e7ead30-bdc1-48f9-a8a3-058e495b5dd5",
   "metadata": {},
   "outputs": [],
   "source": [
    "# 공원 정보 확인\n",
    "display(park_2021_df.info())\n",
    "print()\n",
    "print('+=' * 20)\n",
    "print()\n",
    "display(park_2022_df.info())\n",
    "print()\n",
    "print('+=' * 20)\n",
    "print()\n",
    "display(park_2023_df.info())"
   ]
  },
  {
   "cell_type": "code",
   "execution_count": null,
   "id": "94ecd85a-8cd7-4672-ba4c-12af9bde8f8d",
   "metadata": {},
   "outputs": [],
   "source": [
    "'''\n",
    "유통업체 데이터 프레임\n",
    "'''\n",
    "distributor_2021_df = pd.read_excel(root + '유통업체_Data/유통업체현황_2021.xlsx')\n",
    "distributor_2022_df = pd.read_excel(root + '유통업체_Data/유통업체현황_2022.xlsx')\n",
    "distributor_2023_df = pd.read_excel(root + '유통업체_Data/유통업체현황_2023.xlsx')"
   ]
  },
  {
   "cell_type": "code",
   "execution_count": null,
   "id": "d3ba1076-7a6b-46ab-847d-fc04a15096e0",
   "metadata": {},
   "outputs": [],
   "source": [
    "# 유통업체 정보 확인\n",
    "display(distributor_2021_df.info())\n",
    "print()\n",
    "print('+=' * 20)\n",
    "print()\n",
    "display(distributor_2022_df.info())\n",
    "print()\n",
    "print('+=' * 20)\n",
    "print()\n",
    "display(distributor_2023_df.info())"
   ]
  },
  {
   "cell_type": "code",
   "execution_count": null,
   "id": "7ab6dbaa-2223-4294-ad6e-d06f03789e08",
   "metadata": {},
   "outputs": [],
   "source": [
    "'''\n",
    "의료기간 데이터 프레임\n",
    "'''\n",
    "medical_2021_df = pd.read_excel(root + '의료기관_Data/의료기관_2021.xlsx')\n",
    "medical_2022_df = pd.read_excel(root + '의료기관_Data/의료기관_2022.xlsx')\n",
    "medical_2023_df = pd.read_excel(root + '의료기관_Data/의료기관_2023.xlsx')"
   ]
  },
  {
   "cell_type": "code",
   "execution_count": null,
   "id": "6d15ffad-7178-4ad8-95ad-f15ca1e5f09b",
   "metadata": {},
   "outputs": [],
   "source": [
    "# 의료기간 정보 확인\n",
    "display(medical_2021_df.info())\n",
    "print()\n",
    "print('+=' * 20)\n",
    "print()\n",
    "display(medical_2022_df.info())\n",
    "print()\n",
    "print('+=' * 20)\n",
    "print()\n",
    "display(medical_2023_df.info())"
   ]
  },
  {
   "cell_type": "code",
   "execution_count": null,
   "id": "38602761-cbb5-4e5f-8ac5-d7bf9b236ba6",
   "metadata": {},
   "outputs": [],
   "source": []
  },
  {
   "cell_type": "code",
   "execution_count": null,
   "id": "483c1c09-4539-4b3c-be63-fbb5b6586f78",
   "metadata": {},
   "outputs": [],
   "source": []
  }
 ],
 "metadata": {
  "kernelspec": {
   "display_name": "Python 3 (ipykernel)",
   "language": "python",
   "name": "python3"
  },
  "language_info": {
   "codemirror_mode": {
    "name": "ipython",
    "version": 3
   },
   "file_extension": ".py",
   "mimetype": "text/x-python",
   "name": "python",
   "nbconvert_exporter": "python",
   "pygments_lexer": "ipython3",
   "version": "3.12.3"
  }
 },
 "nbformat": 4,
 "nbformat_minor": 5
}
