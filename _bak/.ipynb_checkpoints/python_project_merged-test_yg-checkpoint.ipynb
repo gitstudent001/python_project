{
 "cells": [
  {
   "cell_type": "code",
   "execution_count": 3,
   "id": "296e1658-8f17-4126-828c-0d30f053e041",
   "metadata": {},
   "outputs": [],
   "source": [
    "import pandas as pd\n",
    "import numpy as np\n",
    "import warnings\n",
    "warnings.filterwarnings('ignore')\n",
    "import seaborn as sns\n",
    "import matplotlib.pyplot as plt\n",
    "\n",
    "import wordcloud\n",
    "from wordcloud import WordCloud\n",
    "import json\n",
    "import folium\n",
    "%matplotlib inline\n",
    "# 한글 설정\n",
    "# pip install koreanize_matplotlib\n",
    "plt.rc('font', family='Malgun Gothic')\n",
    "plt.rc('axes', unicode_minus=False)\n",
    "root = 'C:/workspace/python/project/data/'\n",
    "\n",
    "# 전처리 완료한 데이터파일 이동경로\n",
    "pre_root = 'C:/workspace/python/project/data/_전처리/'\n",
    "\n",
    "# 구글드라이브 : https://drive.google.com/drive/folders/1zIzm1o8-3uxcWSU2DoWpB8aV0Oxdfz_P?usp=sharing"
   ]
  },
  {
   "cell_type": "code",
   "execution_count": 4,
   "id": "456056dd-5c73-4677-92d7-3d7fb89f5843",
   "metadata": {},
   "outputs": [],
   "source": [
    "'''\n",
    "                         /////--     데이터 불러오기     --/////\n",
    "'''\n",
    "# 공원\n",
    "park_2021_df = pd.read_csv(pre_root + '공원_Data/전처리_공원수_2021.csv', encoding = 'cp949')\n",
    "park_2022_df = pd.read_csv(pre_root + '공원_Data/전처리_공원수_2022.csv', encoding = 'cp949')\n",
    "park_2023_df = pd.read_csv(pre_root + '공원_Data/전처리_공원수_2023.csv', encoding = 'cp949')\n",
    "\n",
    "# 교통\n",
    "## 버스\n",
    "bus_2021_df = pd.read_csv(pre_root + '교통_Data/전처리_버스수_2021.csv', encoding = 'cp949')\n",
    "bus_2022_df = pd.read_csv(pre_root + '교통_Data/전처리_버스수_2022.csv', encoding = 'cp949')\n",
    "bus_2023_df = pd.read_csv(pre_root + '교통_Data/전처리_버스수_2023.csv', encoding = 'cp949')\n",
    "## 지하철\n",
    "train_2021_df = pd.read_csv(pre_root + '교통_Data/전처리_지하철수_2021.csv', encoding = 'cp949')\n",
    "train_2022_df = pd.read_csv(pre_root + '교통_Data/전처리_지하철수_2022.csv', encoding = 'cp949')\n",
    "train_2023_df = pd.read_csv(pre_root + '교통_Data/전처리_지하철수_2023.csv', encoding = 'cp949')\n",
    "\n",
    "# 부동산\n",
    "## 서울시 집값\n",
    "house_2021_df = pd.read_csv(pre_root + '부동산_Data/전처리_부동산_2021.csv', encoding = 'cp949')\n",
    "house_2022_df = pd.read_csv(pre_root + '부동산_Data/전처리_부동산_2022.csv', encoding = 'cp949')\n",
    "house_2023_df = pd.read_csv(pre_root + '부동산_Data/전처리_부동산_2023.csv', encoding = 'cp949')\n",
    "## 개발계획\n",
    "develop_2021_df = pd.read_csv(pre_root + '부동산_Data/전처리_개발계획_2021.csv', encoding = 'cp949')\n",
    "develop_2022_df = pd.read_csv(pre_root + '부동산_Data/전처리_개발계획_2022.csv', encoding = 'cp949')\n",
    "develop_2023_df = pd.read_csv(pre_root + '부동산_Data/전처리_개발계획_2023.csv', encoding = 'cp949')\n",
    "\n",
    "# 수요공급\n",
    "demandSupply_2021_df = pd.read_csv(pre_root + '수요공급_Data/전처리_수요공급지수_2021.csv', encoding = 'cp949')\n",
    "demandSupply_2022_df = pd.read_csv(pre_root + '수요공급_Data/전처리_수요공급지수_2022.csv', encoding = 'cp949')\n",
    "demandSupply_2023_df = pd.read_csv(pre_root + '수요공급_Data/전처리_수요공급지수_2023.csv', encoding = 'cp949')\n",
    "\n",
    "# 유통업체\n",
    "distribute_2021_df = pd.read_csv(pre_root + '유통업체_Data/전처리_유통업체_2021.csv', encoding = 'cp949')\n",
    "distribute_2022_df = pd.read_csv(pre_root + '유통업체_Data/전처리_유통업체_2022.csv', encoding = 'cp949')\n",
    "distribute_2023_df = pd.read_csv(pre_root + '유통업체_Data/전처리_유통업체_2023.csv', encoding = 'cp949')\n",
    "\n",
    "# 의료기관\n",
    "hospital_2021_df = pd.read_csv(pre_root + '의료기관_Data/전처리_병원수_2021.csv', encoding = 'cp949')\n",
    "hospital_2022_df = pd.read_csv(pre_root + '의료기관_Data/전처리_병원수_2022.csv', encoding = 'cp949')\n",
    "hospital_2023_df = pd.read_csv(pre_root + '의료기관_Data/전처리_병원수_2023.csv', encoding = 'cp949')\n",
    "\n",
    "# 인구수\n",
    "population_2021_df = pd.read_csv(pre_root + '인구수_Data/전처리_인구수_2021.csv', encoding = 'cp949')\n",
    "population_2022_df = pd.read_csv(pre_root + '인구수_Data/전처리_인구수_2022.csv', encoding = 'cp949')\n",
    "population_2023_df = pd.read_csv(pre_root + '인구수_Data/전처리_인구수_2023.csv', encoding = 'cp949')\n",
    "\n",
    "# 주거실태 (거래량)\n",
    "volume_2021_df = pd.read_csv(pre_root + '주거실태_Data/전처리_거래량_2021.csv', encoding = 'cp949')\n",
    "volume_2022_df = pd.read_csv(pre_root + '주거실태_Data/전처리_거래량_2022.csv', encoding = 'cp949')\n",
    "volume_2023_df = pd.read_csv(pre_root + '주거실태_Data/전처리_거래량_2023.csv', encoding = 'cp949')\n",
    "\n",
    "# 주거실태\n",
    "abode_house_2021_df = pd.read_csv(pre_root + '주거실태_Data/전처리_주거실태_2021.csv', encoding = 'cp949')\n",
    "abode_house_2022_df = pd.read_csv(pre_root + '주거실태_Data/전처리_주거실태_2022.csv', encoding = 'cp949')\n",
    "abode_house_2023_df = pd.read_csv(pre_root + '주거실태_Data/전처리_주거실태_2023.csv', encoding = 'cp949')\n",
    "\n",
    "# 매매가격지수\n",
    "priceRelative_2021_df = pd.read_csv(pre_root + '수요공급_Data/전처리_매매가격지수_2021.csv', encoding = 'cp949')\n",
    "priceRelative_2022_df = pd.read_csv(pre_root + '수요공급_Data/전처리_매매가격지수_2022.csv', encoding = 'cp949')\n",
    "priceRelative_2023_df = pd.read_csv(pre_root + '수요공급_Data/전처리_매매가격지수_2023.csv', encoding = 'cp949')"
   ]
  },
  {
   "cell_type": "code",
   "execution_count": 5,
   "id": "51550a1e-0c2e-48bd-95e5-afc98a446e17",
   "metadata": {},
   "outputs": [],
   "source": [
    "'''\n",
    "                         /////--     데이터 병합 함수     --/////\n",
    "          공원, 버스, 지하철, 부동산, 개발계획, 수요공급, 유통업체, 의료기관, 인구수, 거래량\n",
    "'''\n",
    "def merge_year_dataFrame(park_df, bus_df, train_df, house_df, develop_df, demandSupply_df,\n",
    "                         distribute_df, hospital_df, population_df, volume_df,\n",
    "                         abode_house_df, priceRelative_df, year) :\n",
    "  # 공원\n",
    "  park_df = park_df[['구', '합계_공원수 (개소)']].rename(columns = {'합계_공원수 (개소)' : '합계_공원수'})\n",
    "  \n",
    "  # 버스\n",
    "  bus_df = bus_df['구'].value_counts().reset_index().rename(columns = {'count' : '버스 수'})\n",
    "  \n",
    "  # 지하철\n",
    "  train_df = train_df[['구', '역개수']]\n",
    "  \n",
    "  # 부동산\n",
    "  house_df = house_df[['구', '평균시세']]\n",
    "  \n",
    "  # 개발계획\n",
    "  develop_df = develop_df[['구', '계_구역수 (개)']].rename(columns = {'계_구역수 (개)' : '개발계획_합계'})\n",
    "  \n",
    "  # 수요공급\n",
    "  demandSupply_df = round(demandSupply_df.groupby('구')['수급등급'].mean(), 2).reset_index().rename(columns = {'수급등급' : '수요공급지수'})\n",
    "  \n",
    "  # 유통업체\n",
    "  distribute_df = distribute_df.iloc[1:, :].reset_index(drop = True)\n",
    "  condition = distribute_df.columns.str.contains('_개소') # 원하는 컬럼만 조회\n",
    "  condition[0] = True\n",
    "  distribute_df = distribute_df.loc[:, condition]\n",
    "  column_names = {} # 컬럼 이름 변경용 딕셔너리\n",
    "  columns = distribute_df.columns\n",
    "  for column in columns :\n",
    "    column_names[column] = column.split('_개소')[0]\n",
    "  distribute_df = distribute_df.rename(columns = column_names)\n",
    "  distribute_df = distribute_df.replace('-', 0)\n",
    "  \n",
    "  # 의료기관\n",
    "  hospital_df = hospital_df[['구', '소계_병원수']].rename(columns = {'소계_병원수' : '병원수'})\n",
    "  hospital_df = hospital_df.iloc[1:, :].reset_index(drop = True)\n",
    "  \n",
    "  # 인구수\n",
    "  population_df\n",
    "  \n",
    "  # 주거실태 (거래량)\n",
    "  volume_df = volume_df.drop(columns = '년도').rename(columns = {'동(호)수' : '거래량'})[['구', '거래량']]\n",
    "\n",
    "  # 주거실태\n",
    "  abode_house_df = abode_house_df.drop(columns = '년도')\n",
    "\n",
    "  # 매매가격지수 (증감률)\n",
    "  priceRelative_df = priceRelative_df.drop(columns = '원자료')\n",
    "\n",
    "  ### 데이터 병합\n",
    "  merge_df = house_df.merge(park_df, on = '구').merge(bus_df, on = '구').merge(train_df, on = '구')\n",
    "  merge_df = merge_df.merge(develop_df, on = '구').merge(demandSupply_df, on = '구')\n",
    "  merge_df = merge_df.merge(distribute_df, on = '구').merge(hospital_df, on = '구')\n",
    "  merge_df = merge_df.merge(population_df, on = '구').merge(volume_df, on = '구')\n",
    "  merge_df = merge_df.merge(abode_house_df, on = '구').merge(priceRelative_df, on = '구')\n",
    "\n",
    "  merge_df['연도'] = year\n",
    "\n",
    "  return merge_df\n",
    "\n",
    "                    #######                            #######\n",
    "                    ##  데이터프레임 데이터 타입 변환 함수  ##\n",
    "                    #######                            #######\n",
    "def df_to_float(df) : \n",
    "  df['대형마트'] = df['대형마트'].astype(float)\n",
    "  df['백화점'] = df['백화점'].astype(float)\n",
    "  df['전문점'] = df['전문점'].astype(float)\n",
    "  df['쇼핑센터'] = df['쇼핑센터'].astype(float)\n",
    "  df['복합쇼핑몰'] = df['복합쇼핑몰'].astype(float)\n",
    "  return df"
   ]
  },
  {
   "cell_type": "code",
   "execution_count": 6,
   "id": "2831fb77-cdf5-4b56-8b27-d9d7b904e86d",
   "metadata": {},
   "outputs": [],
   "source": [
    "'''\n",
    "                              /////--     데이터 병합     --/////\n",
    "          공원, 버스, 지하철, 부동산, 개발계획, 수요공급, 유통업체, 의료기관, 인구수, 거래량\n",
    "'''\n",
    "merge_year_2021 = merge_year_dataFrame(park_2021_df, bus_2021_df, train_2021_df, house_2021_df,\n",
    "                                       develop_2021_df, demandSupply_2021_df, distribute_2021_df,\n",
    "                                       hospital_2021_df, population_2021_df, volume_2021_df,\n",
    "                                       abode_house_2021_df, priceRelative_2021_df,\n",
    "                                       year = 2021)\n",
    "\n",
    "merge_year_2022 = merge_year_dataFrame(park_2022_df, bus_2022_df, train_2022_df, house_2022_df,\n",
    "                                       develop_2022_df, demandSupply_2022_df, distribute_2022_df,\n",
    "                                       hospital_2022_df, population_2022_df, volume_2022_df,\n",
    "                                       abode_house_2022_df, priceRelative_2022_df,\n",
    "                                       year = 2022)\n",
    "\n",
    "merge_year_2023 = merge_year_dataFrame(park_2023_df, bus_2023_df, train_2023_df, house_2023_df,\n",
    "                                       develop_2023_df, demandSupply_2023_df, distribute_2023_df,\n",
    "                                       hospital_2023_df, population_2023_df, volume_2023_df,\n",
    "                                       abode_house_2023_df, priceRelative_2023_df,\n",
    "                                       year = 2023)"
   ]
  },
  {
   "cell_type": "code",
   "execution_count": 7,
   "id": "d7ededd6-b363-496e-bee8-fee6990434f7",
   "metadata": {},
   "outputs": [
    {
     "name": "stdout",
     "output_type": "stream",
     "text": [
      "<class 'pandas.core.frame.DataFrame'>\n",
      "RangeIndex: 75 entries, 0 to 74\n",
      "Data columns (total 27 columns):\n",
      " #   Column     Non-Null Count  Dtype  \n",
      "---  ------     --------------  -----  \n",
      " 0   구          75 non-null     object \n",
      " 1   평균시세       75 non-null     float64\n",
      " 2   합계_공원수     75 non-null     int64  \n",
      " 3   버스 수       75 non-null     int64  \n",
      " 4   역개수        75 non-null     int64  \n",
      " 5   개발계획_합계    75 non-null     int64  \n",
      " 6   수요공급지수     75 non-null     float64\n",
      " 7   합계         75 non-null     int64  \n",
      " 8   대형마트       75 non-null     object \n",
      " 9   백화점        75 non-null     object \n",
      " 10  전문점        75 non-null     object \n",
      " 11  쇼핑센터       75 non-null     object \n",
      " 12  복합쇼핑몰      75 non-null     object \n",
      " 13  그밖의 대규모점포  75 non-null     int64  \n",
      " 14  병원수        75 non-null     int64  \n",
      " 15  총인구        75 non-null     int64  \n",
      " 16  내국인-계      75 non-null     int64  \n",
      " 17  외국인-계      75 non-null     int64  \n",
      " 18  거래량        75 non-null     int64  \n",
      " 19  계          75 non-null     int64  \n",
      " 20  단독주택       75 non-null     int64  \n",
      " 21  아파트        75 non-null     int64  \n",
      " 22  연립주택       75 non-null     int64  \n",
      " 23  다세대주택      75 non-null     int64  \n",
      " 24  비주거용주택     75 non-null     int64  \n",
      " 25  전기대비증감률    75 non-null     float64\n",
      " 26  연도         75 non-null     int64  \n",
      "dtypes: float64(3), int64(18), object(6)\n",
      "memory usage: 15.9+ KB\n"
     ]
    }
   ],
   "source": [
    "ai_concat = pd.concat([merge_year_2021, merge_year_2022, merge_year_2023], ignore_index = True)\n",
    "ai_concat.info()"
   ]
  },
  {
   "cell_type": "code",
   "execution_count": 8,
   "id": "b00d2973-8ef1-48b1-bad1-89c82d5849fa",
   "metadata": {},
   "outputs": [],
   "source": [
    "# 특정 데이터 타입 실수형으로 전환\n",
    "ai_concat = df_to_float(ai_concat)"
   ]
  },
  {
   "cell_type": "code",
   "execution_count": 9,
   "id": "1d450e6a-e5e5-4521-8c5c-73ccd37f8344",
   "metadata": {},
   "outputs": [],
   "source": [
    "# 평균시세 값을 천만원 단위로 변환\n",
    "# 평균시세 값이 너무 크면 오차도 너무 크게 나오기 때문\n",
    "ai_concat['평균시세'] = round(ai_concat['평균시세'] / 10000, 6)\n",
    "\n",
    "# 컬럼명을 '평균시세(천만원)'으로 변경\n",
    "ai_concat.rename(columns={'평균시세': '평균시세(천만원)'}, inplace=True)"
   ]
  },
  {
   "cell_type": "code",
   "execution_count": 36,
   "id": "a077823f-8578-4ef6-b678-ba0e7cb973bd",
   "metadata": {
    "scrolled": true
   },
   "outputs": [
    {
     "data": {
      "text/plain": [
       "Index(['구', '평균시세(천만원)', '합계_공원수', '버스 수', '역개수', '개발계획_합계', '수요공급지수', '합계',\n",
       "       '대형마트', '백화점', '전문점', '쇼핑센터', '복합쇼핑몰', '그밖의 대규모점포', '병원수', '총인구',\n",
       "       '내국인-계', '외국인-계', '거래량', '계', '단독주택', '아파트', '연립주택', '다세대주택', '비주거용주택',\n",
       "       '전기대비증감률', '연도'],\n",
       "      dtype='object')"
      ]
     },
     "execution_count": 36,
     "metadata": {},
     "output_type": "execute_result"
    }
   ],
   "source": [
    "ai_concat.columns"
   ]
  },
  {
   "cell_type": "code",
   "execution_count": 11,
   "id": "23157e1b-7d6a-4335-b374-a9c6ac005c14",
   "metadata": {},
   "outputs": [
    {
     "name": "stdout",
     "output_type": "stream",
     "text": [
      "훈련 데이터 크기: (60, 24) (60,)\n",
      "테스트 데이터 크기: (15, 24) (15,)\n"
     ]
    }
   ],
   "source": [
    "'''\n",
    "              ///////    선택 1)   21 ~ 23 년도 데이터를 전부 섞은 후    ///////\n",
    "                   8 : 2 비율로 무작위로 나눠서 훈련용, 테스트용으로 분리하기\n",
    "'''\n",
    "from sklearn.model_selection import train_test_split\n",
    "\n",
    "# 독립변수와 종속변수 분리\n",
    "X = ai_concat.drop(columns=['평균시세(천만원)', '구', '연도'])  # 종속변수와 제외할 컬럼 제거\n",
    "y = ai_concat['평균시세(천만원)']  # 종속변수\n",
    "\n",
    "# 데이터 분리: 80% 훈련용, 20% 테스트용\n",
    "X_train, X_test, y_train, y_test = train_test_split(X, y, test_size=0.2, random_state=42)\n",
    "\n",
    "# 확인\n",
    "print(\"훈련 데이터 크기:\", X_train.shape, y_train.shape)\n",
    "print(\"테스트 데이터 크기:\", X_test.shape, y_test.shape)"
   ]
  },
  {
   "cell_type": "code",
   "execution_count": 12,
   "id": "6f83a475-774a-4912-a030-5ae63fea49ae",
   "metadata": {},
   "outputs": [
    {
     "name": "stdout",
     "output_type": "stream",
     "text": [
      "훈련 데이터 크기: (50, 24) (50,)\n",
      "테스트 데이터 크기: (25, 24) (25,)\n"
     ]
    }
   ],
   "source": [
    "'''\n",
    "              ///////    선택 2)   21 ~ 22 년도 데이터를 테스트 용으로    ///////\n",
    "                            23 년도 데이터를 훈련용으로 분리하기\n",
    "'''\n",
    "# 훈련용 데이터 : 2021, 2022\n",
    "train_data = ai_concat[ai_concat['연도'] < 2023]\n",
    "\n",
    "# 테스트용 데이터 : 2023\n",
    "test_data = ai_concat[ai_concat['연도'] == 2023]\n",
    "\n",
    "# X, y 분리\n",
    "X_train = train_data.drop(['평균시세(천만원)', '구', '연도'], axis = 1)\n",
    "y_train = train_data['평균시세(천만원)']\n",
    "\n",
    "X_test = test_data.drop(['평균시세(천만원)', '구', '연도'], axis = 1)\n",
    "y_test = test_data['평균시세(천만원)']\n",
    "\n",
    "# 확인\n",
    "print(\"훈련 데이터 크기:\", X_train.shape, y_train.shape)\n",
    "print(\"테스트 데이터 크기:\", X_test.shape, y_test.shape)"
   ]
  },
  {
   "cell_type": "code",
   "execution_count": 52,
   "id": "d9a31aa9-24c6-466b-a687-208b0afa35af",
   "metadata": {},
   "outputs": [],
   "source": [
    "# 불필요한 변수 제거\n",
    "ai_concat = ai_concat.drop(columns=[\"합계\", \"총인구\", '총 주택 합계'], errors=\"ignore\")\n",
    "\n",
    "# 파생변수 생성\n",
    "ai_concat[\"1인당_공원수\"] = ai_concat[\"합계_공원수\"] / ai_concat[\"내국인-계\"]\n",
    "ai_concat[\"1인당_병원수\"] = ai_concat[\"병원수\"] / ai_concat[\"내국인-계\"]\n",
    "ai_concat[\"1인당_유통시설\"] = (ai_concat[\"대형마트\"] + ai_concat[\"백화점\"] + ai_concat[\"전문점\"] + ai_concat[\"쇼핑센터\"] + ai_concat[\"복합쇼핑몰\"]) / ai_concat[\"내국인-계\"]\n",
    "ai_concat['교통 접근성'] = (ai_concat['버스 수'] + ai_concat['역개수']) / ai_concat['거래량'] # 교통 인프라와 주택거래의 상관관계 확인 (교통 접근성)"
   ]
  },
  {
   "cell_type": "code",
   "execution_count": 154,
   "id": "3cb14dd2-086d-4977-b736-4cd4bc734ec9",
   "metadata": {
    "scrolled": true
   },
   "outputs": [
    {
     "data": {
      "text/plain": [
       "Index(['구', '평균시세(천만원)', '합계_공원수', '버스 수', '역개수', '개발계획_합계', '수요공급지수', '대형마트',\n",
       "       '백화점', '전문점', '쇼핑센터', '복합쇼핑몰', '그밖의 대규모점포', '병원수', '내국인-계', '외국인-계',\n",
       "       '거래량', '계', '단독주택', '아파트', '연립주택', '다세대주택', '비주거용주택', '전기대비증감률', '연도',\n",
       "       '1인당_공원수', '1인당_병원수', '1인당_유통시설', '교통 접근성'],\n",
       "      dtype='object')"
      ]
     },
     "execution_count": 154,
     "metadata": {},
     "output_type": "execute_result"
    }
   ],
   "source": [
    "ai_concat.columns"
   ]
  },
  {
   "cell_type": "code",
   "execution_count": 56,
   "id": "47e76c01-4469-419a-9a7d-b8bcc06dc303",
   "metadata": {
    "scrolled": true
   },
   "outputs": [
    {
     "data": {
      "image/png": "[encoded data removed]",
      "text/plain": [
       "<Figure size 1000x600 with 1 Axes>"
      ]
     },
     "metadata": {},
     "output_type": "display_data"
    }
   ],
   "source": [
    "plt.figure(figsize=(10, 6))\n",
    "plt.bar(ai_concat['구'], ai_concat['교통 접근성'], color='red', alpha=0.7)\n",
    "plt.xticks(rotation=45)\n",
    "plt.xlabel(\"구\")\n",
    "plt.ylabel(\"교통 접근성\")\n",
    "plt.title(\"테스트 데이터: 교통 접근성\")\n",
    "plt.tight_layout()\n",
    "plt.grid(alpha=0.3)\n",
    "plt.show()"
   ]
  },
  {
   "cell_type": "code",
   "execution_count": 50,
   "id": "e7c2ea76-6bb2-4080-b910-52d02b2bdcd1",
   "metadata": {},
   "outputs": [
    {
     "data": {
      "text/plain": [
       "0     20748\n",
       "1     13813\n",
       "2      7839\n",
       "3     20483\n",
       "4      8169\n",
       "      ...  \n",
       "70     3241\n",
       "71     7692\n",
       "72     2600\n",
       "73     3253\n",
       "74     4781\n",
       "Name: 거래량, Length: 75, dtype: int64"
      ]
     },
     "metadata": {},
     "output_type": "display_data"
    }
   ],
   "source": [
    "'''\n",
    "거래량과 집값 상승 사이에 관계가 있는가 ?\n",
    "\n",
    "연도별 데이터 그룹화 하여 평균시세 (천만원), 총거래량, 평균 거래량 계산\n",
    "\n",
    "선 그래프 : X축=연도,  Y축=평균시세 , 2차Y축=평균거래량  두 변수 동시에 시각화하면 시세 상승과 거래량 관계 파악 용이\n",
    "\n",
    "'''"
   ]
  },
  {
   "cell_type": "code",
   "execution_count": 156,
   "id": "b1398c02-209f-469c-925f-ed108c3ee1a8",
   "metadata": {},
   "outputs": [
    {
     "data": {
      "text/html": [
       "<div>\n",
       "<style scoped>\n",
       "    .dataframe tbody tr th:only-of-type {\n",
       "        vertical-align: middle;\n",
       "    }\n",
       "\n",
       "    .dataframe tbody tr th {\n",
       "        vertical-align: top;\n",
       "    }\n",
       "\n",
       "    .dataframe thead th {\n",
       "        text-align: right;\n",
       "    }\n",
       "</style>\n",
       "<table border=\"1\" class=\"dataframe\">\n",
       "  <thead>\n",
       "    <tr style=\"text-align: right;\">\n",
       "      <th></th>\n",
       "      <th>연도</th>\n",
       "      <th>평균시세</th>\n",
       "      <th>총거래량</th>\n",
       "      <th>평균거래량</th>\n",
       "      <th>거래량 변화율 (%)</th>\n",
       "      <th>시세 변화율 (%)</th>\n",
       "    </tr>\n",
       "  </thead>\n",
       "  <tbody>\n",
       "    <tr>\n",
       "      <th>0</th>\n",
       "      <td>2021</td>\n",
       "      <td>6.659500</td>\n",
       "      <td>282891</td>\n",
       "      <td>11315.64</td>\n",
       "      <td>0.000000</td>\n",
       "      <td>0.000000</td>\n",
       "    </tr>\n",
       "    <tr>\n",
       "      <th>1</th>\n",
       "      <td>2022</td>\n",
       "      <td>6.113578</td>\n",
       "      <td>156258</td>\n",
       "      <td>6250.32</td>\n",
       "      <td>-44.763884</td>\n",
       "      <td>-8.197633</td>\n",
       "    </tr>\n",
       "    <tr>\n",
       "      <th>2</th>\n",
       "      <td>2023</td>\n",
       "      <td>7.649737</td>\n",
       "      <td>159000</td>\n",
       "      <td>6360.00</td>\n",
       "      <td>1.754790</td>\n",
       "      <td>25.126989</td>\n",
       "    </tr>\n",
       "  </tbody>\n",
       "</table>\n",
       "</div>"
      ],
      "text/plain": [
       "     연도      평균시세    총거래량     평균거래량  거래량 변화율 (%)  시세 변화율 (%)\n",
       "0  2021  6.659500  282891  11315.64     0.000000    0.000000\n",
       "1  2022  6.113578  156258   6250.32   -44.763884   -8.197633\n",
       "2  2023  7.649737  159000   6360.00     1.754790   25.126989"
      ]
     },
     "metadata": {},
     "output_type": "display_data"
    }
   ],
   "source": [
    "'''\n",
    "연도별 거래량과 집값 상승 상관관계\n",
    "'''\n",
    "trade = ai_concat.groupby('연도').agg(평균시세=('평균시세(천만원)',\"mean\"), 총거래량=('거래량','sum'),평균거래량=('거래량','mean')).reset_index()\n",
    "\n",
    "# 거래량, 시세 변화율\n",
    "trade['거래량 변화율 (%)'] = trade['총거래량'].pct_change() * 100\n",
    "trade['시세 변화율 (%)'] = trade['평균시세'].pct_change() * 100\n",
    "trade.fillna(0, inplace=True)\n",
    "\n",
    "display(trade)"
   ]
  },
  {
   "cell_type": "code",
   "execution_count": 144,
   "id": "1c2e173b-9376-4f3c-bd0c-de7de9e549eb",
   "metadata": {},
   "outputs": [
    {
     "name": "stdout",
     "output_type": "stream",
     "text": [
      "상관관계 분석 결과\n"
     ]
    },
    {
     "data": {
      "text/html": [
       "<div>\n",
       "<style scoped>\n",
       "    .dataframe tbody tr th:only-of-type {\n",
       "        vertical-align: middle;\n",
       "    }\n",
       "\n",
       "    .dataframe tbody tr th {\n",
       "        vertical-align: top;\n",
       "    }\n",
       "\n",
       "    .dataframe thead th {\n",
       "        text-align: right;\n",
       "    }\n",
       "</style>\n",
       "<table border=\"1\" class=\"dataframe\">\n",
       "  <thead>\n",
       "    <tr style=\"text-align: right;\">\n",
       "      <th></th>\n",
       "      <th>평균시세</th>\n",
       "      <th>총거래량</th>\n",
       "      <th>교통 접근성 평균</th>\n",
       "    </tr>\n",
       "  </thead>\n",
       "  <tbody>\n",
       "    <tr>\n",
       "      <th>평균시세</th>\n",
       "      <td>1.000000</td>\n",
       "      <td>-0.145986</td>\n",
       "      <td>0.280606</td>\n",
       "    </tr>\n",
       "    <tr>\n",
       "      <th>총거래량</th>\n",
       "      <td>-0.145986</td>\n",
       "      <td>1.000000</td>\n",
       "      <td>-0.990505</td>\n",
       "    </tr>\n",
       "    <tr>\n",
       "      <th>교통 접근성 평균</th>\n",
       "      <td>0.280606</td>\n",
       "      <td>-0.990505</td>\n",
       "      <td>1.000000</td>\n",
       "    </tr>\n",
       "  </tbody>\n",
       "</table>\n",
       "</div>"
      ],
      "text/plain": [
       "               평균시세      총거래량  교통 접근성 평균\n",
       "평균시세       1.000000 -0.145986   0.280606\n",
       "총거래량      -0.145986  1.000000  -0.990505\n",
       "교통 접근성 평균  0.280606 -0.990505   1.000000"
      ]
     },
     "metadata": {},
     "output_type": "display_data"
    }
   ],
   "source": [
    "'''\n",
    "교통 접근성과 시세,거래량 상관관계\n",
    "'''\n",
    "traffic = ai_concat.groupby('연도')['교통 접근성'].mean()\n",
    "trade = trade.merge(traffic.rename('교통 접근성 평균'), left_on='연도', right_index=True)\n",
    "\n",
    "# 상관관계 분석\n",
    "corr_matrix = trade[['평균시세','총거래량','교통 접근성 평균']].corr()\n",
    "print('상관관계 분석 결과')\n",
    "display(corr_matrix)"
   ]
  },
  {
   "cell_type": "code",
   "execution_count": 145,
   "id": "47908d12-056e-4d54-a6a5-2e99b83d6589",
   "metadata": {},
   "outputs": [
    {
     "data": {
      "image/png": "[encoded data removed]",
      "text/plain": [
       "<Figure size 640x480 with 2 Axes>"
      ]
     },
     "metadata": {},
     "output_type": "display_data"
    }
   ],
   "source": [
    "'''\n",
    "연도별 거래량과 집값 상승 상관관계 시각화\n",
    "'''\n",
    "# 선그래프 : 평균시세\n",
    "plt.subplot(1, 2, 1) # 1행 2열 중 첫번째\n",
    "plt.plot(trade['연도'], trade['평균시세'], marker='o', color='blue', label='평균시세')\n",
    "plt.title('연도별 평균시세 변화', fontsize=14)\n",
    "plt.xlabel('연도', fontsize=12)\n",
    "plt.ylabel('평균시세 (천만원)', fontsize=12)\n",
    "plt.grid(True, linestyle='--', alpha=0.5)\n",
    "plt.legend()\n",
    "\n",
    "# 바 차트: 총 거래량\n",
    "plt.subplot(1, 2, 2)  # 1행 2열 중 두 번째\n",
    "plt.bar(trade[\"연도\"], trade[\"총거래량\"], color='orange', alpha=0.7, label='총거래량')\n",
    "plt.title('연도별 총거래량 변화', fontsize=14)\n",
    "plt.xlabel('연도', fontsize=12)\n",
    "plt.ylabel('총거래량', fontsize=12)\n",
    "plt.legend()\n",
    "\n",
    "plt.tight_layout()\n",
    "plt.show()"
   ]
  },
  {
   "cell_type": "code",
   "execution_count": 152,
   "id": "a545b0c8-6d7d-4f8b-bc28-a38ade00f283",
   "metadata": {},
   "outputs": [
    {
     "name": "stdout",
     "output_type": "stream",
     "text": [
      "상관관계 분석 결과\n"
     ]
    },
    {
     "data": {
      "text/html": [
       "<div>\n",
       "<style scoped>\n",
       "    .dataframe tbody tr th:only-of-type {\n",
       "        vertical-align: middle;\n",
       "    }\n",
       "\n",
       "    .dataframe tbody tr th {\n",
       "        vertical-align: top;\n",
       "    }\n",
       "\n",
       "    .dataframe thead th {\n",
       "        text-align: right;\n",
       "    }\n",
       "</style>\n",
       "<table border=\"1\" class=\"dataframe\">\n",
       "  <thead>\n",
       "    <tr style=\"text-align: right;\">\n",
       "      <th></th>\n",
       "      <th>평균시세</th>\n",
       "      <th>총거래량</th>\n",
       "      <th>교통 접근성 평균</th>\n",
       "    </tr>\n",
       "  </thead>\n",
       "  <tbody>\n",
       "    <tr>\n",
       "      <th>평균시세</th>\n",
       "      <td>1.000000</td>\n",
       "      <td>-0.145986</td>\n",
       "      <td>0.280606</td>\n",
       "    </tr>\n",
       "    <tr>\n",
       "      <th>총거래량</th>\n",
       "      <td>-0.145986</td>\n",
       "      <td>1.000000</td>\n",
       "      <td>-0.990505</td>\n",
       "    </tr>\n",
       "    <tr>\n",
       "      <th>교통 접근성 평균</th>\n",
       "      <td>0.280606</td>\n",
       "      <td>-0.990505</td>\n",
       "      <td>1.000000</td>\n",
       "    </tr>\n",
       "  </tbody>\n",
       "</table>\n",
       "</div>"
      ],
      "text/plain": [
       "               평균시세      총거래량  교통 접근성 평균\n",
       "평균시세       1.000000 -0.145986   0.280606\n",
       "총거래량      -0.145986  1.000000  -0.990505\n",
       "교통 접근성 평균  0.280606 -0.990505   1.000000"
      ]
     },
     "metadata": {},
     "output_type": "display_data"
    },
    {
     "data": {
      "image/png": "[encoded data removed]",
      "text/plain": [
       "<Figure size 800x600 with 2 Axes>"
      ]
     },
     "metadata": {},
     "output_type": "display_data"
    }
   ],
   "source": [
    "# 상관관계 행렬 출력\n",
    "print('상관관계 분석 결과')\n",
    "display(corr_matrix)\n",
    "\n",
    "# 히트맵 시각화\n",
    "plt.figure(figsize=(8, 6))\n",
    "sns.heatmap(corr_matrix, annot=True, fmt='.2f', cmap='coolwarm', vmin=-1, vmax=1, square=True)\n",
    "plt.title('상관관계 히트맵')\n",
    "plt.show()"
   ]
  },
  {
   "cell_type": "code",
   "execution_count": null,
   "id": "89d7c66f-79a8-4b86-a322-49e58ade9926",
   "metadata": {},
   "outputs": [],
   "source": []
  },
  {
   "cell_type": "code",
   "execution_count": null,
   "id": "652ca3fd-aa30-48c2-9dc3-1ff933bdefda",
   "metadata": {},
   "outputs": [],
   "source": []
  },
  {
   "cell_type": "code",
   "execution_count": null,
   "id": "9ecf5aee-05c2-4824-9601-d2e45c3973b9",
   "metadata": {},
   "outputs": [],
   "source": []
  },
  {
   "cell_type": "code",
   "execution_count": null,
   "id": "a1006fba-32d3-40c6-a901-abf0291dd993",
   "metadata": {},
   "outputs": [],
   "source": []
  },
  {
   "cell_type": "code",
   "execution_count": null,
   "id": "fbb26215-4443-46ce-9244-e6629a74f0ca",
   "metadata": {},
   "outputs": [],
   "source": []
  },
  {
   "cell_type": "code",
   "execution_count": null,
   "id": "5d80ff80-76ef-4679-af88-a5d55f02d97a",
   "metadata": {},
   "outputs": [],
   "source": []
  },
  {
   "cell_type": "code",
   "execution_count": null,
   "id": "56ff0bf0-1eaa-4032-bd86-c3da7dffbc77",
   "metadata": {},
   "outputs": [],
   "source": []
  }
 ],
 "metadata": {
  "kernelspec": {
   "display_name": "Python 3 (ipykernel)",
   "language": "python",
   "name": "python3"
  },
  "language_info": {
   "codemirror_mode": {
    "name": "ipython",
    "version": 3
   },
   "file_extension": ".py",
   "mimetype": "text/x-python",
   "name": "python",
   "nbconvert_exporter": "python",
   "pygments_lexer": "ipython3",
   "version": "3.12.3"
  }
 },
 "nbformat": 4,
 "nbformat_minor": 5
}
