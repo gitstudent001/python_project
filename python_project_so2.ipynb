{
 "cells": [
  {
   "cell_type": "code",
   "execution_count": null,
   "id": "0ddbbea2-b6a7-4f7f-a8bf-f4cdbfc4678f",
   "metadata": {},
   "outputs": [],
   "source": [
    "import pandas as pd\n",
    "import numpy as np\n",
    "import warnings\n",
    "warnings.filterwarnings('ignore')\n",
    "import seaborn as sns\n",
    "import matplotlib.pyplot as plt\n",
    "%matplotlib inline\n",
    "# 한글 설정\n",
    "# pip install koreanize_matplotlib\n",
    "plt.rc('font', family='Malgun Gothic')\n",
    "plt.rc('axes', unicode_minus=False)\n",
    "# root = 'C:/workspace/python/project/data/'\n",
    "root = 'G:/workspace/python/python_project/data/'\n",
    "\n",
    "# 구글드라이브 : https://drive.google.com/drive/folders/1zIzm1o8-3uxcWSU2DoWpB8aV0Oxdfz_P?usp=sharing"
   ]
  },
  {
   "cell_type": "code",
   "execution_count": null,
   "id": "ee64353f-231a-4a6d-a859-d0e6c7c002c8",
   "metadata": {},
   "outputs": [],
   "source": [
    "'''\n",
    "주거실태 데이터 프레임\n",
    "\n",
    "국가통계포털 > 검색 (주택의 종류별 주택)\n",
    "https://kosis.kr/search/search.do\n",
    "https://kosis.kr/search/search.do;jsessionid=Ptk5Fb2aTBhtchTbG153Wf14awChdrNQHCT1gkY59HZ8gh6iv5J4VjNkZUkPQzZJ.STAT_SIGA2_servlet_engine1\n",
    "'''\n",
    "abode_house_category = pd.read_csv(root + '주거실태_Data/주택의_종류별_주택__읍면동_연도_끝자리_0__5___시군구_그_외_연도__20241120174542.csv', encoding = 'cp949')"
   ]
  },
  {
   "cell_type": "code",
   "execution_count": null,
   "id": "db98a20c-e987-47cf-9b67-da47715dfc97",
   "metadata": {},
   "outputs": [],
   "source": [
    "# 주거실태 정보 확인\n",
    "abode_house_category.info()"
   ]
  },
  {
   "cell_type": "code",
   "execution_count": null,
   "id": "12270b87-5c45-471e-9590-a796b78d6520",
   "metadata": {},
   "outputs": [],
   "source": [
    "'''\n",
    "0 행 삭제 클래스\n",
    "'''\n",
    "class ManagedDataFrame:\n",
    "    def __init__(self, name, df):\n",
    "        self.name = name\n",
    "        self.df = df\n",
    "        self.row_deleted = False  # 플래그 초기화\n",
    "\n",
    "    def delete_row_once(self):\n",
    "        if not self.row_deleted and 0 in self.df.index:\n",
    "            self.df = self.df.drop(0)\n",
    "            self.row_deleted = True\n",
    "            print(f\"{self.name}: 0행이 삭제되었습니다.\")\n",
    "        else:\n",
    "            print(f\"{self.name}: 삭제 작업이 이미 완료되었거나 0행이 없습니다.\")\n",
    "\n",
    "    # 객체 출력 시 사용자 정의 내용 반환\n",
    "    def __repr__(self):\n",
    "        return f\"ManagedDataFrame(name={self.name}, row_deleted={self.row_deleted}, df=\\n{self.df}\\n)\""
   ]
  },
  {
   "cell_type": "code",
   "execution_count": null,
   "id": "f861e385-03dc-465a-9960-862f8266fdde",
   "metadata": {},
   "outputs": [],
   "source": [
    "abode_house_category[:10]"
   ]
  },
  {
   "cell_type": "code",
   "execution_count": null,
   "id": "de5bfa39-dd97-48ff-98c1-a9f5b73ad99b",
   "metadata": {},
   "outputs": [],
   "source": [
    "category_2021 = abode_house_category.columns.str.contains('2021')\n",
    "category_2021[0] = True\n",
    "\n",
    "category_2022 = abode_house_category.columns.str.contains('2022')\n",
    "category_2022[0] = True\n",
    "\n",
    "category_2023 = abode_house_category.columns.str.contains('2023')\n",
    "category_2023[0] = True"
   ]
  },
  {
   "cell_type": "code",
   "execution_count": null,
   "id": "c6557a8c-10a4-4cba-850d-3f8167923a1b",
   "metadata": {},
   "outputs": [],
   "source": [
    "abode_house_category_2021_df = abode_house_category.loc[:, category_2021]\n",
    "abode_house_category_2022_df = abode_house_category.loc[:, category_2022]\n",
    "abode_house_category_2023_df = abode_house_category.loc[:, category_2023]\n",
    "\n",
    "house_col_2021 = abode_house_category_2021_df.loc[0].values\n",
    "house_col_2022 = abode_house_category_2022_df.loc[0].values\n",
    "house_col_2023 = abode_house_category_2023_df.loc[0].values\n",
    "\n",
    "abode_house_category_2021_df.columns = house_col_2021\n",
    "abode_house_category_2022_df.columns = house_col_2022\n",
    "abode_house_category_2023_df.columns = house_col_2023\n",
    "\n",
    "display(abode_house_category_2021_df[:3])\n",
    "display(abode_house_category_2022_df[:3])\n",
    "display(abode_house_category_2023_df[:3])"
   ]
  },
  {
   "cell_type": "code",
   "execution_count": null,
   "id": "886348ce-11fe-46e7-8e29-2798c0c6123f",
   "metadata": {},
   "outputs": [],
   "source": [
    "abode_house_category_2021_df = ManagedDataFrame('abode_house_category_2021', abode_house_category_2021_df)\n",
    "abode_house_category_2022_df = ManagedDataFrame('abode_house_category_2022', abode_house_category_2022_df)\n",
    "abode_house_category_2023_df = ManagedDataFrame('abode_house_category_2023', abode_house_category_2023_df)\n",
    "\n",
    "abode_house_category_2021_df.delete_row_once()\n",
    "abode_house_category_2022_df.delete_row_once()\n",
    "abode_house_category_2023_df.delete_row_once()"
   ]
  },
  {
   "cell_type": "code",
   "execution_count": null,
   "id": "483c1c09-4539-4b3c-be63-fbb5b6586f78",
   "metadata": {},
   "outputs": [],
   "source": [
    "abode_house_category_2021_df = abode_house_category_2021_df.df\n",
    "abode_house_category_2022_df = abode_house_category_2022_df.df\n",
    "abode_house_category_2023_df = abode_house_category_2023_df.df"
   ]
  },
  {
   "cell_type": "code",
   "execution_count": null,
   "id": "e5a3947e-05eb-4449-9ecf-a51b39a5c1bd",
   "metadata": {},
   "outputs": [],
   "source": [
    "abode_house_category_2021_df.columns"
   ]
  },
  {
   "cell_type": "code",
   "execution_count": null,
   "id": "836401e6-70c2-4ceb-b185-e1b8fb0e43d3",
   "metadata": {},
   "outputs": [],
   "source": [
    "abode_house_category_2021_df[:5]"
   ]
  },
  {
   "cell_type": "code",
   "execution_count": null,
   "id": "7845b260-998a-40bc-8f9d-46b294704e2a",
   "metadata": {},
   "outputs": [],
   "source": [
    "abode_house_category_2022_df[:5]"
   ]
  },
  {
   "cell_type": "code",
   "execution_count": null,
   "id": "0290da69-5fb2-435a-8018-3dbdcdd9869b",
   "metadata": {},
   "outputs": [],
   "source": [
    "abode_house_category_2023_df[:5]"
   ]
  },
  {
   "cell_type": "code",
   "execution_count": null,
   "id": "f5ed5feb-16f4-4500-bc06-c20dcfb4a2aa",
   "metadata": {},
   "outputs": [],
   "source": [
    "abode_house_category_2021_df = abode_house_category_2021_df.rename(columns={'행정구역별(읍면동)':'구'})\n",
    "abode_house_category_2022_df = abode_house_category_2022_df.rename(columns={'행정구역별(읍면동)':'구'})\n",
    "abode_house_category_2023_df = abode_house_category_2023_df.rename(columns={'행정구역별(읍면동)':'구'})"
   ]
  },
  {
   "cell_type": "code",
   "execution_count": null,
   "id": "2138a94b-a58e-4aef-88d9-c520b41357a6",
   "metadata": {},
   "outputs": [],
   "source": [
    "'''\n",
    "def drop_columns_once(df, column_names):\n",
    "    if not hasattr(drop_columns_once, \"executed\"):\n",
    "        drop_columns_once.executed = False\n",
    "\n",
    "    if not drop_columns_once.executed:\n",
    "        # 컬럼 삭제\n",
    "        result = df.drop(columns=column_names)\n",
    "        drop_columns_once.executed = True\n",
    "        return result\n",
    "    else:\n",
    "        print(\"This function can only be executed once.\")\n",
    "        return df\n",
    "'''"
   ]
  },
  {
   "cell_type": "code",
   "execution_count": null,
   "id": "81b30a5e-8ce5-4abd-bb59-c43eb3f1c9dc",
   "metadata": {},
   "outputs": [],
   "source": [
    "abode_house_category_2021_df = abode_house_category_2021_df.drop(columns=[\"단독주택-일반\", \"단독주택-다가구\", \"단독주택-영업겸용\"])\n",
    "abode_house_category_2022_df = abode_house_category_2022_df.drop(columns=[\"단독주택-일반\", \"단독주택-다가구\", \"단독주택-영업겸용\"])\n",
    "abode_house_category_2023_df = abode_house_category_2023_df.drop(columns=[\"단독주택-일반\", \"단독주택-다가구\", \"단독주택-영업겸용\"])"
   ]
  },
  {
   "cell_type": "code",
   "execution_count": null,
   "id": "d6e1f61b-7bda-4fa6-a84e-f706e0bdb517",
   "metadata": {},
   "outputs": [],
   "source": [
    "abode_house_category_2021_df = abode_house_category_2021_df.rename(columns={'주택':'계'})\n",
    "abode_house_category_2022_df = abode_house_category_2022_df.rename(columns={'주택':'계'})\n",
    "abode_house_category_2023_df = abode_house_category_2023_df.rename(columns={'주택':'계'})\n",
    "\n",
    "abode_house_category_2021_df = abode_house_category_2021_df.rename(columns={'단독주택-계':'단독주택'})\n",
    "abode_house_category_2022_df = abode_house_category_2022_df.rename(columns={'단독주택-계':'단독주택'})\n",
    "abode_house_category_2023_df = abode_house_category_2023_df.rename(columns={'단독주택-계':'단독주택'})\n",
    "\n",
    "abode_house_category_2021_df = abode_house_category_2021_df.rename(columns={'비주거용 건물 내 주택':'비주거용주택'})\n",
    "abode_house_category_2022_df = abode_house_category_2022_df.rename(columns={'비주거용 건물 내 주택':'비주거용주택'})\n",
    "abode_house_category_2023_df = abode_house_category_2023_df.rename(columns={'비주거용 건물 내 주택':'비주거용주택'})"
   ]
  },
  {
   "cell_type": "code",
   "execution_count": null,
   "id": "a5fb67c0-cf6a-49fe-9f36-fe46d6923cdf",
   "metadata": {},
   "outputs": [],
   "source": [
    "display(abode_house_category_2021_df)"
   ]
  },
  {
   "cell_type": "code",
   "execution_count": null,
   "id": "b64a7ab1-fafe-4f9e-bc7e-3b9ae0e05f3a",
   "metadata": {},
   "outputs": [],
   "source": [
    "display(abode_house_category_2022_df)"
   ]
  },
  {
   "cell_type": "code",
   "execution_count": null,
   "id": "807be171-fde3-4a3d-aef6-1b93e13a7b45",
   "metadata": {},
   "outputs": [],
   "source": [
    "display(abode_house_category_2023_df)"
   ]
  },
  {
   "cell_type": "code",
   "execution_count": null,
   "id": "aace9dee-cc20-4875-b486-c01a6b44c32d",
   "metadata": {},
   "outputs": [],
   "source": [
    "abode_house_category_2021_df['계']           = abode_house_category_2021_df['계'].astype(int)\n",
    "abode_house_category_2021_df['단독주택']     = abode_house_category_2021_df['단독주택'].astype(int)\n",
    "abode_house_category_2021_df['아파트']       = abode_house_category_2021_df['아파트'].astype(int)\n",
    "abode_house_category_2021_df['연립주택']     = abode_house_category_2021_df['연립주택'].astype(int)\n",
    "abode_house_category_2021_df['다세대주택']   = abode_house_category_2021_df['다세대주택'].astype(int)\n",
    "abode_house_category_2021_df['비주거용주택'] = abode_house_category_2021_df['비주거용주택'].astype(int)"
   ]
  },
  {
   "cell_type": "code",
   "execution_count": null,
   "id": "44900bde-3efa-41ff-befe-a99ba2f63433",
   "metadata": {},
   "outputs": [],
   "source": [
    "abode_house_category_2022_df['계']           = abode_house_category_2022_df['계'].astype(int)\n",
    "abode_house_category_2022_df['단독주택']     = abode_house_category_2022_df['단독주택'].astype(int)\n",
    "abode_house_category_2022_df['아파트']       = abode_house_category_2022_df['아파트'].astype(int)\n",
    "abode_house_category_2022_df['연립주택']     = abode_house_category_2022_df['연립주택'].astype(int)\n",
    "abode_house_category_2022_df['다세대주택']   = abode_house_category_2022_df['다세대주택'].astype(int)\n",
    "abode_house_category_2022_df['비주거용주택'] = abode_house_category_2022_df['비주거용주택'].astype(int)"
   ]
  },
  {
   "cell_type": "code",
   "execution_count": null,
   "id": "34327961-325a-4226-a5b0-3004d79f9388",
   "metadata": {},
   "outputs": [],
   "source": [
    "abode_house_category_2023_df['계']           = abode_house_category_2023_df['계'].astype(int)\n",
    "abode_house_category_2023_df['단독주택']     = abode_house_category_2023_df['단독주택'].astype(int)\n",
    "abode_house_category_2023_df['아파트']       = abode_house_category_2023_df['아파트'].astype(int)\n",
    "abode_house_category_2023_df['연립주택']     = abode_house_category_2023_df['연립주택'].astype(int)\n",
    "abode_house_category_2023_df['다세대주택']   = abode_house_category_2023_df['다세대주택'].astype(int)\n",
    "abode_house_category_2023_df['비주거용주택'] = abode_house_category_2023_df['비주거용주택'].astype(int)"
   ]
  },
  {
   "cell_type": "code",
   "execution_count": null,
   "id": "027fb00f-f3cb-41ae-a720-f24a48f2b877",
   "metadata": {},
   "outputs": [],
   "source": [
    "abode_house_category_2021_df[:5]\n",
    "abode_house_category_2022_df[:5]\n",
    "abode_house_category_2023_df[:5]"
   ]
  },
  {
   "cell_type": "code",
   "execution_count": null,
   "id": "8d1ddf4e-4729-4a96-9bb8-f1bdaf17dd94",
   "metadata": {},
   "outputs": [],
   "source": [
    "# 그래프 시각화\n",
    "fig, ax = plt.subplots(figsize=(10, 6))\n",
    "\n",
    "# 막대그래프 그리기\n",
    "categories = ['단독주택', '아파트', '연립주택', '다세대주택', '비주거용주택']\n",
    "colors = ['#FF9999', '#66B2FF', '#99FF99', '#FFD700', '#CDB79E']\n",
    "\n",
    "df = abode_house_category_2021_df\n",
    "\n",
    "# 누적 막대그래프 생성\n",
    "bottom_values = None\n",
    "for i, category in enumerate(categories):\n",
    "    ax.bar(df['구'], df[category], label=category, bottom=bottom_values, color=colors[i])\n",
    "    bottom_values = df[category] if bottom_values is None else bottom_values + df[category]\n",
    "\n",
    "# 그래프 꾸미기\n",
    "ax.set_title('서울특별시 및 각 구별 주택 유형 분포 (누적)', fontsize=12)\n",
    "ax.set_xlabel('구', fontsize=12)\n",
    "ax.set_ylabel('주택 수', fontsize=12)\n",
    "ax.legend(title='주택 유형')\n",
    "ax.grid(axis='y', linestyle='--', alpha=0.7)\n",
    "\n",
    "# X축 레이블 각도 설정\n",
    "plt.xticks(rotation=45, ha='right')  # 각도 45도, 오른쪽 정렬\n",
    "\n",
    "# 출력\n",
    "plt.tight_layout()\n",
    "plt.show()"
   ]
  },
  {
   "cell_type": "code",
   "execution_count": null,
   "id": "18b003ef-4963-4e87-b499-4731c0b4f067",
   "metadata": {},
   "outputs": [],
   "source": [
    "df_2021 = pd.DataFrame(abode_house_category_2021_df)\n",
    "df_2021['년도'] = 2021\n",
    "df_2022 = pd.DataFrame(abode_house_category_2022_df)\n",
    "df_2022['년도'] = 2022\n",
    "df_2023 = pd.DataFrame(abode_house_category_2023_df)\n",
    "df_2023['년도'] = 2023\n",
    "\n",
    "# 데이터프레임 병합\n",
    "df_combined = pd.concat([df_2021, df_2022, df_2023], ignore_index=True)\n",
    "# 결과 확인\n",
    "print(df_combined)"
   ]
  },
  {
   "cell_type": "code",
   "execution_count": null,
   "id": "fc7ee80e-1397-4afa-ba70-6b2aba649546",
   "metadata": {},
   "outputs": [],
   "source": [
    "import matplotlib.pyplot as plt\n",
    "\n",
    "# 년도별로 그룹화 후 시각화\n",
    "years = df_combined['년도'].unique()\n",
    "\n",
    "for year in years:\n",
    "    df_year = df_combined[df_combined['년도'] == year]\n",
    "    categories = ['단독주택', '아파트', '연립주택', '다세대주택', '비주거용주택']\n",
    "    bottom_values = None\n",
    "    colors = ['#FF9999', '#66B2FF', '#99FF99', '#FFD700', '#CDB79E']\n",
    "    \n",
    "    fig, ax = plt.subplots(figsize=(10, 6))\n",
    "    \n",
    "    for i, category in enumerate(categories):\n",
    "        ax.bar(df_year['구'], df_year[category], label=category, bottom=bottom_values, color=colors[i])\n",
    "        bottom_values = df_year[category] if bottom_values is None else bottom_values + df_year[category]\n",
    "    \n",
    "    ax.set_title(f'{year}년 구별 주택 유형 분포', fontsize=14)\n",
    "    ax.set_xlabel('구', fontsize=12)\n",
    "    ax.set_ylabel('주택 수', fontsize=12)\n",
    "    ax.legend(title='주택 유형')\n",
    "    plt.xticks(rotation=45)\n",
    "    plt.tight_layout()\n",
    "    plt.show()"
   ]
  },
  {
   "cell_type": "code",
   "execution_count": null,
   "id": "37c49078-5fd2-4120-aed5-86e537a22afd",
   "metadata": {},
   "outputs": [],
   "source": [
    "# '서울특별시'를 제외한 데이터만 선택\n",
    "df_filtered = df_combined[df_combined['구'] != '서울특별시']\n",
    "\n",
    "# 결과 확인\n",
    "print(df_filtered)"
   ]
  },
  {
   "cell_type": "code",
   "execution_count": null,
   "id": "62e05e75-3dd9-4154-95ac-3a5638306e12",
   "metadata": {},
   "outputs": [],
   "source": [
    "# 구별 주택 유형 분포\n",
    "# 누적 막대그래프\n",
    "years = df_filtered['년도'].unique()\n",
    "\n",
    "for year in years:\n",
    "    df_year = df_filtered[df_filtered['년도'] == year]\n",
    "    categories = ['단독주택', '아파트', '연립주택', '다세대주택', '비주거용주택']\n",
    "    bottom_values = None\n",
    "    colors = ['#FF9999', '#66B2FF', '#99FF99', '#FFD700', '#CDB79E']\n",
    "    \n",
    "    fig, ax = plt.subplots(figsize=(10, 6))\n",
    "    \n",
    "    for i, category in enumerate(categories):\n",
    "        ax.bar(df_year['구'], df_year[category], label=category, bottom=bottom_values, color=colors[i])\n",
    "        bottom_values = df_year[category] if bottom_values is None else bottom_values + df_year[category]\n",
    "    \n",
    "    ax.set_title(f'{year}년 구별 주택 유형 분포 (서울특별시 제외)', fontsize=14)\n",
    "    ax.set_xlabel('구', fontsize=12)\n",
    "    ax.set_ylabel('주택 수', fontsize=12)\n",
    "    ax.legend(title='주택 유형')\n",
    "    plt.xticks(rotation=45)\n",
    "    plt.tight_layout()\n",
    "    plt.show()"
   ]
  },
  {
   "cell_type": "code",
   "execution_count": null,
   "id": "a0ee07bc-5475-4704-875d-0166d5c27d13",
   "metadata": {},
   "outputs": [],
   "source": [
    "categories = ['단독주택', '아파트', '연립주택', '다세대주택', '비주거용주택']\n",
    "\n",
    "# 년도별 그룹화\n",
    "grouped = df_combined.groupby('년도')[categories].sum()\n",
    "\n",
    "# 비중 계산 (각 년도별 주택 유형 합계 / 해당 년도의 전체 주택 수 합계)\n",
    "percentages = grouped.div(grouped.sum(axis=1), axis=0) * 100\n",
    "\n",
    "print(percentages) "
   ]
  },
  {
   "cell_type": "code",
   "execution_count": null,
   "id": "e8e68c16-ef10-4bfc-9539-6f89c0b35b2d",
   "metadata": {},
   "outputs": [],
   "source": [
    "# 전체 데이터의 주택 유형별 비중\n",
    "colors = ['#FF9999', '#66B2FF', '#99FF99', '#FFD700', '#CDB79E']\n",
    "\n",
    "# 그래프 생성\n",
    "fig, ax = plt.subplots(figsize=(10, 6))\n",
    "percentages.plot(kind='bar', stacked=True, color=colors, ax=ax)\n",
    "\n",
    "# 그래프 꾸미기\n",
    "ax.set_title('년도별 주택 유형 비중 (%)', fontsize=16)\n",
    "ax.set_ylabel('비중 (%)', fontsize=12)\n",
    "ax.set_xlabel('년도', fontsize=12)\n",
    "ax.legend(title='주택 유형', bbox_to_anchor=(1.05, 1), loc='upper left')\n",
    "plt.xticks(rotation=0)\n",
    "plt.tight_layout()\n",
    "\n",
    "plt.show()"
   ]
  },
  {
   "cell_type": "code",
   "execution_count": null,
   "id": "e108bd76-4066-4cb0-b8a9-9d4cbc4f96ae",
   "metadata": {},
   "outputs": [],
   "source": [
    "# 전체 데이터의 주택 유형별 비중\n",
    "# 파이차트\n",
    "for year, row in percentages.iterrows():\n",
    "    fig, ax = plt.subplots(figsize=(8, 8))\n",
    "    ax.pie(row, labels=categories, autopct='%1.1f%%', startangle=90, colors=colors)\n",
    "    ax.set_title(f'{year}년 주택 유형 비중', fontsize=18)\n",
    "    plt.show()"
   ]
  },
  {
   "cell_type": "code",
   "execution_count": null,
   "id": "7591f88f-9d56-4009-a84c-edc4d1f36881",
   "metadata": {},
   "outputs": [],
   "source": [
    "df_combined"
   ]
  },
  {
   "cell_type": "code",
   "execution_count": null,
   "id": "207b8092-613a-4920-99b2-64caa83946d3",
   "metadata": {},
   "outputs": [],
   "source": [
    "# 년도별-구별 전체 주택 수 데이터\n",
    "grouped = df_combined.pivot(index='구', columns='년도', values='계')\n",
    "\n",
    "print(grouped)"
   ]
  },
  {
   "cell_type": "code",
   "execution_count": null,
   "id": "892702e6-8c8f-4a8b-b639-1bb5b22946ee",
   "metadata": {},
   "outputs": [],
   "source": [
    "# 구별 전체 주택 수 비교\n",
    "# 막대그래프 생성\n",
    "grouped.plot(kind='bar', figsize=(12, 6), color=['#66B2FF', '#FF9999'])\n",
    "\n",
    "# 그래프 꾸미기\n",
    "plt.title('년도별 구별 전체 주택 수 비교', fontsize=16)\n",
    "plt.ylabel('전체 주택 수', fontsize=12)\n",
    "plt.xlabel('구', fontsize=12)\n",
    "plt.legend(title='년도', fontsize=10)\n",
    "plt.xticks(rotation=45)\n",
    "plt.tight_layout()\n",
    "\n",
    "plt.show()"
   ]
  },
  {
   "cell_type": "code",
   "execution_count": null,
   "id": "e731cce1-c51e-4555-995e-9046f8cb6cc6",
   "metadata": {},
   "outputs": [],
   "source": [
    "# 선그래프 생성\n",
    "grouped.T.plot(figsize=(12, 6), marker='o')\n",
    "\n",
    "# 그래프 꾸미기\n",
    "plt.title('년도별 구별 전체 주택 수 변화', fontsize=16)\n",
    "plt.ylabel('전체 주택 수', fontsize=12)\n",
    "plt.xlabel('년도', fontsize=12)\n",
    "plt.legend(title='구', bbox_to_anchor=(1.05, 1), loc='upper left')\n",
    "plt.grid(axis='y', linestyle='--', alpha=0.7)\n",
    "plt.tight_layout()\n",
    "\n",
    "plt.show()"
   ]
  },
  {
   "cell_type": "code",
   "execution_count": null,
   "id": "421d036c-e275-41dc-a529-f1e34c42282c",
   "metadata": {},
   "outputs": [],
   "source": [
    "# '서울특별시' 제외\n",
    "df_filtered = df_combined[df_combined['구'] != '서울특별시']\n",
    "\n",
    "# 년도별-구별 전체 주택 수 데이터\n",
    "grouped_filtered = df_filtered.pivot(index='구', columns='년도', values='계')\n",
    "\n",
    "print(grouped_filtered)  # 확인용 출력"
   ]
  },
  {
   "cell_type": "code",
   "execution_count": null,
   "id": "cf16fc66-5930-4477-a025-916b34b5f454",
   "metadata": {},
   "outputs": [],
   "source": [
    "# 구별 전체 주택 수 비교\n",
    "# 막대그래프 생성\n",
    "grouped_filtered.plot(kind='bar', figsize=(10, 6), color=['#66B2FF', '#FF9999'])\n",
    "\n",
    "# 그래프 꾸미기\n",
    "plt.title('년도별 구별 전체 주택 수 비교', fontsize=16)\n",
    "plt.ylabel('전체 주택 수', fontsize=12)\n",
    "plt.xlabel('구', fontsize=12)\n",
    "plt.legend(title='년도', fontsize=10)\n",
    "plt.xticks(rotation=45)\n",
    "plt.tight_layout()\n",
    "\n",
    "plt.show()"
   ]
  },
  {
   "cell_type": "code",
   "execution_count": null,
   "id": "5b7815ca-2b79-47d8-a279-90d33024e0f8",
   "metadata": {},
   "outputs": [],
   "source": [
    "# 구별 전체 주택 수 비교\n",
    "# 선그래프 생성\n",
    "grouped_filtered.T.plot(figsize=(10, 6), marker='o')\n",
    "\n",
    "# 그래프 꾸미기\n",
    "plt.title('년도별 구별 전체 주택 수 변화 (서울특별시 제외)', fontsize=16)\n",
    "plt.ylabel('전체 주택 수', fontsize=12)\n",
    "plt.xlabel('년도', fontsize=12)\n",
    "plt.legend(title='구', bbox_to_anchor=(1.05, 1), loc='upper left')\n",
    "plt.grid(axis='y', linestyle='--', alpha=0.7)\n",
    "plt.tight_layout()\n",
    "\n",
    "plt.show()"
   ]
  },
  {
   "cell_type": "code",
   "execution_count": null,
   "id": "5c118aa7-a652-47b2-baa0-537b808e2fcd",
   "metadata": {},
   "outputs": [],
   "source": [
    "# df_filtered = df_filtered[df_filtered['구'].isin(['종로구', '중구'])]"
   ]
  },
  {
   "cell_type": "code",
   "execution_count": null,
   "id": "5b248655-4876-40f1-b645-37bf294e1689",
   "metadata": {},
   "outputs": [],
   "source": [
    "# grouped_filtered = df_filtered.pivot(index='구', columns='년도', values='계')\n",
    "# grouped_filtered = grouped_filtered[[2020]]  # 2020년만 선택"
   ]
  },
  {
   "cell_type": "code",
   "execution_count": null,
   "id": "b7463ce5-29b2-4f0e-9ffb-8ee66f6f9e02",
   "metadata": {},
   "outputs": [],
   "source": [
    "# '서울특별시' 제외\n",
    "df_filtered = df_combined[df_combined['구'] != '서울특별시']\n",
    "\n",
    "# 년도별-구별 전체 주택 수 데이터\n",
    "grouped_filtered = df_filtered.pivot(index='구', columns='년도', values='계')\n",
    "\n",
    "print(grouped_filtered)  # 확인용 출력"
   ]
  },
  {
   "cell_type": "code",
   "execution_count": null,
   "id": "50f83487-558f-4bff-9d31-2009ba7b055f",
   "metadata": {},
   "outputs": [],
   "source": [
    "# 특정 주택 유형(예: 아파트) 분포\n",
    "# 히트맵 생성\n",
    "plt.figure(figsize=(10, 6))\n",
    "sns.heatmap(\n",
    "    grouped_filtered, \n",
    "    annot=True,  # 각 셀에 값 표시\n",
    "    fmt=',',     # 천 단위 콤마 표시\n",
    "    cmap='YlGnBu',  # 색상 팔레트\n",
    "    linewidths=0.5  # 셀 간격\n",
    ")\n",
    "\n",
    "# 그래프 꾸미기\n",
    "plt.title('년도별 구별 전체 주택 수 히트맵 (서울특별시 제외)', fontsize=16)\n",
    "plt.ylabel('구', fontsize=12)\n",
    "plt.xlabel('년도', fontsize=12)\n",
    "plt.tight_layout()\n",
    "\n",
    "plt.show()"
   ]
  },
  {
   "cell_type": "code",
   "execution_count": null,
   "id": "60066861-002e-4400-9fe2-c569f2a94c93",
   "metadata": {},
   "outputs": [],
   "source": [
    "# '서울특별시' 제외\n",
    "df_filtered = df_combined[df_combined['구'] != '서울특별시']\n",
    "\n",
    "# 비주거용 주택 비율 계산 (비주거용 주택 수 / 전체 주택 수 * 100)\n",
    "df_filtered['비주거용 비율 (%)'] = (df_filtered['비주거용주택'] / df_filtered['계']) * 100\n",
    "\n",
    "# 년도별-구별 비주거용 주택 비율 데이터\n",
    "grouped_ratio = df_filtered.pivot(index='구', columns='년도', values='비주거용 비율 (%)')\n",
    "\n",
    "print(grouped_ratio)  # 확인용 출력"
   ]
  },
  {
   "cell_type": "code",
   "execution_count": null,
   "id": "6f14ec74-e17e-49a6-b2c9-fda3d0959ad3",
   "metadata": {},
   "outputs": [],
   "source": [
    "# 지역 간 비주거용 주택 비율 비교\n",
    "# 막대그래프 생성\n",
    "grouped_ratio.plot(kind='bar', figsize=(10, 6), color=['#66B2FF', '#FF9999'])\n",
    "\n",
    "# 그래프 꾸미기\n",
    "plt.title('년도별 지역 간 비주거용 주택 비율 비교 (%)', fontsize=16)\n",
    "plt.ylabel('비율 (%)', fontsize=12)\n",
    "plt.xlabel('구', fontsize=12)\n",
    "plt.legend(title='년도', fontsize=10)\n",
    "plt.xticks(rotation=45)\n",
    "plt.tight_layout()\n",
    "\n",
    "plt.show()"
   ]
  },
  {
   "cell_type": "code",
   "execution_count": null,
   "id": "9d0b5c55-f1b4-4360-add4-a6655fe8e180",
   "metadata": {},
   "outputs": [],
   "source": [
    "# 지역 간 비주거용 주택 비율 비교\n",
    "# 히트맵 생성\n",
    "plt.figure(figsize=(10, 6))\n",
    "sns.heatmap(\n",
    "    grouped_ratio, \n",
    "    annot=True,  # 각 셀에 값 표시\n",
    "    fmt='.2f',   # 소수점 둘째 자리까지 표시\n",
    "    cmap='Blues',  # 색상 팔레트\n",
    "    linewidths=0.5\n",
    ")\n",
    "\n",
    "# 그래프 꾸미기\n",
    "plt.title('년도별 지역 간 비주거용 주택 비율 히트맵 (%)', fontsize=16)\n",
    "plt.ylabel('구', fontsize=12)\n",
    "plt.xlabel('년도', fontsize=12)\n",
    "plt.tight_layout()\n",
    "\n",
    "plt.show()"
   ]
  },
  {
   "cell_type": "code",
   "execution_count": null,
   "id": "4c02dd7a-f0c3-4546-a803-2ff29286fc10",
   "metadata": {},
   "outputs": [],
   "source": [
    "# 지도 시각화\n",
    "import folium\n",
    "import json\n",
    "import pandas as pd\n",
    "\n",
    "# GeoJSON 파일 로드\n",
    "geo_path = 'G:/workspace/python/python_project/json/seoul_municipalities_geo.json'\n",
    "with open(geo_path, encoding='utf-8') as f:\n",
    "    geo_data = json.load(f)\n",
    "\n",
    "# GeoJSON 구조 확인 (첫 번째 지역의 properties 출력)\n",
    "print(geo_data['features'][0]['properties'])\n",
    "\n",
    "# 예시 데이터프레임\n",
    "df = pd.DataFrame(df_combined)\n",
    "\n",
    "# 특정 년도 데이터 필터링 (2021년 예시)\n",
    "year = 2021\n",
    "df_year = df[df['년도'] == year]\n",
    "\n",
    "# 각 주택 유형의 비율 계산\n",
    "df_year['단독주택 비율'] = df_year['단독주택'] / df_year['계']\n",
    "df_year['아파트 비율'] = df_year['아파트'] / df_year['계']\n",
    "df_year['연립주택 비율'] = df_year['연립주택'] / df_year['계']\n",
    "df_year['다세대주택 비율'] = df_year['다세대주택'] / df_year['계']\n",
    "df_year['비주거용주택 비율'] = df_year['비주거용주택'] / df_year['계']\n",
    "\n",
    "# Folium 지도 생성\n",
    "m = folium.Map(location=[37.5665, 126.9780], zoom_start=11)  # 서울 중심 좌표\n",
    "\n",
    "# Choropleth 추가 (주택 유형별 비율 시각화)\n",
    "folium.Choropleth(\n",
    "    geo_data=geo_data,\n",
    "    data=df_year,\n",
    "    columns=['구', '단독주택 비율'],  # 단독주택 비율\n",
    "    key_on='feature.properties.SIG_KOR_NM',  # 'name'이 GeoJSON에서 지역 이름이 있는 필드라고 가정\n",
    "    fill_color='YlGnBu',  # 색상 팔레트\n",
    "    fill_opacity=0.7,\n",
    "    line_opacity=0.2,\n",
    "    legend_name=f'{year}년 단독주택 비율'\n",
    ").add_to(m)\n",
    "\n",
    "# 지도 저장\n",
    "# m.save('house_type_map.html')\n",
    "\n",
    "# 지도 시각화 (Jupyter 환경에서 바로 출력)\n",
    "display(m)"
   ]
  },
  {
   "cell_type": "code",
   "execution_count": null,
   "id": "a2379090-baff-4e1b-9af9-6ca9793650d1",
   "metadata": {},
   "outputs": [],
   "source": [
    "# pip install geopandas\n",
    "# import geopandas\n",
    "# geopandas.__version__"
   ]
  },
  {
   "cell_type": "code",
   "execution_count": null,
   "id": "a6f861c3-484f-4778-aa8f-1de757b6f2af",
   "metadata": {},
   "outputs": [],
   "source": [
    "# DataFrame 전체 데이터는\n",
    "# df_combined \n",
    "# 서울특별시 제외\n",
    "# df_filtered\n",
    "# 사용할 것"
   ]
  },
  {
   "cell_type": "code",
   "execution_count": null,
   "id": "905db831-5e7a-4781-bbc8-24924a3b1e9f",
   "metadata": {},
   "outputs": [],
   "source": []
  },
  {
   "cell_type": "code",
   "execution_count": null,
   "id": "0160360a-87e7-4ea9-82b3-14f38b7edd14",
   "metadata": {},
   "outputs": [],
   "source": [
    "# 지도 시각화\n",
    "import folium\n",
    "import json\n",
    "import pandas as pd\n",
    "\n",
    "# GeoJSON 파일 로드\n",
    "geo_path = 'G:/workspace/python/python_project/json/seoul_municipalities_geo.json'\n",
    "with open(geo_path, encoding='utf-8') as f:\n",
    "    geo_data = json.load(f)\n",
    "\n",
    "df = pd.DataFrame(df_filtered)\n",
    "\n",
    "# 각 주택 유형의 비율 계산\n",
    "df['단독주택 비율'] = df['단독주택'] / df['계']\n",
    "df['아파트 비율'] = df['아파트'] / df['계']\n",
    "df['연립주택 비율'] = df['연립주택'] / df['계']\n",
    "df['다세대주택 비율'] = df['다세대주택'] / df['계']\n",
    "df['비주거용주택 비율'] = df['비주거용주택'] / df['계']\n",
    "\n",
    "# 각 구의 위도, 경도 계산\n",
    "gdf['centroid'] = gdf.geometry.centroid  # GeoDataFrame의 각 구의 중심 좌표 계산\n",
    "gdf['위도'] = gdf['centroid'].y  # 위도\n",
    "gdf['경도'] = gdf['centroid'].x  # 경도\n",
    "\n",
    "df_with_coords = pd.merge(df, gdf[['구', '위도', '경도']], on='구', how='left')\n",
    "# print(df_with_coords)\n",
    "\n",
    "# 년도별로 필터링하고 시각화\n",
    "years = df_with_coords['년도'].unique()  # 년도 목록\n",
    "maps = []  # 저장할 지도 객체 리스트\n",
    "\n",
    "# Folium 지도 생성 (서울 중심 좌표)\n",
    "for year in years:\n",
    "    df_year = df[df['년도'] == year]\n",
    "\n",
    "    # Folium 지도 객체 생성\n",
    "    m = folium.Map(location=[37.5665, 126.9780], zoom_start=11)  # 서울 중심 좌표\n",
    "    \n",
    "    # 각 주택 유형에 대해 Choropleth 추가 (단독주택, 아파트, 연립주택 등)\n",
    "    for house_type in ['단독주택', '아파트', '연립주택', '다세대주택', '비주거용주택']:\n",
    "        # 주택 유형 비율 컬럼 이름\n",
    "        ratio_column = f'{house_type} 비율'\n",
    "        \n",
    "        folium.Choropleth(\n",
    "            geo_data=geo_data,\n",
    "            data=df_year,\n",
    "            columns=['구', ratio_column],  # 구별로 해당 주택 유형 비율\n",
    "            key_on='feature.properties.SIG_KOR_NM',  # GeoJSON에서 지역 이름이 있는 필드\n",
    "            fill_color='YlGnBu',  # 색상 팔레트\n",
    "            fill_opacity=0.7,\n",
    "            line_opacity=0.2,\n",
    "            legend_name=f'{year}년 {house_type} 비율'\n",
    "        ).add_to(m)\n",
    "\n",
    "    # 각 구의 이름을 지도에 추가 (tooltip 형태로 표시)\n",
    "    for _, row in df_year.iterrows():\n",
    "        region = gdf[gdf['구'] == row['구']]  # 해당 구의 정보를 가져옴\n",
    "        folium.GeoJson(\n",
    "            region.geometry,\n",
    "            tooltip=row['구'],  # 구 이름을 툴팁으로 표시\n",
    "            style_function=lambda feature: {\n",
    "                'fillOpacity': 0,  # 영역에 색을 채우지 않음\n",
    "                'weight': 0.5,\n",
    "                'color': 'black'\n",
    "            }\n",
    "        ).add_to(m)\n",
    "\n",
    "    # 지도 위에 행정구 이름 추가\n",
    "    for _, row in df_with_coords.iterrows():\n",
    "        folium.Marker(\n",
    "            location=[row['위도'], row['경도']],  # 위도, 경도 리스트로 위치 지정\n",
    "            icon=folium.DivIcon(html=f'<div style=\"font-weight: bold; font-size: 10px; color: black; white-space: nowrap;\">{row[\"구\"]}</div>')\n",
    "        ).add_to(m)\n",
    "\n",
    "    # 지도 객체를 리스트에 저장\n",
    "    maps.append(m)\n",
    "\n",
    "    # 지도 파일로 저장\n",
    "    # map_filename = f'house_type_map_{year}.html'\n",
    "    # m.save(map_filename)\n",
    "\n",
    "# 모든 년도에 대한 지도를 표시하기 위해 Jupyter에서 display 사용\n",
    "from IPython.display import display\n",
    "for m in maps:\n",
    "    display(m)"
   ]
  },
  {
   "cell_type": "code",
   "execution_count": null,
   "id": "6d9a9f4b-862e-473f-b095-278152cd2fd2",
   "metadata": {},
   "outputs": [],
   "source": []
  },
  {
   "cell_type": "code",
   "execution_count": null,
   "id": "91622b55-ec0d-47e0-9d67-b52252f69f06",
   "metadata": {},
   "outputs": [],
   "source": []
  },
  {
   "cell_type": "code",
   "execution_count": null,
   "id": "c6105411-97b1-4b02-958c-34dc535c78de",
   "metadata": {},
   "outputs": [],
   "source": []
  },
  {
   "cell_type": "code",
   "execution_count": null,
   "id": "d1d52a0b-07b3-45cc-8b82-ac97f021b0e0",
   "metadata": {},
   "outputs": [],
   "source": []
  },
  {
   "cell_type": "code",
   "execution_count": null,
   "id": "3d9245e8-4d07-427b-83b7-b055c9c3ee2e",
   "metadata": {},
   "outputs": [],
   "source": []
  }
 ],
 "metadata": {
  "kernelspec": {
   "display_name": "Python 3 (ipykernel)",
   "language": "python",
   "name": "python3"
  },
  "language_info": {
   "codemirror_mode": {
    "name": "ipython",
    "version": 3
   },
   "file_extension": ".py",
   "mimetype": "text/x-python",
   "name": "python",
   "nbconvert_exporter": "python",
   "pygments_lexer": "ipython3",
   "version": "3.12.3"
  }
 },
 "nbformat": 4,
 "nbformat_minor": 5
}
