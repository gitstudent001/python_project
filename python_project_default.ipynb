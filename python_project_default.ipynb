{
 "cells": [
  {
   "cell_type": "code",
   "execution_count": 1,
   "id": "0ddbbea2-b6a7-4f7f-a8bf-f4cdbfc4678f",
   "metadata": {},
   "outputs": [],
   "source": [
    "import pandas as pd\n",
    "import numpy as np\n",
    "import warnings\n",
    "warnings.filterwarnings('ignore')\n",
    "import seaborn as sns\n",
    "import matplotlib.pyplot as plt\n",
    "%matplotlib inline\n",
    "# 한글 설정\n",
    "# pip install koreanize_matplotlib\n",
    "plt.rc('font', family='Malgun Gothic')\n",
    "plt.rc('axes', unicode_minus=False)\n",
    "root = 'C:/workspace/python/project/data/'"
   ]
  },
  {
   "cell_type": "code",
   "execution_count": 2,
   "id": "f8c6694c-b7fb-4e5b-a1e5-91031b7c4d87",
   "metadata": {},
   "outputs": [],
   "source": [
    "'''\n",
    "서울시 집값 데이터 프레임\n",
    "'''\n",
    "seoul_2021_df = pd.read_csv(root + '부동산_Data/부동산_2021.csv', encoding = 'cp949')\n",
    "seoul_2022_df = pd.read_csv(root + '부동산_Data/부동산_2022.csv', encoding = 'cp949')\n",
    "seoul_2023_df = pd.read_csv(root + '부동산_Data/부동산_2023.csv', encoding = 'cp949')"
   ]
  },
  {
   "cell_type": "code",
   "execution_count": 3,
   "id": "f80eb496-c44e-425c-85ed-d973952b6eee",
   "metadata": {},
   "outputs": [
    {
     "name": "stdout",
     "output_type": "stream",
     "text": [
      "<class 'pandas.core.frame.DataFrame'>\n",
      "RangeIndex: 138696 entries, 0 to 138695\n",
      "Data columns (total 21 columns):\n",
      " #   Column            Non-Null Count   Dtype  \n",
      "---  ------            --------------   -----  \n",
      " 0   접수연도              138696 non-null  int64  \n",
      " 1   자치구코드             138696 non-null  int64  \n",
      " 2   자치구명              138696 non-null  object \n",
      " 3   법정동코드             138696 non-null  int64  \n",
      " 4   법정동명              138696 non-null  object \n",
      " 5   지번구분              128407 non-null  float64\n",
      " 6   지번구분명             128407 non-null  object \n",
      " 7   본번                128412 non-null  object \n",
      " 8   부번                128412 non-null  float64\n",
      " 9   건물명               128406 non-null  object \n",
      " 10  계약일               138696 non-null  int64  \n",
      " 11  물건금액(만원)          138696 non-null  int64  \n",
      " 12  건물면적(㎡)           138696 non-null  float64\n",
      " 13  토지면적(㎡)           137997 non-null  float64\n",
      " 14  층                 128423 non-null  float64\n",
      " 15  권리구분              330 non-null     object \n",
      " 16  취소일               6264 non-null    float64\n",
      " 17  건축년도              137434 non-null  float64\n",
      " 18  건물용도              138696 non-null  object \n",
      " 19  신고구분              11954 non-null   object \n",
      " 20  신고한 개업공인중개사 시군구명  8604 non-null    object \n",
      "dtypes: float64(7), int64(5), object(9)\n",
      "memory usage: 22.2+ MB\n"
     ]
    },
    {
     "data": {
      "text/plain": [
       "None"
      ]
     },
     "metadata": {},
     "output_type": "display_data"
    },
    {
     "name": "stdout",
     "output_type": "stream",
     "text": [
      "\n",
      "+=+=+=+=+=+=+=+=+=+=+=+=+=+=+=+=+=+=+=+=\n",
      "\n",
      "<class 'pandas.core.frame.DataFrame'>\n",
      "RangeIndex: 66327 entries, 0 to 66326\n",
      "Data columns (total 21 columns):\n",
      " #   Column            Non-Null Count  Dtype  \n",
      "---  ------            --------------  -----  \n",
      " 0   접수연도              66327 non-null  int64  \n",
      " 1   자치구코드             66327 non-null  int64  \n",
      " 2   자치구명              66327 non-null  object \n",
      " 3   법정동코드             66327 non-null  int64  \n",
      " 4   법정동명              66327 non-null  object \n",
      " 5   지번구분              61424 non-null  float64\n",
      " 6   지번구분명             61424 non-null  object \n",
      " 7   본번                61427 non-null  float64\n",
      " 8   부번                61427 non-null  float64\n",
      " 9   건물명               61403 non-null  object \n",
      " 10  계약일               66327 non-null  int64  \n",
      " 11  물건금액(만원)          66327 non-null  int64  \n",
      " 12  건물면적(㎡)           66327 non-null  float64\n",
      " 13  토지면적(㎡)           66323 non-null  float64\n",
      " 14  층                 61435 non-null  float64\n",
      " 15  권리구분              88 non-null     object \n",
      " 16  취소일               4422 non-null   float64\n",
      " 17  건축년도              65875 non-null  float64\n",
      " 18  건물용도              66327 non-null  object \n",
      " 19  신고구분              66111 non-null  object \n",
      " 20  신고한 개업공인중개사 시군구명  49132 non-null  object \n",
      "dtypes: float64(8), int64(5), object(8)\n",
      "memory usage: 10.6+ MB\n"
     ]
    },
    {
     "data": {
      "text/plain": [
       "None"
      ]
     },
     "metadata": {},
     "output_type": "display_data"
    },
    {
     "name": "stdout",
     "output_type": "stream",
     "text": [
      "\n",
      "+=+=+=+=+=+=+=+=+=+=+=+=+=+=+=+=+=+=+=+=\n",
      "\n",
      "<class 'pandas.core.frame.DataFrame'>\n",
      "RangeIndex: 69785 entries, 0 to 69784\n",
      "Data columns (total 21 columns):\n",
      " #   Column            Non-Null Count  Dtype  \n",
      "---  ------            --------------  -----  \n",
      " 0   접수연도              69785 non-null  int64  \n",
      " 1   자치구코드             69785 non-null  int64  \n",
      " 2   자치구명              69785 non-null  object \n",
      " 3   법정동코드             69785 non-null  int64  \n",
      " 4   법정동명              69785 non-null  object \n",
      " 5   지번구분              67020 non-null  float64\n",
      " 6   지번구분명             67020 non-null  object \n",
      " 7   본번                67020 non-null  float64\n",
      " 8   부번                67020 non-null  float64\n",
      " 9   건물명               67024 non-null  object \n",
      " 10  계약일               69785 non-null  int64  \n",
      " 11  물건금액(만원)          69785 non-null  int64  \n",
      " 12  건물면적(㎡)           69785 non-null  float64\n",
      " 13  토지면적(㎡)           69715 non-null  float64\n",
      " 14  층                 67033 non-null  float64\n",
      " 15  권리구분              602 non-null    object \n",
      " 16  취소일               3515 non-null   float64\n",
      " 17  건축년도              69404 non-null  float64\n",
      " 18  건물용도              69785 non-null  object \n",
      " 19  신고구분              69765 non-null  object \n",
      " 20  신고한 개업공인중개사 시군구명  57515 non-null  object \n",
      "dtypes: float64(8), int64(5), object(8)\n",
      "memory usage: 11.2+ MB\n"
     ]
    },
    {
     "data": {
      "text/plain": [
       "None"
      ]
     },
     "metadata": {},
     "output_type": "display_data"
    }
   ],
   "source": [
    "# 서울시 집값 데이터 확인\n",
    "display(seoul_2021_df.info())\n",
    "print()\n",
    "print('+=' * 20)\n",
    "print()\n",
    "display(seoul_2022_df.info())\n",
    "print()\n",
    "print('+=' * 20)\n",
    "print()\n",
    "display(seoul_2023_df.info())"
   ]
  },
  {
   "cell_type": "code",
   "execution_count": 4,
   "id": "cfcfd828-cf83-4988-9544-1cea17e67594",
   "metadata": {},
   "outputs": [],
   "source": [
    "# dict_keys(['2019년 12월 31일 기준', '2020년 12월 31일 기준', '2021년 12월 31일 기준', '2022년 12월 31일 기준', '2023년 12월 4일 기준'])\n",
    "all_bus_stop_dict = pd.read_excel(root + '교통_Data/버스_정류소현황(2019~2023년).xlsx', sheet_name=None)"
   ]
  },
  {
   "cell_type": "code",
   "execution_count": 5,
   "id": "f3ddbff9-4044-472a-8427-70c03b0d9500",
   "metadata": {},
   "outputs": [],
   "source": [
    "'''\n",
    "버스 정류장 데이터 프레임\n",
    "'''\n",
    "bus_stop_2021_df = all_bus_stop_dict['2021년 12월 31일 기준']\n",
    "bus_stop_2022_df = all_bus_stop_dict['2022년 12월 31일 기준']\n",
    "bus_stop_2023_df = all_bus_stop_dict['2023년 12월 4일 기준']"
   ]
  },
  {
   "cell_type": "code",
   "execution_count": 6,
   "id": "fa2c094d-7a13-4527-b018-8ee36bdc58e9",
   "metadata": {},
   "outputs": [
    {
     "name": "stdout",
     "output_type": "stream",
     "text": [
      "<class 'pandas.core.frame.DataFrame'>\n",
      "RangeIndex: 10876 entries, 0 to 10875\n",
      "Data columns (total 5 columns):\n",
      " #   Column  Non-Null Count  Dtype \n",
      "---  ------  --------------  ----- \n",
      " 0   기준일     10876 non-null  int64 \n",
      " 1   행정구명    10876 non-null  object\n",
      " 2   ARS-ID  10876 non-null  int64 \n",
      " 3   정류소명    10876 non-null  object\n",
      " 4   노선수     10876 non-null  int64 \n",
      "dtypes: int64(3), object(2)\n",
      "memory usage: 425.0+ KB\n"
     ]
    },
    {
     "data": {
      "text/plain": [
       "None"
      ]
     },
     "metadata": {},
     "output_type": "display_data"
    },
    {
     "name": "stdout",
     "output_type": "stream",
     "text": [
      "\n",
      "+=+=+=+=+=+=+=+=+=+=+=+=+=+=+=+=+=+=+=+=\n",
      "\n",
      "<class 'pandas.core.frame.DataFrame'>\n",
      "RangeIndex: 11177 entries, 0 to 11176\n",
      "Data columns (total 5 columns):\n",
      " #   Column  Non-Null Count  Dtype \n",
      "---  ------  --------------  ----- \n",
      " 0   기준일     11177 non-null  int64 \n",
      " 1   행정구명    11177 non-null  object\n",
      " 2   ARS-ID  11177 non-null  int64 \n",
      " 3   정류소명    11177 non-null  object\n",
      " 4   노선수     11177 non-null  int64 \n",
      "dtypes: int64(3), object(2)\n",
      "memory usage: 436.7+ KB\n"
     ]
    },
    {
     "data": {
      "text/plain": [
       "None"
      ]
     },
     "metadata": {},
     "output_type": "display_data"
    },
    {
     "name": "stdout",
     "output_type": "stream",
     "text": [
      "\n",
      "+=+=+=+=+=+=+=+=+=+=+=+=+=+=+=+=+=+=+=+=\n",
      "\n",
      "<class 'pandas.core.frame.DataFrame'>\n",
      "RangeIndex: 11198 entries, 0 to 11197\n",
      "Data columns (total 5 columns):\n",
      " #   Column  Non-Null Count  Dtype \n",
      "---  ------  --------------  ----- \n",
      " 0   기준일     11198 non-null  int64 \n",
      " 1   행정구명    11198 non-null  object\n",
      " 2   ARS-ID  11198 non-null  int64 \n",
      " 3   정류소명    11198 non-null  object\n",
      " 4   노선수     11198 non-null  int64 \n",
      "dtypes: int64(3), object(2)\n",
      "memory usage: 437.6+ KB\n"
     ]
    },
    {
     "data": {
      "text/plain": [
       "None"
      ]
     },
     "metadata": {},
     "output_type": "display_data"
    }
   ],
   "source": [
    "# 서울시 버스정류장 정보 확인\n",
    "display(bus_stop_2021_df.info())\n",
    "print()\n",
    "print('+=' * 20)\n",
    "print()\n",
    "display(bus_stop_2022_df.info())\n",
    "print()\n",
    "print('+=' * 20)\n",
    "print()\n",
    "display(bus_stop_2023_df.info())"
   ]
  },
  {
   "cell_type": "code",
   "execution_count": 7,
   "id": "2c79d797-b2bb-4f01-b3a5-3ac6e1f5c399",
   "metadata": {},
   "outputs": [],
   "source": [
    "'''\n",
    "지하철 데이터 프레임\n",
    "'''\n",
    "train_2021_df = pd.read_csv(root + '교통_Data/서울시 지역별 지하철역 정보_2021.csv', encoding = 'cp949')\n",
    "train_2022_df = pd.read_csv(root + '교통_Data/서울시 지역별 지하철역 정보_2022.csv', encoding = 'cp949')\n",
    "train_2023_df = pd.read_csv(root + '교통_Data/서울시 지역별 지하철역 정보_2023.csv', encoding = 'cp949')"
   ]
  },
  {
   "cell_type": "code",
   "execution_count": 8,
   "id": "2e49ab4b-691e-4c6c-96c4-0fbeb8032db3",
   "metadata": {},
   "outputs": [
    {
     "name": "stdout",
     "output_type": "stream",
     "text": [
      "<class 'pandas.core.frame.DataFrame'>\n",
      "RangeIndex: 32 entries, 0 to 31\n",
      "Data columns (total 4 columns):\n",
      " #   Column   Non-Null Count  Dtype \n",
      "---  ------   --------------  ----- \n",
      " 0   연번       32 non-null     int64 \n",
      " 1   자치구      32 non-null     object\n",
      " 2   해당역(호선)  32 non-null     object\n",
      " 3   역개수      32 non-null     int64 \n",
      "dtypes: int64(2), object(2)\n",
      "memory usage: 1.1+ KB\n",
      "\n",
      "+=+=+=+=+=+=+=+=+=+=+=+=+=+=+=+=+=+=+=+=\n",
      "\n",
      "<class 'pandas.core.frame.DataFrame'>\n",
      "RangeIndex: 30 entries, 0 to 29\n",
      "Data columns (total 4 columns):\n",
      " #   Column  Non-Null Count  Dtype \n",
      "---  ------  --------------  ----- \n",
      " 0   연번      30 non-null     int64 \n",
      " 1   자치구     30 non-null     object\n",
      " 2   역명(호선)  30 non-null     object\n",
      " 3   역수      30 non-null     int64 \n",
      "dtypes: int64(2), object(2)\n",
      "memory usage: 1.1+ KB\n",
      "\n",
      "+=+=+=+=+=+=+=+=+=+=+=+=+=+=+=+=+=+=+=+=\n",
      "\n",
      "<class 'pandas.core.frame.DataFrame'>\n",
      "RangeIndex: 30 entries, 0 to 29\n",
      "Data columns (total 3 columns):\n",
      " #   Column   Non-Null Count  Dtype \n",
      "---  ------   --------------  ----- \n",
      " 0   자치구      30 non-null     object\n",
      " 1   해당역(호선)  30 non-null     object\n",
      " 2   역개수      30 non-null     int64 \n",
      "dtypes: int64(1), object(2)\n",
      "memory usage: 852.0+ bytes\n"
     ]
    }
   ],
   "source": [
    "# 지하철 정보 확인\n",
    "train_2021_df.info()\n",
    "print()\n",
    "print('+=' * 20)\n",
    "print()\n",
    "train_2022_df.info()\n",
    "print()\n",
    "print('+=' * 20)\n",
    "print()\n",
    "train_2023_df.info()"
   ]
  },
  {
   "cell_type": "code",
   "execution_count": 9,
   "id": "2608f420-4309-4457-84ff-497469877bfe",
   "metadata": {},
   "outputs": [],
   "source": [
    "'''\n",
    "주거실태 데이터 프레임\n",
    "'''\n",
    "abode_family_df = pd.read_csv(root + '주거실태_Data/거처의_종류_및_거처__가구__가구원__시군구_20241120174650.csv', encoding = 'cp949')\n",
    "abode_house_category = pd.read_csv(root + '주거실태_Data/주택의_종류별_주택__읍면동_연도_끝자리_0__5___시군구_그_외_연도__20241120174542.csv', encoding = 'cp949')"
   ]
  },
  {
   "cell_type": "code",
   "execution_count": 10,
   "id": "7cf86af8-d454-434a-bfdd-378e00ca82a4",
   "metadata": {},
   "outputs": [
    {
     "name": "stdout",
     "output_type": "stream",
     "text": [
      "<class 'pandas.core.frame.DataFrame'>\n",
      "RangeIndex: 235 entries, 0 to 234\n",
      "Data columns (total 35 columns):\n",
      " #   Column      Non-Null Count  Dtype \n",
      "---  ------      --------------  ----- \n",
      " 0   행정구역별(시군구)  235 non-null    object\n",
      " 1   거처의 종류      235 non-null    object\n",
      " 2   2021        235 non-null    object\n",
      " 3   2021.1      235 non-null    object\n",
      " 4   2021.2      235 non-null    object\n",
      " 5   2021.3      235 non-null    object\n",
      " 6   2021.4      235 non-null    object\n",
      " 7   2021.5      235 non-null    object\n",
      " 8   2021.6      235 non-null    object\n",
      " 9   2021.7      235 non-null    object\n",
      " 10  2021.8      235 non-null    object\n",
      " 11  2021.9      235 non-null    object\n",
      " 12  2021.10     235 non-null    object\n",
      " 13  2022        235 non-null    object\n",
      " 14  2022.1      235 non-null    object\n",
      " 15  2022.2      235 non-null    object\n",
      " 16  2022.3      235 non-null    object\n",
      " 17  2022.4      235 non-null    object\n",
      " 18  2022.5      235 non-null    object\n",
      " 19  2022.6      235 non-null    object\n",
      " 20  2022.7      235 non-null    object\n",
      " 21  2022.8      235 non-null    object\n",
      " 22  2022.9      235 non-null    object\n",
      " 23  2022.10     235 non-null    object\n",
      " 24  2023        235 non-null    object\n",
      " 25  2023.1      235 non-null    object\n",
      " 26  2023.2      235 non-null    object\n",
      " 27  2023.3      235 non-null    object\n",
      " 28  2023.4      235 non-null    object\n",
      " 29  2023.5      235 non-null    object\n",
      " 30  2023.6      235 non-null    object\n",
      " 31  2023.7      235 non-null    object\n",
      " 32  2023.8      235 non-null    object\n",
      " 33  2023.9      235 non-null    object\n",
      " 34  2023.10     235 non-null    object\n",
      "dtypes: object(35)\n",
      "memory usage: 64.4+ KB\n",
      "\n",
      "+=+=+=+=+=+=+=+=+=+=+=+=+=+=+=+=+=+=+=+=\n",
      "\n",
      "<class 'pandas.core.frame.DataFrame'>\n",
      "RangeIndex: 27 entries, 0 to 26\n",
      "Data columns (total 28 columns):\n",
      " #   Column      Non-Null Count  Dtype \n",
      "---  ------      --------------  ----- \n",
      " 0   행정구역별(읍면동)  27 non-null     object\n",
      " 1   2021        27 non-null     object\n",
      " 2   2021.1      27 non-null     object\n",
      " 3   2021.2      27 non-null     object\n",
      " 4   2021.3      27 non-null     object\n",
      " 5   2021.4      27 non-null     object\n",
      " 6   2021.5      27 non-null     object\n",
      " 7   2021.6      27 non-null     object\n",
      " 8   2021.7      27 non-null     object\n",
      " 9   2021.8      27 non-null     object\n",
      " 10  2022        27 non-null     object\n",
      " 11  2022.1      27 non-null     object\n",
      " 12  2022.2      27 non-null     object\n",
      " 13  2022.3      27 non-null     object\n",
      " 14  2022.4      27 non-null     object\n",
      " 15  2022.5      27 non-null     object\n",
      " 16  2022.6      27 non-null     object\n",
      " 17  2022.7      27 non-null     object\n",
      " 18  2022.8      27 non-null     object\n",
      " 19  2023        27 non-null     object\n",
      " 20  2023.1      27 non-null     object\n",
      " 21  2023.2      27 non-null     object\n",
      " 22  2023.3      27 non-null     object\n",
      " 23  2023.4      27 non-null     object\n",
      " 24  2023.5      27 non-null     object\n",
      " 25  2023.6      27 non-null     object\n",
      " 26  2023.7      27 non-null     object\n",
      " 27  2023.8      27 non-null     object\n",
      "dtypes: object(28)\n",
      "memory usage: 6.0+ KB\n"
     ]
    }
   ],
   "source": [
    "# 주거실태 정보 확인\n",
    "abode_family_df.info()\n",
    "print()\n",
    "print('+=' * 20)\n",
    "print()\n",
    "abode_house_category.info()"
   ]
  },
  {
   "cell_type": "code",
   "execution_count": 11,
   "id": "51f601aa-51bb-4a6e-b9da-4c31d9efa8aa",
   "metadata": {},
   "outputs": [],
   "source": [
    "'''\n",
    "공원 데이터 프레임\n",
    "'''\n",
    "park_2021_df = pd.read_excel(root + '공원_Data/공원현황_2021.xlsx')\n",
    "park_2022_df = pd.read_excel(root + '공원_Data/공원현황_2022.xlsx')\n",
    "park_2023_df = pd.read_excel(root + '공원_Data/공원현황_2023.xlsx')"
   ]
  },
  {
   "cell_type": "code",
   "execution_count": 13,
   "id": "8e7ead30-bdc1-48f9-a8a3-058e495b5dd5",
   "metadata": {},
   "outputs": [
    {
     "name": "stdout",
     "output_type": "stream",
     "text": [
      "<class 'pandas.core.frame.DataFrame'>\n",
      "RangeIndex: 31 entries, 0 to 30\n",
      "Data columns (total 47 columns):\n",
      " #   Column   Non-Null Count  Dtype \n",
      "---  ------   --------------  ----- \n",
      " 0   자치구별(1)  5 non-null      object\n",
      " 1   자치구별(2)  31 non-null     object\n",
      " 2   2021     31 non-null     object\n",
      " 3   2021.1   31 non-null     object\n",
      " 4   2021.2   31 non-null     object\n",
      " 5   2021.3   31 non-null     object\n",
      " 6   2021.4   31 non-null     object\n",
      " 7   2021.5   31 non-null     object\n",
      " 8   2021.6   31 non-null     object\n",
      " 9   2021.7   31 non-null     object\n",
      " 10  2021.8   31 non-null     object\n",
      " 11  2021.9   31 non-null     object\n",
      " 12  2021.10  31 non-null     object\n",
      " 13  2021.11  31 non-null     object\n",
      " 14  2021.12  31 non-null     object\n",
      " 15  2021.13  31 non-null     object\n",
      " 16  2021.14  31 non-null     object\n",
      " 17  2021.15  31 non-null     object\n",
      " 18  2021.16  31 non-null     object\n",
      " 19  2021.17  31 non-null     object\n",
      " 20  2021.18  31 non-null     object\n",
      " 21  2021.19  31 non-null     object\n",
      " 22  2021.20  31 non-null     object\n",
      " 23  2021.21  31 non-null     object\n",
      " 24  2021.22  31 non-null     object\n",
      " 25  2021.23  31 non-null     object\n",
      " 26  2021.24  31 non-null     object\n",
      " 27  2021.25  31 non-null     object\n",
      " 28  2021.26  31 non-null     object\n",
      " 29  2021.27  31 non-null     object\n",
      " 30  2021.28  31 non-null     object\n",
      " 31  2021.29  31 non-null     object\n",
      " 32  2021.30  31 non-null     object\n",
      " 33  2021.31  31 non-null     object\n",
      " 34  2021.32  31 non-null     object\n",
      " 35  2021.33  31 non-null     object\n",
      " 36  2021.34  31 non-null     object\n",
      " 37  2021.35  31 non-null     object\n",
      " 38  2021.36  31 non-null     object\n",
      " 39  2021.37  31 non-null     object\n",
      " 40  2021.38  31 non-null     object\n",
      " 41  2021.39  31 non-null     object\n",
      " 42  2021.40  31 non-null     object\n",
      " 43  2021.41  31 non-null     object\n",
      " 44  2021.42  31 non-null     object\n",
      " 45  2021.43  31 non-null     object\n",
      " 46  2021.44  31 non-null     object\n",
      "dtypes: object(47)\n",
      "memory usage: 11.5+ KB\n"
     ]
    },
    {
     "data": {
      "text/plain": [
       "None"
      ]
     },
     "metadata": {},
     "output_type": "display_data"
    },
    {
     "name": "stdout",
     "output_type": "stream",
     "text": [
      "\n",
      "+=+=+=+=+=+=+=+=+=+=+=+=+=+=+=+=+=+=+=+=\n",
      "\n",
      "<class 'pandas.core.frame.DataFrame'>\n",
      "RangeIndex: 31 entries, 0 to 30\n",
      "Data columns (total 38 columns):\n",
      " #   Column   Non-Null Count  Dtype \n",
      "---  ------   --------------  ----- \n",
      " 0   자치구별(1)  5 non-null      object\n",
      " 1   자치구별(2)  31 non-null     object\n",
      " 2   2022     31 non-null     object\n",
      " 3   2022.1   31 non-null     object\n",
      " 4   2022.2   31 non-null     object\n",
      " 5   2022.3   31 non-null     object\n",
      " 6   2022.4   31 non-null     object\n",
      " 7   2022.5   31 non-null     object\n",
      " 8   2022.6   31 non-null     object\n",
      " 9   2022.7   31 non-null     object\n",
      " 10  2022.8   31 non-null     object\n",
      " 11  2022.9   31 non-null     object\n",
      " 12  2022.10  31 non-null     object\n",
      " 13  2022.11  31 non-null     object\n",
      " 14  2022.12  31 non-null     object\n",
      " 15  2022.13  31 non-null     object\n",
      " 16  2022.14  31 non-null     object\n",
      " 17  2022.15  31 non-null     object\n",
      " 18  2022.16  31 non-null     object\n",
      " 19  2022.17  31 non-null     object\n",
      " 20  2022.18  31 non-null     object\n",
      " 21  2022.19  31 non-null     object\n",
      " 22  2022.20  31 non-null     object\n",
      " 23  2022.21  31 non-null     object\n",
      " 24  2022.22  31 non-null     object\n",
      " 25  2022.23  31 non-null     object\n",
      " 26  2022.24  31 non-null     object\n",
      " 27  2022.25  31 non-null     object\n",
      " 28  2022.26  31 non-null     object\n",
      " 29  2022.27  31 non-null     object\n",
      " 30  2022.28  31 non-null     object\n",
      " 31  2022.29  31 non-null     object\n",
      " 32  2022.30  31 non-null     object\n",
      " 33  2022.31  31 non-null     object\n",
      " 34  2022.32  31 non-null     object\n",
      " 35  2022.33  31 non-null     object\n",
      " 36  2022.34  31 non-null     object\n",
      " 37  2022.35  31 non-null     object\n",
      "dtypes: object(38)\n",
      "memory usage: 9.3+ KB\n"
     ]
    },
    {
     "data": {
      "text/plain": [
       "None"
      ]
     },
     "metadata": {},
     "output_type": "display_data"
    },
    {
     "name": "stdout",
     "output_type": "stream",
     "text": [
      "\n",
      "+=+=+=+=+=+=+=+=+=+=+=+=+=+=+=+=+=+=+=+=\n",
      "\n",
      "<class 'pandas.core.frame.DataFrame'>\n",
      "RangeIndex: 31 entries, 0 to 30\n",
      "Data columns (total 38 columns):\n",
      " #   Column   Non-Null Count  Dtype \n",
      "---  ------   --------------  ----- \n",
      " 0   자치구별(1)  5 non-null      object\n",
      " 1   자치구별(2)  31 non-null     object\n",
      " 2   2023     31 non-null     object\n",
      " 3   2023.1   31 non-null     object\n",
      " 4   2023.2   31 non-null     object\n",
      " 5   2023.3   31 non-null     object\n",
      " 6   2023.4   31 non-null     object\n",
      " 7   2023.5   31 non-null     object\n",
      " 8   2023.6   31 non-null     object\n",
      " 9   2023.7   31 non-null     object\n",
      " 10  2023.8   31 non-null     object\n",
      " 11  2023.9   31 non-null     object\n",
      " 12  2023.10  31 non-null     object\n",
      " 13  2023.11  31 non-null     object\n",
      " 14  2023.12  31 non-null     object\n",
      " 15  2023.13  31 non-null     object\n",
      " 16  2023.14  31 non-null     object\n",
      " 17  2023.15  31 non-null     object\n",
      " 18  2023.16  31 non-null     object\n",
      " 19  2023.17  31 non-null     object\n",
      " 20  2023.18  31 non-null     object\n",
      " 21  2023.19  31 non-null     object\n",
      " 22  2023.20  31 non-null     object\n",
      " 23  2023.21  31 non-null     object\n",
      " 24  2023.22  31 non-null     object\n",
      " 25  2023.23  31 non-null     object\n",
      " 26  2023.24  31 non-null     object\n",
      " 27  2023.25  31 non-null     object\n",
      " 28  2023.26  31 non-null     object\n",
      " 29  2023.27  31 non-null     object\n",
      " 30  2023.28  31 non-null     object\n",
      " 31  2023.29  31 non-null     object\n",
      " 32  2023.30  31 non-null     object\n",
      " 33  2023.31  31 non-null     object\n",
      " 34  2023.32  31 non-null     object\n",
      " 35  2023.33  31 non-null     object\n",
      " 36  2023.34  31 non-null     object\n",
      " 37  2023.35  31 non-null     object\n",
      "dtypes: object(38)\n",
      "memory usage: 9.3+ KB\n"
     ]
    },
    {
     "data": {
      "text/plain": [
       "None"
      ]
     },
     "metadata": {},
     "output_type": "display_data"
    }
   ],
   "source": [
    "# 공원 정보 확인\n",
    "display(park_2021_df.info())\n",
    "print()\n",
    "print('+=' * 20)\n",
    "print()\n",
    "display(park_2022_df.info())\n",
    "print()\n",
    "print('+=' * 20)\n",
    "print()\n",
    "display(park_2023_df.info())"
   ]
  },
  {
   "cell_type": "code",
   "execution_count": 14,
   "id": "94ecd85a-8cd7-4672-ba4c-12af9bde8f8d",
   "metadata": {},
   "outputs": [],
   "source": [
    "'''\n",
    "유통업체 데이터 프레임\n",
    "'''\n",
    "distributor_2021_df = pd.read_excel(root + '유통업체_Data/유통업체현황_2021.xlsx')\n",
    "distributor_2022_df = pd.read_excel(root + '유통업체_Data/유통업체현황_2022.xlsx')\n",
    "distributor_2023_df = pd.read_excel(root + '유통업체_Data/유통업체현황_2023.xlsx')"
   ]
  },
  {
   "cell_type": "code",
   "execution_count": 15,
   "id": "d3ba1076-7a6b-46ab-847d-fc04a15096e0",
   "metadata": {},
   "outputs": [
    {
     "name": "stdout",
     "output_type": "stream",
     "text": [
      "<class 'pandas.core.frame.DataFrame'>\n",
      "RangeIndex: 29 entries, 0 to 28\n",
      "Data columns (total 23 columns):\n",
      " #   Column   Non-Null Count  Dtype \n",
      "---  ------   --------------  ----- \n",
      " 0   동별(1)    4 non-null      object\n",
      " 1   동별(2)    29 non-null     object\n",
      " 2   2021     29 non-null     object\n",
      " 3   2021.1   29 non-null     object\n",
      " 4   2021.2   29 non-null     object\n",
      " 5   2021.3   29 non-null     object\n",
      " 6   2021.4   29 non-null     object\n",
      " 7   2021.5   29 non-null     object\n",
      " 8   2021.6   29 non-null     object\n",
      " 9   2021.7   29 non-null     object\n",
      " 10  2021.8   29 non-null     object\n",
      " 11  2021.9   29 non-null     object\n",
      " 12  2021.10  29 non-null     object\n",
      " 13  2021.11  29 non-null     object\n",
      " 14  2021.12  29 non-null     object\n",
      " 15  2021.13  29 non-null     object\n",
      " 16  2021.14  29 non-null     object\n",
      " 17  2021.15  29 non-null     object\n",
      " 18  2021.16  29 non-null     object\n",
      " 19  2021.17  29 non-null     object\n",
      " 20  2021.18  29 non-null     object\n",
      " 21  2021.19  29 non-null     object\n",
      " 22  2021.20  29 non-null     object\n",
      "dtypes: object(23)\n",
      "memory usage: 5.3+ KB\n"
     ]
    },
    {
     "data": {
      "text/plain": [
       "None"
      ]
     },
     "metadata": {},
     "output_type": "display_data"
    },
    {
     "name": "stdout",
     "output_type": "stream",
     "text": [
      "\n",
      "+=+=+=+=+=+=+=+=+=+=+=+=+=+=+=+=+=+=+=+=\n",
      "\n",
      "<class 'pandas.core.frame.DataFrame'>\n",
      "RangeIndex: 29 entries, 0 to 28\n",
      "Data columns (total 23 columns):\n",
      " #   Column   Non-Null Count  Dtype \n",
      "---  ------   --------------  ----- \n",
      " 0   동별(1)    4 non-null      object\n",
      " 1   동별(2)    29 non-null     object\n",
      " 2   2022     29 non-null     object\n",
      " 3   2022.1   29 non-null     object\n",
      " 4   2022.2   29 non-null     object\n",
      " 5   2022.3   29 non-null     object\n",
      " 6   2022.4   29 non-null     object\n",
      " 7   2022.5   29 non-null     object\n",
      " 8   2022.6   29 non-null     object\n",
      " 9   2022.7   29 non-null     object\n",
      " 10  2022.8   29 non-null     object\n",
      " 11  2022.9   29 non-null     object\n",
      " 12  2022.10  29 non-null     object\n",
      " 13  2022.11  29 non-null     object\n",
      " 14  2022.12  29 non-null     object\n",
      " 15  2022.13  29 non-null     object\n",
      " 16  2022.14  29 non-null     object\n",
      " 17  2022.15  29 non-null     object\n",
      " 18  2022.16  29 non-null     object\n",
      " 19  2022.17  29 non-null     object\n",
      " 20  2022.18  29 non-null     object\n",
      " 21  2022.19  29 non-null     object\n",
      " 22  2022.20  29 non-null     object\n",
      "dtypes: object(23)\n",
      "memory usage: 5.3+ KB\n"
     ]
    },
    {
     "data": {
      "text/plain": [
       "None"
      ]
     },
     "metadata": {},
     "output_type": "display_data"
    },
    {
     "name": "stdout",
     "output_type": "stream",
     "text": [
      "\n",
      "+=+=+=+=+=+=+=+=+=+=+=+=+=+=+=+=+=+=+=+=\n",
      "\n",
      "<class 'pandas.core.frame.DataFrame'>\n",
      "RangeIndex: 29 entries, 0 to 28\n",
      "Data columns (total 23 columns):\n",
      " #   Column   Non-Null Count  Dtype \n",
      "---  ------   --------------  ----- \n",
      " 0   동별(1)    4 non-null      object\n",
      " 1   동별(2)    29 non-null     object\n",
      " 2   2023     29 non-null     object\n",
      " 3   2023.1   29 non-null     object\n",
      " 4   2023.2   29 non-null     object\n",
      " 5   2023.3   29 non-null     object\n",
      " 6   2023.4   29 non-null     object\n",
      " 7   2023.5   29 non-null     object\n",
      " 8   2023.6   29 non-null     object\n",
      " 9   2023.7   29 non-null     object\n",
      " 10  2023.8   29 non-null     object\n",
      " 11  2023.9   29 non-null     object\n",
      " 12  2023.10  29 non-null     object\n",
      " 13  2023.11  29 non-null     object\n",
      " 14  2023.12  29 non-null     object\n",
      " 15  2023.13  29 non-null     object\n",
      " 16  2023.14  29 non-null     object\n",
      " 17  2023.15  29 non-null     object\n",
      " 18  2023.16  29 non-null     object\n",
      " 19  2023.17  29 non-null     object\n",
      " 20  2023.18  29 non-null     object\n",
      " 21  2023.19  29 non-null     object\n",
      " 22  2023.20  29 non-null     object\n",
      "dtypes: object(23)\n",
      "memory usage: 5.3+ KB\n"
     ]
    },
    {
     "data": {
      "text/plain": [
       "None"
      ]
     },
     "metadata": {},
     "output_type": "display_data"
    }
   ],
   "source": [
    "# 유통업체 정보 확인\n",
    "display(distributor_2021_df.info())\n",
    "print()\n",
    "print('+=' * 20)\n",
    "print()\n",
    "display(distributor_2022_df.info())\n",
    "print()\n",
    "print('+=' * 20)\n",
    "print()\n",
    "display(distributor_2023_df.info())"
   ]
  },
  {
   "cell_type": "code",
   "execution_count": 16,
   "id": "7ab6dbaa-2223-4294-ad6e-d06f03789e08",
   "metadata": {},
   "outputs": [],
   "source": [
    "'''\n",
    "의료기간 데이터 프레임\n",
    "'''\n",
    "medical_2021_df = pd.read_excel(root + '의료기관_Data/의료기관_2021.xlsx')\n",
    "medical_2022_df = pd.read_excel(root + '의료기관_Data/의료기관_2022.xlsx')\n",
    "medical_2023_df = pd.read_excel(root + '의료기관_Data/의료기관_2023.xlsx')"
   ]
  },
  {
   "cell_type": "code",
   "execution_count": 17,
   "id": "6d15ffad-7178-4ad8-95ad-f15ca1e5f09b",
   "metadata": {},
   "outputs": [
    {
     "name": "stdout",
     "output_type": "stream",
     "text": [
      "<class 'pandas.core.frame.DataFrame'>\n",
      "RangeIndex: 29 entries, 0 to 28\n",
      "Data columns (total 30 columns):\n",
      " #   Column   Non-Null Count  Dtype \n",
      "---  ------   --------------  ----- \n",
      " 0   자치구별(1)  4 non-null      object\n",
      " 1   자치구별(2)  29 non-null     object\n",
      " 2   2021     29 non-null     object\n",
      " 3   2021.1   29 non-null     object\n",
      " 4   2021.2   29 non-null     object\n",
      " 5   2021.3   29 non-null     object\n",
      " 6   2021.4   29 non-null     object\n",
      " 7   2021.5   29 non-null     object\n",
      " 8   2021.6   29 non-null     object\n",
      " 9   2021.7   29 non-null     object\n",
      " 10  2021.8   29 non-null     object\n",
      " 11  2021.9   29 non-null     object\n",
      " 12  2021.10  29 non-null     object\n",
      " 13  2021.11  29 non-null     object\n",
      " 14  2021.12  29 non-null     object\n",
      " 15  2021.13  29 non-null     object\n",
      " 16  2021.14  29 non-null     object\n",
      " 17  2021.15  29 non-null     object\n",
      " 18  2021.16  29 non-null     object\n",
      " 19  2021.17  29 non-null     object\n",
      " 20  2021.18  29 non-null     object\n",
      " 21  2021.19  29 non-null     object\n",
      " 22  2021.20  29 non-null     object\n",
      " 23  2021.21  29 non-null     object\n",
      " 24  2021.22  29 non-null     object\n",
      " 25  2021.23  29 non-null     object\n",
      " 26  2021.24  29 non-null     object\n",
      " 27  2021.25  29 non-null     object\n",
      " 28  2021.26  29 non-null     object\n",
      " 29  2021.27  29 non-null     object\n",
      "dtypes: object(30)\n",
      "memory usage: 6.9+ KB\n"
     ]
    },
    {
     "data": {
      "text/plain": [
       "None"
      ]
     },
     "metadata": {},
     "output_type": "display_data"
    },
    {
     "name": "stdout",
     "output_type": "stream",
     "text": [
      "\n",
      "+=+=+=+=+=+=+=+=+=+=+=+=+=+=+=+=+=+=+=+=\n",
      "\n",
      "<class 'pandas.core.frame.DataFrame'>\n",
      "RangeIndex: 29 entries, 0 to 28\n",
      "Data columns (total 32 columns):\n",
      " #   Column   Non-Null Count  Dtype \n",
      "---  ------   --------------  ----- \n",
      " 0   자치구별(1)  4 non-null      object\n",
      " 1   자치구별(2)  29 non-null     object\n",
      " 2   2022     29 non-null     object\n",
      " 3   2022.1   29 non-null     object\n",
      " 4   2022.2   29 non-null     object\n",
      " 5   2022.3   29 non-null     object\n",
      " 6   2022.4   29 non-null     object\n",
      " 7   2022.5   29 non-null     object\n",
      " 8   2022.6   29 non-null     object\n",
      " 9   2022.7   29 non-null     object\n",
      " 10  2022.8   29 non-null     object\n",
      " 11  2022.9   29 non-null     object\n",
      " 12  2022.10  29 non-null     object\n",
      " 13  2022.11  29 non-null     object\n",
      " 14  2022.12  29 non-null     object\n",
      " 15  2022.13  29 non-null     object\n",
      " 16  2022.14  29 non-null     object\n",
      " 17  2022.15  29 non-null     object\n",
      " 18  2022.16  29 non-null     object\n",
      " 19  2022.17  29 non-null     object\n",
      " 20  2022.18  29 non-null     object\n",
      " 21  2022.19  29 non-null     object\n",
      " 22  2022.20  29 non-null     object\n",
      " 23  2022.21  29 non-null     object\n",
      " 24  2022.22  29 non-null     object\n",
      " 25  2022.23  29 non-null     object\n",
      " 26  2022.24  29 non-null     object\n",
      " 27  2022.25  29 non-null     object\n",
      " 28  2022.26  29 non-null     object\n",
      " 29  2022.27  29 non-null     object\n",
      " 30  2022.28  29 non-null     object\n",
      " 31  2022.29  29 non-null     object\n",
      "dtypes: object(32)\n",
      "memory usage: 7.4+ KB\n"
     ]
    },
    {
     "data": {
      "text/plain": [
       "None"
      ]
     },
     "metadata": {},
     "output_type": "display_data"
    },
    {
     "name": "stdout",
     "output_type": "stream",
     "text": [
      "\n",
      "+=+=+=+=+=+=+=+=+=+=+=+=+=+=+=+=+=+=+=+=\n",
      "\n",
      "<class 'pandas.core.frame.DataFrame'>\n",
      "RangeIndex: 29 entries, 0 to 28\n",
      "Data columns (total 32 columns):\n",
      " #   Column   Non-Null Count  Dtype \n",
      "---  ------   --------------  ----- \n",
      " 0   자치구별(1)  4 non-null      object\n",
      " 1   자치구별(2)  29 non-null     object\n",
      " 2   2023     29 non-null     object\n",
      " 3   2023.1   29 non-null     object\n",
      " 4   2023.2   29 non-null     object\n",
      " 5   2023.3   29 non-null     object\n",
      " 6   2023.4   29 non-null     object\n",
      " 7   2023.5   29 non-null     object\n",
      " 8   2023.6   29 non-null     object\n",
      " 9   2023.7   29 non-null     object\n",
      " 10  2023.8   29 non-null     object\n",
      " 11  2023.9   29 non-null     object\n",
      " 12  2023.10  29 non-null     object\n",
      " 13  2023.11  29 non-null     object\n",
      " 14  2023.12  29 non-null     object\n",
      " 15  2023.13  29 non-null     object\n",
      " 16  2023.14  29 non-null     object\n",
      " 17  2023.15  29 non-null     object\n",
      " 18  2023.16  29 non-null     object\n",
      " 19  2023.17  29 non-null     object\n",
      " 20  2023.18  29 non-null     object\n",
      " 21  2023.19  29 non-null     object\n",
      " 22  2023.20  29 non-null     object\n",
      " 23  2023.21  29 non-null     object\n",
      " 24  2023.22  29 non-null     object\n",
      " 25  2023.23  29 non-null     object\n",
      " 26  2023.24  29 non-null     object\n",
      " 27  2023.25  29 non-null     object\n",
      " 28  2023.26  29 non-null     object\n",
      " 29  2023.27  29 non-null     object\n",
      " 30  2023.28  29 non-null     object\n",
      " 31  2023.29  29 non-null     object\n",
      "dtypes: object(32)\n",
      "memory usage: 7.4+ KB\n"
     ]
    },
    {
     "data": {
      "text/plain": [
       "None"
      ]
     },
     "metadata": {},
     "output_type": "display_data"
    }
   ],
   "source": [
    "# 의료기간 정보 확인\n",
    "display(medical_2021_df.info())\n",
    "print()\n",
    "print('+=' * 20)\n",
    "print()\n",
    "display(medical_2022_df.info())\n",
    "print()\n",
    "print('+=' * 20)\n",
    "print()\n",
    "display(medical_2023_df.info())"
   ]
  },
  {
   "cell_type": "code",
   "execution_count": null,
   "id": "38602761-cbb5-4e5f-8ac5-d7bf9b236ba6",
   "metadata": {},
   "outputs": [],
   "source": []
  },
  {
   "cell_type": "code",
   "execution_count": null,
   "id": "483c1c09-4539-4b3c-be63-fbb5b6586f78",
   "metadata": {},
   "outputs": [],
   "source": []
  }
 ],
 "metadata": {
  "kernelspec": {
   "display_name": "Python 3 (ipykernel)",
   "language": "python",
   "name": "python3"
  },
  "language_info": {
   "codemirror_mode": {
    "name": "ipython",
    "version": 3
   },
   "file_extension": ".py",
   "mimetype": "text/x-python",
   "name": "python",
   "nbconvert_exporter": "python",
   "pygments_lexer": "ipython3",
   "version": "3.12.3"
  }
 },
 "nbformat": 4,
 "nbformat_minor": 5
}
