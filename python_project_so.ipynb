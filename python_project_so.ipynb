{
 "cells": [
  {
   "cell_type": "code",
   "execution_count": null,
   "id": "0ddbbea2-b6a7-4f7f-a8bf-f4cdbfc4678f",
   "metadata": {},
   "outputs": [],
   "source": [
    "import pandas as pd\n",
    "import numpy as np\n",
    "import warnings\n",
    "warnings.filterwarnings('ignore')\n",
    "import seaborn as sns\n",
    "import matplotlib.pyplot as plt\n",
    "%matplotlib inline\n",
    "# 한글 설정\n",
    "# pip install koreanize_matplotlib\n",
    "plt.rc('font', family='Malgun Gothic')\n",
    "plt.rc('axes', unicode_minus=False)\n",
    "# root = 'C:/workspace/python/project/data/'\n",
    "root = 'G:/workspace/python/python_project/data/'\n",
    "\n",
    "# 구글드라이브 : https://drive.google.com/drive/folders/1zIzm1o8-3uxcWSU2DoWpB8aV0Oxdfz_P?usp=sharing"
   ]
  },
  {
   "cell_type": "code",
   "execution_count": null,
   "id": "ee64353f-231a-4a6d-a859-d0e6c7c002c8",
   "metadata": {},
   "outputs": [],
   "source": [
    "'''\n",
    "주거실태 데이터 프레임\n",
    "'''\n",
    "abode_family_df = pd.read_csv(root + '주거실태_Data/거처의_종류_및_거처__가구__가구원__시군구_20241120174650.csv', encoding = 'cp949')\n",
    "abode_house_category = pd.read_csv(root + '주거실태_Data/주택의_종류별_주택__읍면동_연도_끝자리_0__5___시군구_그_외_연도__20241120174542.csv', encoding = 'cp949')"
   ]
  },
  {
   "cell_type": "code",
   "execution_count": null,
   "id": "db98a20c-e987-47cf-9b67-da47715dfc97",
   "metadata": {},
   "outputs": [],
   "source": [
    "# 주거실태 정보 확인\n",
    "abode_family_df.info()\n",
    "print()\n",
    "print('+=' * 20)\n",
    "print()\n",
    "abode_house_category.info()"
   ]
  },
  {
   "cell_type": "code",
   "execution_count": null,
   "id": "38602761-cbb5-4e5f-8ac5-d7bf9b236ba6",
   "metadata": {},
   "outputs": [],
   "source": [
    "'''\n",
    "경제활동인구 데이터 프레임\n",
    "'''\n",
    "economy_activity_df = pd.read_csv(root + '주거실태_Data/경제활동인구.csv')"
   ]
  },
  {
   "cell_type": "code",
   "execution_count": null,
   "id": "ea258fab-0928-4e93-afb1-866b2e446754",
   "metadata": {},
   "outputs": [],
   "source": [
    "# 경제활동인구 정보 확인\n",
    "display(economy_activity_df.info())"
   ]
  },
  {
   "cell_type": "code",
   "execution_count": null,
   "id": "a5c8375b-726c-4eca-9bee-4d6c573ca80f",
   "metadata": {},
   "outputs": [],
   "source": [
    "'''\n",
    "인구수 데이터 프레임\n",
    "'''\n",
    "population_df = pd.read_csv(root + '인구수_Data/2021-2023_인구__가구_및_주택_–_읍면동_연도_끝자리_0__5___시군구_그_외_연도__20241121124805.csv', encoding = 'cp949')\n",
    "seoul_pop_df = pd.read_csv(root + '인구수_Data/서울시_인구수.csv')"
   ]
  },
  {
   "cell_type": "code",
   "execution_count": null,
   "id": "21841004-c108-45ee-9b4d-2c88635d32b8",
   "metadata": {},
   "outputs": [],
   "source": [
    "# 인구수 정보 확인\n",
    "display(population_df.info())\n",
    "print()\n",
    "print('+=' * 20)\n",
    "print()\n",
    "display(seoul_pop_df.info())"
   ]
  },
  {
   "cell_type": "code",
   "execution_count": null,
   "id": "d0a43fda-7ab4-4ea6-bb4e-098432ddaec6",
   "metadata": {},
   "outputs": [],
   "source": [
    "# 주거실태 정보 확인\n",
    "abode_family_df.info()\n",
    "print()\n",
    "print('+=' * 20)\n",
    "print()\n",
    "abode_house_category.info()\n",
    "# 경제활동인구 정보 확인\n",
    "display(economy_activity_df.info())\n",
    "# 인구수 정보 확인\n",
    "display(population_df.info())\n",
    "print()\n",
    "print('+=' * 20)\n",
    "print()\n",
    "display(seoul_pop_df.info())"
   ]
  },
  {
   "cell_type": "code",
   "execution_count": null,
   "id": "f3ddf846-dc57-4329-b49b-548b9c9532f3",
   "metadata": {},
   "outputs": [],
   "source": [
    "abode_family_df.describe()"
   ]
  },
  {
   "cell_type": "code",
   "execution_count": null,
   "id": "f94dd60d-3601-4f3a-8b22-d18e546fc1f7",
   "metadata": {},
   "outputs": [],
   "source": [
    "abode_family_df.columns"
   ]
  },
  {
   "cell_type": "code",
   "execution_count": null,
   "id": "d6f530a0-1016-466c-9a53-33b6dd7e7dd9",
   "metadata": {},
   "outputs": [],
   "source": [
    "year_2021 = abode_family_df.columns.str.contains('2021')\n",
    "year_2021[0] = True\n",
    "year_2021[1] = True\n",
    "\n",
    "year_2022 = abode_family_df.columns.str.contains('2022')\n",
    "year_2022[0] = True\n",
    "year_2022[1] = True\n",
    "\n",
    "year_2023 = abode_family_df.columns.str.contains('2023')\n",
    "year_2023[0] = True\n",
    "year_2023[1] = True"
   ]
  },
  {
   "cell_type": "code",
   "execution_count": null,
   "id": "2913f6db-d414-4622-9f67-6f36778b94b6",
   "metadata": {},
   "outputs": [],
   "source": [
    "abode_family_2021_df = abode_family_df.loc[:, year_2021]\n",
    "abode_family_2022_df = abode_family_df.loc[:, year_2022]\n",
    "abode_family_2023_df = abode_family_df.loc[:, year_2023]\n",
    "\n",
    "columns_2021 = abode_family_2021_df.loc[0].values\n",
    "columns_2022 = abode_family_2022_df.loc[0].values\n",
    "columns_2023 = abode_family_2023_df.loc[0].values\n",
    "\n",
    "abode_family_2021_df.columns = columns_2021\n",
    "abode_family_2022_df.columns = columns_2022\n",
    "abode_family_2023_df.columns = columns_2023\n",
    "\n",
    "display(abode_family_2021_df[:3])\n",
    "display(abode_family_2022_df[:3])\n",
    "display(abode_family_2023_df[:3])"
   ]
  },
  {
   "cell_type": "code",
   "execution_count": null,
   "id": "12270b87-5c45-471e-9590-a796b78d6520",
   "metadata": {},
   "outputs": [],
   "source": [
    "'''\n",
    "0 행 삭제 클래스\n",
    "'''\n",
    "class ManagedDataFrame:\n",
    "    def __init__(self, name, df):\n",
    "        self.name = name\n",
    "        self.df = df\n",
    "        self.row_deleted = False  # 플래그 초기화\n",
    "\n",
    "    def delete_row_once(self):\n",
    "        if not self.row_deleted and 0 in self.df.index:\n",
    "            self.df = self.df.drop(0)\n",
    "            self.row_deleted = True\n",
    "            print(f\"{self.name}: 0행이 삭제되었습니다.\")\n",
    "        else:\n",
    "            print(f\"{self.name}: 삭제 작업이 이미 완료되었거나 0행이 없습니다.\")\n",
    "\n",
    "    # 객체 출력 시 사용자 정의 내용 반환\n",
    "    def __repr__(self):\n",
    "        return f\"ManagedDataFrame(name={self.name}, row_deleted={self.row_deleted}, df=\\n{self.df}\\n)\""
   ]
  },
  {
   "cell_type": "code",
   "execution_count": null,
   "id": "0664fe69-430a-41e7-b9ce-d214aad6f5db",
   "metadata": {},
   "outputs": [],
   "source": [
    "abode_family_2021_df = ManagedDataFrame('abode_family_2021', abode_family_2021_df)\n",
    "abode_family_2022_df = ManagedDataFrame('abode_family_2022', abode_family_2022_df)\n",
    "abode_family_2023_df = ManagedDataFrame('abode_family_2023', abode_family_2023_df)\n",
    "\n",
    "abode_family_2021_df.delete_row_once()\n",
    "abode_family_2022_df.delete_row_once()\n",
    "abode_family_2023_df.delete_row_once()"
   ]
  },
  {
   "cell_type": "code",
   "execution_count": null,
   "id": "c7c9386e-eb8a-46e6-93c2-7dae7b2dbb1c",
   "metadata": {},
   "outputs": [],
   "source": [
    "abode_family_2021_df = abode_family_2021_df.df\n",
    "abode_family_2022_df = abode_family_2022_df.df\n",
    "abode_family_2023_df = abode_family_2023_df.df"
   ]
  },
  {
   "cell_type": "code",
   "execution_count": null,
   "id": "1c491725-8013-4d12-870c-e44e9aff94fb",
   "metadata": {},
   "outputs": [],
   "source": [
    "abode_family_2021_df.columns"
   ]
  },
  {
   "cell_type": "code",
   "execution_count": null,
   "id": "6d1fd618-03c5-4b6a-ac27-8a9a8529a585",
   "metadata": {},
   "outputs": [],
   "source": [
    "abode_family_2021_df"
   ]
  },
  {
   "cell_type": "code",
   "execution_count": null,
   "id": "bfb6daa0-cd07-4f4d-a36c-eef4451ab19f",
   "metadata": {},
   "outputs": [],
   "source": [
    "abode_family_2021_df = abode_family_2021_df.rename(columns={'행정구역별(시군구)':'구'})\n",
    "abode_family_2022_df = abode_family_2022_df.rename(columns={'행정구역별(시군구)':'구'})\n",
    "abode_family_2023_df = abode_family_2023_df.rename(columns={'행정구역별(시군구)':'구'})"
   ]
  },
  {
   "cell_type": "code",
   "execution_count": null,
   "id": "c9d7385a-d910-4763-9afe-b4186154e669",
   "metadata": {},
   "outputs": [],
   "source": [
    "abode_family_2021_df"
   ]
  },
  {
   "cell_type": "code",
   "execution_count": null,
   "id": "5c09015d-9ca8-431b-94b5-1f47f3774ff8",
   "metadata": {},
   "outputs": [],
   "source": [
    "# gu_2021 = abode_family_2021_df.loc[:,'구']\n",
    "# 중복 제거\n",
    "# unique_gu = gu_2021.drop_duplicates()\n",
    "# DataFrame으로 변환\n",
    "# unique_gu_df = unique_gu.to_frame(name='구')\n",
    "\n",
    "# '구' 컬럼의 중복 제거\n",
    "unique_gu_df = abode_family_2021_df[['구']].drop_duplicates()\n",
    "# 인덱스 초기화\n",
    "unique_gu_df = unique_gu_df.reset_index(drop=True)\n",
    "print(unique_gu_df)\n",
    "\n",
    "print()\n",
    "print('+=' * 20)\n",
    "print()\n",
    "\n",
    "# '거처의 종류' 컬럼의 중복 제거\n",
    "unique_type_df = abode_family_2021_df[['거처의 종류']].drop_duplicates()\n",
    "# 인덱스 초기화\n",
    "unique_type_df = unique_type_df.reset_index(drop=True)\n",
    "print(unique_type_df)"
   ]
  },
  {
   "cell_type": "code",
   "execution_count": null,
   "id": "f10ba885-5cd1-4d21-8407-ad95f5670245",
   "metadata": {},
   "outputs": [],
   "source": [
    "abode_family_2021_df_sum = abode_family_2021_df.loc[(abode_family_2021_df[\"거처의 종류\"] == \"계\")].reset_index(drop=True)\n",
    "abode_family_2022_df_sum = abode_family_2022_df.loc[(abode_family_2022_df[\"거처의 종류\"] == \"계\")].reset_index(drop=True)\n",
    "abode_family_2023_df_sum = abode_family_2023_df.loc[(abode_family_2023_df[\"거처의 종류\"] == \"계\")].reset_index(drop=True)"
   ]
  },
  {
   "cell_type": "code",
   "execution_count": null,
   "id": "f0f321f2-78a2-4ff0-a37a-4c2e53e2676f",
   "metadata": {},
   "outputs": [],
   "source": [
    "display(abode_family_2021_df_sum[:3])"
   ]
  },
  {
   "cell_type": "code",
   "execution_count": null,
   "id": "1a001872-c3cc-45c0-9825-d3cc57d905f1",
   "metadata": {},
   "outputs": [],
   "source": [
    "abode_family_2021_df_house_sum = abode_family_2021_df.loc[(abode_family_2021_df[\"거처의 종류\"] == \"주택_계\")].reset_index(drop=True)\n",
    "abode_family_2022_df_house_sum = abode_family_2022_df.loc[(abode_family_2022_df[\"거처의 종류\"] == \"주택_계\")].reset_index(drop=True)\n",
    "abode_family_2023_df_house_sum = abode_family_2023_df.loc[(abode_family_2023_df[\"거처의 종류\"] == \"주택_계\")].reset_index(drop=True)"
   ]
  },
  {
   "cell_type": "code",
   "execution_count": null,
   "id": "e7baba2c-2105-4579-8d6e-608f56816b1c",
   "metadata": {},
   "outputs": [],
   "source": [
    "display(abode_family_2022_df_house_sum[:5])"
   ]
  },
  {
   "cell_type": "code",
   "execution_count": null,
   "id": "c6fe3609-0b2a-47ae-a0cf-260f12d5c0b4",
   "metadata": {},
   "outputs": [],
   "source": [
    "abode_family_2021_df_singlehouse = abode_family_2021_df.loc[(abode_family_2021_df[\"거처의 종류\"] == \"주택_단독주택\")].reset_index(drop=True)\n",
    "abode_family_2022_df_singlehouse = abode_family_2022_df.loc[(abode_family_2022_df[\"거처의 종류\"] == \"주택_단독주택\")].reset_index(drop=True)\n",
    "abode_family_2023_df_singlehouse = abode_family_2023_df.loc[(abode_family_2023_df[\"거처의 종류\"] == \"주택_단독주택\")].reset_index(drop=True)"
   ]
  },
  {
   "cell_type": "code",
   "execution_count": null,
   "id": "ae90a8e7-35be-4df7-bcb3-697f83f86ab6",
   "metadata": {},
   "outputs": [],
   "source": [
    "display(abode_family_2023_df_singlehouse[:5])"
   ]
  },
  {
   "cell_type": "code",
   "execution_count": null,
   "id": "4a75f654-89f1-41e1-a80e-8015ddbab0be",
   "metadata": {},
   "outputs": [],
   "source": [
    "abode_family_2021_df_apt = abode_family_2021_df.loc[(abode_family_2021_df[\"거처의 종류\"] == \"주택_아파트\")].reset_index(drop=True)\n",
    "abode_family_2022_df_apt = abode_family_2022_df.loc[(abode_family_2022_df[\"거처의 종류\"] == \"주택_아파트\")].reset_index(drop=True)\n",
    "abode_family_2023_df_apt = abode_family_2023_df.loc[(abode_family_2023_df[\"거처의 종류\"] == \"주택_아파트\")].reset_index(drop=True)"
   ]
  },
  {
   "cell_type": "code",
   "execution_count": null,
   "id": "3f10e79b-7c62-450c-bd4d-e13ab8138f5d",
   "metadata": {},
   "outputs": [],
   "source": [
    "abode_family_2021_df_apt[:3]"
   ]
  },
  {
   "cell_type": "code",
   "execution_count": null,
   "id": "4c1dbfdc-7636-4f08-842b-00350cb08315",
   "metadata": {},
   "outputs": [],
   "source": [
    "abode_family_2021_df_coalitionhouse = abode_family_2021_df.loc[(abode_family_2021_df[\"거처의 종류\"] == \"주택_연립주택\")].reset_index(drop=True)\n",
    "abode_family_2022_df_coalitionhouse = abode_family_2022_df.loc[(abode_family_2022_df[\"거처의 종류\"] == \"주택_연립주택\")].reset_index(drop=True)\n",
    "abode_family_2023_df_coalitionhouse = abode_family_2023_df.loc[(abode_family_2023_df[\"거처의 종류\"] == \"주택_연립주택\")].reset_index(drop=True)"
   ]
  },
  {
   "cell_type": "code",
   "execution_count": null,
   "id": "a55c5541-6953-4f82-9bb6-207785fa2dae",
   "metadata": {},
   "outputs": [],
   "source": [
    "abode_family_2021_df_coalitionhouse[:3]"
   ]
  },
  {
   "cell_type": "code",
   "execution_count": null,
   "id": "cecbf980-e73e-4f0a-ab91-060d5b97880f",
   "metadata": {},
   "outputs": [],
   "source": [
    "abode_family_2021_df_multihouse = abode_family_2021_df.loc[(abode_family_2021_df[\"거처의 종류\"] == \"주택_다세대주택\")].reset_index(drop=True)\n",
    "abode_family_2022_df_multihouse = abode_family_2022_df.loc[(abode_family_2022_df[\"거처의 종류\"] == \"주택_다세대주택\")].reset_index(drop=True)\n",
    "abode_family_2023_df_multihouse = abode_family_2023_df.loc[(abode_family_2023_df[\"거처의 종류\"] == \"주택_다세대주택\")].reset_index(drop=True)"
   ]
  },
  {
   "cell_type": "code",
   "execution_count": null,
   "id": "3112f7e0-c650-4226-8aa5-5ee5433d4888",
   "metadata": {},
   "outputs": [],
   "source": [
    "abode_family_2021_df_multihouse"
   ]
  },
  {
   "cell_type": "code",
   "execution_count": null,
   "id": "302c7b40-2c22-4864-be02-5792616426d0",
   "metadata": {},
   "outputs": [],
   "source": [
    "abode_family_2021_df_nonresident = abode_family_2021_df.loc[(abode_family_2021_df[\"거처의 종류\"] == \"주택_비주거용 건물 내 주택\")].reset_index(drop=True)\n",
    "abode_family_2022_df_nonresident = abode_family_2022_df.loc[(abode_family_2022_df[\"거처의 종류\"] == \"주택_비주거용 건물 내 주택\")].reset_index(drop=True)\n",
    "abode_family_2023_df_nonresident = abode_family_2023_df.loc[(abode_family_2023_df[\"거처의 종류\"] == \"주택_비주거용 건물 내 주택\")].reset_index(drop=True)"
   ]
  },
  {
   "cell_type": "code",
   "execution_count": null,
   "id": "0b6eb662-88e1-4dcd-9e45-7c3c5c0208b8",
   "metadata": {},
   "outputs": [],
   "source": [
    "abode_family_2021_df_nonresident[:3]"
   ]
  },
  {
   "cell_type": "code",
   "execution_count": null,
   "id": "f3fddead-c681-42e4-bb01-101ee301b8b2",
   "metadata": {},
   "outputs": [],
   "source": [
    "abode_family_2021_df_etchouse = abode_family_2021_df.loc[(abode_family_2021_df[\"거처의 종류\"] == \"주택 이외의 거처_계\")].reset_index(drop=True)\n",
    "abode_family_2022_df_etchouse = abode_family_2022_df.loc[(abode_family_2022_df[\"거처의 종류\"] == \"주택 이외의 거처_계\")].reset_index(drop=True)\n",
    "abode_family_2023_df_etchouse = abode_family_2023_df.loc[(abode_family_2023_df[\"거처의 종류\"] == \"주택 이외의 거처_계\")].reset_index(drop=True)"
   ]
  },
  {
   "cell_type": "code",
   "execution_count": null,
   "id": "e32ddd48-01cb-4bb5-85e3-2552f08ae90a",
   "metadata": {},
   "outputs": [],
   "source": [
    "abode_family_2021_df_etchouse[:3]"
   ]
  },
  {
   "cell_type": "code",
   "execution_count": null,
   "id": "b0ae8778-5862-44b7-9942-23c41fae55c4",
   "metadata": {},
   "outputs": [],
   "source": [
    "abode_family_2021_df_officetel = abode_family_2021_df.loc[(abode_family_2021_df[\"거처의 종류\"] == \"주택 이외의 거처_오피스텔\")].reset_index(drop=True)\n",
    "abode_family_2022_df_officetel = abode_family_2022_df.loc[(abode_family_2022_df[\"거처의 종류\"] == \"주택 이외의 거처_오피스텔\")].reset_index(drop=True)\n",
    "abode_family_2023_df_officetel = abode_family_2023_df.loc[(abode_family_2023_df[\"거처의 종류\"] == \"주택 이외의 거처_오피스텔\")].reset_index(drop=True)"
   ]
  },
  {
   "cell_type": "code",
   "execution_count": null,
   "id": "e10110fc-9d17-47ea-9d8f-410b9d3f6353",
   "metadata": {},
   "outputs": [],
   "source": [
    "abode_family_2021_df_officetel[:3]"
   ]
  },
  {
   "cell_type": "code",
   "execution_count": null,
   "id": "531a26e9-3f11-4018-a153-2c689616f807",
   "metadata": {},
   "outputs": [],
   "source": [
    "# 2021 주거실태_Data/거처의_종류_및_거처__가구__가구원__시군구\n",
    "# 2021 전체\n",
    "abode_family_2021_df\n",
    "# 2021 계\n",
    "abode_family_2021_df_sum\n",
    "# 2021 주택_계\n",
    "abode_family_2021_df_house_sum\n",
    "# 2021 주택_단독주택\n",
    "abode_family_2021_df_singlehouse\n",
    "# 2021 주택_아파트\n",
    "abode_family_2021_df_apt\n",
    "# 2021 주택_연립주택\n",
    "abode_family_2021_df_coalitionhouse\n",
    "# 2021 주택_다세대주택\n",
    "abode_family_2021_df_multihouse\n",
    "# 2021 주택_비주거용 건물 내 주택\n",
    "abode_family_2021_df_nonresident\n",
    "# 2021 주택 이외의 거처_계\n",
    "abode_family_2021_df_etchouse\n",
    "# 2021 주택 이외의 거처_오피스텔\n",
    "abode_family_2021_df_officetel"
   ]
  },
  {
   "cell_type": "code",
   "execution_count": null,
   "id": "c808ef88-abf9-4487-b04b-bea3944f9684",
   "metadata": {},
   "outputs": [],
   "source": [
    "# 2022 주거실태_Data/거처의_종류_및_거처__가구__가구원__시군구\n",
    "# 2022 전체\n",
    "abode_family_2022_df\n",
    "# 2022 계\n",
    "abode_family_2022_df_sum\n",
    "# 2022 주택_계\n",
    "abode_family_2022_df_house_sum\n",
    "# 2022 주택_단독주택\n",
    "abode_family_2022_df_singlehouse\n",
    "# 2022 주택_아파트\n",
    "abode_family_2022_df_apt\n",
    "# 2022 주택_연립주택\n",
    "abode_family_2022_df_coalitionhouse\n",
    "# 2022 주택_다세대주택\n",
    "abode_family_2022_df_multihouse\n",
    "# 2022 주택_비주거용 건물 내 주택\n",
    "abode_family_2022_df_nonresident\n",
    "# 2022 주택 이외의 거처_계\n",
    "abode_family_2022_df_etchouse\n",
    "# 2022 주택 이외의 거처_오피스텔\n",
    "abode_family_2022_df_officetel"
   ]
  },
  {
   "cell_type": "code",
   "execution_count": null,
   "id": "772c33c8-33d9-4010-98d3-f2583b4780af",
   "metadata": {},
   "outputs": [],
   "source": [
    "# 2023 주거실태_Data/거처의_종류_및_거처__가구__가구원__시군구\n",
    "# 2023 전체\n",
    "abode_family_2023_df\n",
    "# 2023 계\n",
    "abode_family_2023_df_sum\n",
    "# 2023 주택_계\n",
    "abode_family_2023_df_house_sum\n",
    "# 2023 주택_단독주택\n",
    "abode_family_2023_df_singlehouse\n",
    "# 2023 주택_아파트\n",
    "abode_family_2023_df_apt\n",
    "# 2023 주택_연립주택\n",
    "abode_family_2023_df_coalitionhouse\n",
    "# 2023 주택_다세대주택\n",
    "abode_family_2023_df_multihouse\n",
    "# 2023 주택_비주거용 건물 내 주택\n",
    "abode_family_2023_df_nonresident\n",
    "# 2023 주택 이외의 거처_계\n",
    "abode_family_2023_df_etchouse\n",
    "# 2023 주택 이외의 거처_오피스텔\n",
    "abode_family_2023_df_officetel"
   ]
  },
  {
   "cell_type": "code",
   "execution_count": null,
   "id": "64211f83-4cbe-4dd4-a699-5a4f813c6858",
   "metadata": {},
   "outputs": [],
   "source": []
  },
  {
   "cell_type": "code",
   "execution_count": null,
   "id": "d546c68e-45fd-4e6f-89cc-a17ea40292f1",
   "metadata": {},
   "outputs": [],
   "source": []
  },
  {
   "cell_type": "code",
   "execution_count": null,
   "id": "f861e385-03dc-465a-9960-862f8266fdde",
   "metadata": {},
   "outputs": [],
   "source": [
    "abode_house_category[:10]"
   ]
  },
  {
   "cell_type": "code",
   "execution_count": null,
   "id": "de5bfa39-dd97-48ff-98c1-a9f5b73ad99b",
   "metadata": {},
   "outputs": [],
   "source": [
    "category_2021 = abode_house_category.columns.str.contains('2021')\n",
    "category_2021[0] = True\n",
    "category_2021[1] = True\n",
    "\n",
    "category_2022 = abode_house_category.columns.str.contains('2022')\n",
    "category_2022[0] = True\n",
    "category_2022[1] = True\n",
    "\n",
    "category_2023 = abode_house_category.columns.str.contains('2023')\n",
    "category_2023[0] = True\n",
    "category_2023[1] = True"
   ]
  },
  {
   "cell_type": "code",
   "execution_count": null,
   "id": "c6557a8c-10a4-4cba-850d-3f8167923a1b",
   "metadata": {},
   "outputs": [],
   "source": [
    "abode_house_category_2021_df = abode_house_category.loc[:, category_2021]\n",
    "abode_house_category_2022_df = abode_house_category.loc[:, category_2022]\n",
    "abode_house_category_2023_df = abode_house_category.loc[:, category_2023]\n",
    "\n",
    "house_col_2021 = abode_house_category_2021_df.loc[0].values\n",
    "house_col_2022 = abode_house_category_2022_df.loc[0].values\n",
    "house_col_2023 = abode_house_category_2023_df.loc[0].values\n",
    "\n",
    "abode_house_category_2021_df.columns = house_col_2021\n",
    "abode_house_category_2022_df.columns = house_col_2022\n",
    "abode_house_category_2023_df.columns = house_col_2023\n",
    "\n",
    "display(abode_house_category_2021_df[:3])\n",
    "display(abode_house_category_2022_df[:3])\n",
    "display(abode_house_category_2023_df[:3])"
   ]
  },
  {
   "cell_type": "code",
   "execution_count": null,
   "id": "886348ce-11fe-46e7-8e29-2798c0c6123f",
   "metadata": {},
   "outputs": [],
   "source": [
    "abode_house_category_2021_df = ManagedDataFrame('abode_house_category_2021', abode_house_category_2021_df)\n",
    "abode_house_category_2022_df = ManagedDataFrame('abode_house_category_2022', abode_house_category_2022_df)\n",
    "abode_house_category_2023_df = ManagedDataFrame('abode_house_category_2023', abode_house_category_2023_df)\n",
    "\n",
    "abode_house_category_2021_df.delete_row_once()\n",
    "abode_house_category_2022_df.delete_row_once()\n",
    "abode_house_category_2023_df.delete_row_once()"
   ]
  },
  {
   "cell_type": "code",
   "execution_count": null,
   "id": "483c1c09-4539-4b3c-be63-fbb5b6586f78",
   "metadata": {},
   "outputs": [],
   "source": [
    "abode_house_category_2021_df = abode_house_category_2021_df.df\n",
    "abode_house_category_2022_df = abode_house_category_2022_df.df\n",
    "abode_house_category_2023_df = abode_house_category_2023_df.df"
   ]
  },
  {
   "cell_type": "code",
   "execution_count": null,
   "id": "e5a3947e-05eb-4449-9ecf-a51b39a5c1bd",
   "metadata": {},
   "outputs": [],
   "source": [
    "abode_house_category_2021_df.columns"
   ]
  },
  {
   "cell_type": "code",
   "execution_count": null,
   "id": "836401e6-70c2-4ceb-b185-e1b8fb0e43d3",
   "metadata": {},
   "outputs": [],
   "source": [
    "abode_house_category_2021_df"
   ]
  },
  {
   "cell_type": "code",
   "execution_count": null,
   "id": "f5ed5feb-16f4-4500-bc06-c20dcfb4a2aa",
   "metadata": {},
   "outputs": [],
   "source": [
    "abode_house_category_2021_df = abode_house_category_2021_df.rename(columns={'행정구역별(읍면동)':'구'})\n",
    "abode_house_category_2022_df = abode_house_category_2022_df.rename(columns={'행정구역별(읍면동)':'구'})\n",
    "abode_house_category_2023_df = abode_house_category_2023_df.rename(columns={'행정구역별(읍면동)':'구'})"
   ]
  },
  {
   "cell_type": "code",
   "execution_count": null,
   "id": "2138a94b-a58e-4aef-88d9-c520b41357a6",
   "metadata": {},
   "outputs": [],
   "source": [
    "'''\n",
    "def drop_columns_once(df, column_names):\n",
    "    if not hasattr(drop_columns_once, \"executed\"):\n",
    "        drop_columns_once.executed = False\n",
    "\n",
    "    if not drop_columns_once.executed:\n",
    "        # 컬럼 삭제\n",
    "        result = df.drop(columns=column_names)\n",
    "        drop_columns_once.executed = True\n",
    "        return result\n",
    "    else:\n",
    "        print(\"This function can only be executed once.\")\n",
    "        return df\n",
    "'''"
   ]
  },
  {
   "cell_type": "code",
   "execution_count": null,
   "id": "81b30a5e-8ce5-4abd-bb59-c43eb3f1c9dc",
   "metadata": {},
   "outputs": [],
   "source": [
    "abode_house_category_2021_df = abode_house_category_2021_df.drop(columns=[\"단독주택-일반\", \"단독주택-다가구\", \"단독주택-영업겸용\"])\n",
    "abode_house_category_2022_df = abode_house_category_2022_df.drop(columns=[\"단독주택-일반\", \"단독주택-다가구\", \"단독주택-영업겸용\"])\n",
    "abode_house_category_2023_df = abode_house_category_2023_df.drop(columns=[\"단독주택-일반\", \"단독주택-다가구\", \"단독주택-영업겸용\"])"
   ]
  },
  {
   "cell_type": "code",
   "execution_count": null,
   "id": "d6e1f61b-7bda-4fa6-a84e-f706e0bdb517",
   "metadata": {},
   "outputs": [],
   "source": [
    "abode_house_category_2021_df = abode_house_category_2021_df.rename(columns={'단독주택-계':'단독주택'})\n",
    "abode_house_category_2022_df = abode_house_category_2022_df.rename(columns={'단독주택-계':'단독주택'})\n",
    "abode_house_category_2023_df = abode_house_category_2023_df.rename(columns={'단독주택-계':'단독주택'})"
   ]
  },
  {
   "cell_type": "code",
   "execution_count": null,
   "id": "a5fb67c0-cf6a-49fe-9f36-fe46d6923cdf",
   "metadata": {},
   "outputs": [],
   "source": [
    "display(abode_house_category_2021_df)"
   ]
  },
  {
   "cell_type": "code",
   "execution_count": null,
   "id": "b64a7ab1-fafe-4f9e-bc7e-3b9ae0e05f3a",
   "metadata": {},
   "outputs": [],
   "source": [
    "display(abode_house_category_2022_df)"
   ]
  },
  {
   "cell_type": "code",
   "execution_count": null,
   "id": "807be171-fde3-4a3d-aef6-1b93e13a7b45",
   "metadata": {},
   "outputs": [],
   "source": [
    "display(abode_house_category_2023_df)"
   ]
  },
  {
   "cell_type": "code",
   "execution_count": null,
   "id": "19106e82-d8a1-48e7-b462-e81657c55cbb",
   "metadata": {},
   "outputs": [],
   "source": []
  },
  {
   "cell_type": "code",
   "execution_count": null,
   "id": "d1c65d5c-f8cc-4890-892c-2402e554bd00",
   "metadata": {},
   "outputs": [],
   "source": []
  },
  {
   "cell_type": "code",
   "execution_count": null,
   "id": "37c49078-5fd2-4120-aed5-86e537a22afd",
   "metadata": {},
   "outputs": [],
   "source": []
  },
  {
   "cell_type": "code",
   "execution_count": null,
   "id": "f90c1e08-0de1-4828-87d0-6c77f55b2038",
   "metadata": {},
   "outputs": [],
   "source": []
  }
 ],
 "metadata": {
  "kernelspec": {
   "display_name": "Python 3 (ipykernel)",
   "language": "python",
   "name": "python3"
  },
  "language_info": {
   "codemirror_mode": {
    "name": "ipython",
    "version": 3
   },
   "file_extension": ".py",
   "mimetype": "text/x-python",
   "name": "python",
   "nbconvert_exporter": "python",
   "pygments_lexer": "ipython3",
   "version": "3.12.3"
  }
 },
 "nbformat": 4,
 "nbformat_minor": 5
}
