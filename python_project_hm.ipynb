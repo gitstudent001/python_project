{
 "cells": [
  {
   "cell_type": "code",
   "execution_count": null,
   "id": "0ddbbea2-b6a7-4f7f-a8bf-f4cdbfc4678f",
   "metadata": {},
   "outputs": [],
   "source": [
    "import pandas as pd\n",
    "import numpy as np\n",
    "import warnings\n",
    "warnings.filterwarnings('ignore')\n",
    "import seaborn as sns\n",
    "import matplotlib.pyplot as plt\n",
    "\n",
    "import wordcloud\n",
    "from wordcloud import WordCloud\n",
    "import json\n",
    "import folium\n",
    "%matplotlib inline\n",
    "# 한글 설정\n",
    "# pip install koreanize_matplotlib\n",
    "plt.rc('font', family='Malgun Gothic')\n",
    "plt.rc('axes', unicode_minus=False)\n",
    "root = 'C:/workspace/python/project/data/'\n",
    "\n",
    "# 구글드라이브 : https://drive.google.com/drive/folders/1zIzm1o8-3uxcWSU2DoWpB8aV0Oxdfz_P?usp=sharing"
   ]
  },
  {
   "cell_type": "code",
   "execution_count": null,
   "id": "f8c6694c-b7fb-4e5b-a1e5-91031b7c4d87",
   "metadata": {},
   "outputs": [],
   "source": [
    "'''\n",
    "서울시 집값 데이터 프레임\n",
    "'''\n",
    "seoul_2021_df = pd.read_csv(root + '부동산_Data/부동산_2021.csv', encoding = 'cp949')\n",
    "seoul_2022_df = pd.read_csv(root + '부동산_Data/부동산_2022.csv', encoding = 'cp949')\n",
    "seoul_2023_df = pd.read_csv(root + '부동산_Data/부동산_2023.csv', encoding = 'cp949')"
   ]
  },
  {
   "cell_type": "code",
   "execution_count": null,
   "id": "f80eb496-c44e-425c-85ed-d973952b6eee",
   "metadata": {},
   "outputs": [],
   "source": [
    "# 서울시 집값 데이터 확인\n",
    "display(seoul_2021_df.info())\n",
    "print()\n",
    "print('+=' * 20)\n",
    "print()\n",
    "display(seoul_2022_df.info())\n",
    "print()\n",
    "print('+=' * 20)\n",
    "print()\n",
    "display(seoul_2023_df.info())"
   ]
  },
  {
   "cell_type": "code",
   "execution_count": null,
   "id": "cfcfd828-cf83-4988-9544-1cea17e67594",
   "metadata": {},
   "outputs": [],
   "source": [
    "# dict_keys(['2019년 12월 31일 기준', '2020년 12월 31일 기준', '2021년 12월 31일 기준', '2022년 12월 31일 기준', '2023년 12월 4일 기준'])\n",
    "all_bus_stop_dict = pd.read_excel(root + '교통_Data/버스_정류소현황(2019~2023년).xlsx', sheet_name=None)\n",
    "bus_stop_address_df = pd.read_excel(root + '교통_Data/서울시버스정류소위치정보(20241110).xlsx')"
   ]
  },
  {
   "cell_type": "code",
   "execution_count": null,
   "id": "f3ddbff9-4044-472a-8427-70c03b0d9500",
   "metadata": {},
   "outputs": [],
   "source": [
    "'''\n",
    "버스 정류장 데이터 프레임\n",
    "'''\n",
    "bus_stop_2021_df = all_bus_stop_dict['2021년 12월 31일 기준']\n",
    "bus_stop_2022_df = all_bus_stop_dict['2022년 12월 31일 기준']\n",
    "bus_stop_2023_df = all_bus_stop_dict['2023년 12월 4일 기준']"
   ]
  },
  {
   "cell_type": "code",
   "execution_count": null,
   "id": "fa2c094d-7a13-4527-b018-8ee36bdc58e9",
   "metadata": {},
   "outputs": [],
   "source": [
    "# 서울시 버스정류장 정보 확인\n",
    "display(bus_stop_2021_df.info())\n",
    "print()\n",
    "print('+=' * 20)\n",
    "print()\n",
    "display(bus_stop_2022_df.info())\n",
    "print()\n",
    "print('+=' * 20)\n",
    "print()\n",
    "display(bus_stop_2023_df.info())"
   ]
  },
  {
   "cell_type": "code",
   "execution_count": null,
   "id": "2c79d797-b2bb-4f01-b3a5-3ac6e1f5c399",
   "metadata": {},
   "outputs": [],
   "source": [
    "'''\n",
    "지하철 데이터 프레임\n",
    "'''\n",
    "train_2021_df = pd.read_csv(root + '교통_Data/서울시 지역별 지하철역 정보_2021.csv', encoding = 'cp949')\n",
    "train_2022_df = pd.read_csv(root + '교통_Data/서울시 지역별 지하철역 정보_2022.csv', encoding = 'cp949')\n",
    "train_2023_df = pd.read_csv(root + '교통_Data/서울시 지역별 지하철역 정보_2023.csv', encoding = 'cp949')"
   ]
  },
  {
   "cell_type": "code",
   "execution_count": null,
   "id": "2e49ab4b-691e-4c6c-96c4-0fbeb8032db3",
   "metadata": {},
   "outputs": [],
   "source": [
    "# 지하철 정보 확인\n",
    "train_2021_df.info()\n",
    "print()\n",
    "print('+=' * 20)\n",
    "print()\n",
    "train_2022_df.info()\n",
    "print()\n",
    "print('+=' * 20)\n",
    "print()\n",
    "train_2023_df.info()"
   ]
  },
  {
   "cell_type": "code",
   "execution_count": null,
   "id": "2608f420-4309-4457-84ff-497469877bfe",
   "metadata": {},
   "outputs": [],
   "source": [
    "'''\n",
    "주거실태 데이터 프레임\n",
    "'''\n",
    "abode_family_df = pd.read_csv(root + '주거실태_Data/거처의_종류_및_거처__가구__가구원__시군구_20241120174650.csv', encoding = 'cp949')\n",
    "abode_house_category = pd.read_csv(root + '주거실태_Data/주택의_종류별_주택__읍면동_연도_끝자리_0__5___시군구_그_외_연도__20241120174542.csv', encoding = 'cp949')"
   ]
  },
  {
   "cell_type": "code",
   "execution_count": null,
   "id": "7cf86af8-d454-434a-bfdd-378e00ca82a4",
   "metadata": {},
   "outputs": [],
   "source": [
    "# 주거실태 정보 확인\n",
    "abode_family_df.info()\n",
    "print()\n",
    "print('+=' * 20)\n",
    "print()\n",
    "abode_house_category.info()"
   ]
  },
  {
   "cell_type": "code",
   "execution_count": null,
   "id": "51f601aa-51bb-4a6e-b9da-4c31d9efa8aa",
   "metadata": {},
   "outputs": [],
   "source": [
    "'''\n",
    "공원 데이터 프레임\n",
    "'''\n",
    "park_2021_df = pd.read_excel(root + '공원_Data/공원현황_2021.xlsx')\n",
    "park_2022_df = pd.read_excel(root + '공원_Data/공원현황_2022.xlsx')\n",
    "park_2023_df = pd.read_excel(root + '공원_Data/공원현황_2023.xlsx')"
   ]
  },
  {
   "cell_type": "code",
   "execution_count": null,
   "id": "8e7ead30-bdc1-48f9-a8a3-058e495b5dd5",
   "metadata": {},
   "outputs": [],
   "source": [
    "# 공원 정보 확인\n",
    "display(park_2021_df.info())\n",
    "print()\n",
    "print('+=' * 20)\n",
    "print()\n",
    "display(park_2022_df.info())\n",
    "print()\n",
    "print('+=' * 20)\n",
    "print()\n",
    "display(park_2023_df.info())"
   ]
  },
  {
   "cell_type": "code",
   "execution_count": null,
   "id": "94ecd85a-8cd7-4672-ba4c-12af9bde8f8d",
   "metadata": {},
   "outputs": [],
   "source": [
    "'''\n",
    "유통업체 데이터 프레임\n",
    "'''\n",
    "distributor_2021_df = pd.read_excel(root + '유통업체_Data/유통업체현황_2021.xlsx', header=None)\n",
    "distributor_2022_df = pd.read_excel(root + '유통업체_Data/유통업체현황_2022.xlsx', header=None)\n",
    "distributor_2023_df = pd.read_excel(root + '유통업체_Data/유통업체현황_2023.xlsx', header=None)"
   ]
  },
  {
   "cell_type": "code",
   "execution_count": null,
   "id": "d3ba1076-7a6b-46ab-847d-fc04a15096e0",
   "metadata": {},
   "outputs": [],
   "source": [
    "# 유통업체 정보 확인\n",
    "display(distributor_2021_df.info())\n",
    "print()\n",
    "print('+=' * 20)\n",
    "print()\n",
    "display(distributor_2022_df.info())\n",
    "print()\n",
    "print('+=' * 20)\n",
    "print()\n",
    "display(distributor_2023_df.info())"
   ]
  },
  {
   "cell_type": "code",
   "execution_count": null,
   "id": "7ab6dbaa-2223-4294-ad6e-d06f03789e08",
   "metadata": {},
   "outputs": [],
   "source": [
    "'''\n",
    "의료기간 데이터 프레임\n",
    "'''\n",
    "medical_2021_df = pd.read_excel(root + '의료기관_Data/의료기관_2021.xlsx')\n",
    "medical_2022_df = pd.read_excel(root + '의료기관_Data/의료기관_2022.xlsx')\n",
    "medical_2023_df = pd.read_excel(root + '의료기관_Data/의료기관_2023.xlsx')"
   ]
  },
  {
   "cell_type": "code",
   "execution_count": null,
   "id": "6d15ffad-7178-4ad8-95ad-f15ca1e5f09b",
   "metadata": {},
   "outputs": [],
   "source": [
    "# 의료기간 정보 확인\n",
    "display(medical_2021_df.info())\n",
    "print()\n",
    "print('+=' * 20)\n",
    "print()\n",
    "display(medical_2022_df.info())\n",
    "print()\n",
    "print('+=' * 20)\n",
    "print()\n",
    "display(medical_2023_df.info())"
   ]
  },
  {
   "cell_type": "code",
   "execution_count": null,
   "id": "927a97d7-814b-40f8-89eb-37cc8bf25beb",
   "metadata": {},
   "outputs": [],
   "source": [
    "population_df = pd.read_csv(root + '인구수_Data/인구수.csv', encoding = 'cp949')"
   ]
  },
  {
   "cell_type": "code",
   "execution_count": null,
   "id": "17239ba5-651d-41cc-9dac-135a1cfe33b7",
   "metadata": {},
   "outputs": [],
   "source": [
    "display(population_df.info())"
   ]
  },
  {
   "cell_type": "code",
   "execution_count": null,
   "id": "1dc25ec6-23b0-4696-9142-033d730159ba",
   "metadata": {},
   "outputs": [],
   "source": [
    "'''\n",
    "서울시 집값 전처리 함수 (행정구 별 평균시세)\n",
    "'''\n",
    "def precleaning_seoul(df) :\n",
    "  df = df.groupby(['접수연도', '자치구명'])['물건금액(만원)'].mean().reset_index()\n",
    "  df = df.rename(columns = {'접수연도' : '연도', '자치구명' : '구', '물건금액(만원)' : '평균시세'})\n",
    "  df['평균시세'] = round(df['평균시세'], 2)\n",
    "  return df"
   ]
  },
  {
   "cell_type": "code",
   "execution_count": null,
   "id": "da5086ee-6ff9-4d20-a801-9db57599da40",
   "metadata": {},
   "outputs": [],
   "source": [
    "# 서울시 집값 전처리 함수 적용\n",
    "seoul_2021_avg_df = precleaning_seoul(seoul_2021_df)\n",
    "seoul_2022_avg_df = precleaning_seoul(seoul_2022_df)\n",
    "seoul_2023_avg_df = precleaning_seoul(seoul_2023_df)"
   ]
  },
  {
   "cell_type": "code",
   "execution_count": null,
   "id": "151f52f7-63c9-479c-8499-a67ad7c4b0c2",
   "metadata": {},
   "outputs": [],
   "source": [
    "  # 확인\n",
    "display(seoul_2021_avg_df[:5])\n",
    "display(seoul_2022_avg_df[:5])\n",
    "display(seoul_2023_avg_df[:5])"
   ]
  },
  {
   "cell_type": "code",
   "execution_count": null,
   "id": "754a3fda-efb9-423c-884c-d5f1f9a6e914",
   "metadata": {},
   "outputs": [],
   "source": [
    "'''\n",
    "유통업체 전처리 함수\n",
    "'''\n",
    "def precleaning_distributor(df) :\n",
    "  # 컬럼명 지정\n",
    "  df.columns = df.iloc[1] + '_' + df.iloc[3]\n",
    "  df.columns = df.columns.str.strip()\n",
    "  # 쓸모없는 행 삭제\n",
    "  df = df.iloc[4:].reset_index(drop=True)\n",
    "  # 쓸모없는 열 삭제\n",
    "  df = df.drop(columns = ['동별(1)_동별(1)'])\n",
    "  \n",
    "  # 컬럼명 보기 쉽게 변경\n",
    "  df = df.rename(columns = {'동별(2)_동별(2)' : '구'})\n",
    "  columns = []\n",
    "  for column in df.columns : \n",
    "    column = column.split(' (')\n",
    "    columns.append(column[0])\n",
    "  df.columns = columns\n",
    "  return df"
   ]
  },
  {
   "cell_type": "code",
   "execution_count": null,
   "id": "0ecf7da7-cd58-4c88-9a9c-0069269b1b4e",
   "metadata": {},
   "outputs": [],
   "source": [
    "'''\n",
    "유통업체 전처리 함수 적용\n",
    "'''\n",
    "distributor_2021_df = precleaning_distributor(distributor_2021_df)\n",
    "distributor_2022_df = precleaning_distributor(distributor_2022_df)\n",
    "distributor_2023_df = precleaning_distributor(distributor_2023_df)"
   ]
  },
  {
   "cell_type": "code",
   "execution_count": null,
   "id": "0d0daad6-da9d-4064-9fa3-06725275e2d0",
   "metadata": {},
   "outputs": [],
   "source": [
    "  # 확인\n",
    "display(distributor_2021_df[:5])\n",
    "display(distributor_2022_df[:5])\n",
    "display(distributor_2023_df[:5])"
   ]
  },
  {
   "cell_type": "code",
   "execution_count": null,
   "id": "89600483-3387-46f0-9d8f-186afcff36a6",
   "metadata": {},
   "outputs": [],
   "source": [
    "'''\n",
    "버스 정류장 전처리 함수\n",
    "'''\n",
    "def precleaning_bus(df) :\n",
    "  # 연도를 보기쉽게 바꾸기 위해 앞 4글자만 추출\n",
    "  year = df['기준일'].astype(str).str[:4]\n",
    "  \n",
    "  # 추출한 값으로 변경\n",
    "  df['기준일'] = year\n",
    "  \n",
    "  # 컬럼명 통일\n",
    "  df = df.rename(columns = {'기준일' : '연도', '행정구명' : '구'})\n",
    "  \n",
    "  # 버스 정보와 위치정보 병합\n",
    "  df = pd.merge(df, bus_stop_address_df[['ARS_ID', 'X좌표', 'Y좌표']], \n",
    "                              left_on='ARS-ID', right_on='ARS_ID', how='left')\n",
    "  # ARS_ID 중복 컬럼 제거\n",
    "  df.drop(columns=['ARS_ID'], inplace=True)\n",
    "  return df"
   ]
  },
  {
   "cell_type": "code",
   "execution_count": null,
   "id": "c7c2e494-7694-4ee7-9ccb-62a364e32a47",
   "metadata": {},
   "outputs": [],
   "source": [
    "'''\n",
    "버스 전처리 함수 적용\n",
    "'''\n",
    "bus_stop_2021_df = precleaning_bus(bus_stop_2021_df)\n",
    "bus_stop_2022_df = precleaning_bus(bus_stop_2022_df)\n",
    "bus_stop_2023_df = precleaning_bus(bus_stop_2023_df)"
   ]
  },
  {
   "cell_type": "code",
   "execution_count": null,
   "id": "98929f2c-4a7b-4f4f-bef2-07a8e6e8d6f0",
   "metadata": {
    "scrolled": true
   },
   "outputs": [],
   "source": [
    "  # 확인\n",
    "display(bus_stop_2021_df)\n",
    "display(bus_stop_2022_df)\n",
    "display(bus_stop_2023_df)"
   ]
  },
  {
   "cell_type": "code",
   "execution_count": null,
   "id": "9b4fa724-96be-4324-95a5-a300ce8040e6",
   "metadata": {},
   "outputs": [],
   "source": [
    "'''\n",
    "지하철 전처리 함수\n",
    "'''\n",
    "def precleaning_train(df) :\n",
    "  df.columns = ['구', '해당역(호선)', '역개수']\n",
    "  filtered_df = df[df['구'].isin(seoul_2021_avg_df['구'])]\n",
    "  return filtered_df"
   ]
  },
  {
   "cell_type": "code",
   "execution_count": null,
   "id": "6b17542c-ece0-4a62-ab6c-78d0f455e92c",
   "metadata": {},
   "outputs": [],
   "source": [
    "# 지하철 전처리 함수 적용\n",
    "train_2021_df.drop(columns = '연번', inplace= True)\n",
    "train_2022_df.drop(columns = '연번', inplace= True)\n",
    "\n",
    "train_2021_df = precleaning_train(train_2021_df)\n",
    "train_2022_df = precleaning_train(train_2022_df)\n",
    "train_2023_df = precleaning_train(train_2023_df)"
   ]
  },
  {
   "cell_type": "code",
   "execution_count": null,
   "id": "ebc7b694-3ebd-490c-b36c-4a89c99763cf",
   "metadata": {},
   "outputs": [],
   "source": [
    "  # 확인\n",
    "display(train_2021_df)\n",
    "display(train_2022_df)\n",
    "display(train_2023_df)"
   ]
  },
  {
   "cell_type": "code",
   "execution_count": null,
   "id": "70329ba3-ac04-44e6-bc42-e09631f31068",
   "metadata": {},
   "outputs": [],
   "source": [
    "'''\n",
    "인구수 전처리 함수\n",
    "'''\n",
    "def precleaning_population(df, choice) :\n",
    "  year = df.columns.str.contains(choice)\n",
    "  year[0] = True\n",
    "  \n",
    "  tmp_df = df.loc[:, year]\n",
    "  columns_name = tmp_df.iloc[0].values\n",
    "  tmp_df.columns = columns_name\n",
    "  tmp_df = tmp_df.drop(0)\n",
    "  tmp_df = tmp_df.rename(columns = {'행정구역별(읍면동)' : '구'})\n",
    "  columns_name = tmp_df.columns[1:]\n",
    "  \n",
    "  for idx, column in enumerate(columns_name) :\n",
    "    tmp_df = tmp_df.rename(columns = {column : column.split(' ')[0]})\n",
    "  \n",
    "  return tmp_df"
   ]
  },
  {
   "cell_type": "code",
   "execution_count": null,
   "id": "b244ebe0-2fe2-482c-b380-e4583a8576ad",
   "metadata": {},
   "outputs": [],
   "source": [
    "# 인구수 전처리 함수 적용\n",
    "population_2021_df = precleaning_population(population_df, '2021')\n",
    "population_2022_df = precleaning_population(population_df, '2022')\n",
    "population_2023_df = precleaning_population(population_df, '2023')"
   ]
  },
  {
   "cell_type": "code",
   "execution_count": null,
   "id": "0f4eb267-3068-4034-a9f6-2872d3cecc71",
   "metadata": {},
   "outputs": [],
   "source": [
    "  # 확인\n",
    "display(population_2021_df[:5])\n",
    "display(population_2022_df[:5])\n",
    "display(population_2023_df[:5])"
   ]
  },
  {
   "cell_type": "code",
   "execution_count": null,
   "id": "531fdf7a-c8b7-49b5-b534-7e2d441c0784",
   "metadata": {},
   "outputs": [],
   "source": [
    "bus_stop_2021_df.info()"
   ]
  },
  {
   "cell_type": "code",
   "execution_count": null,
   "id": "77205b23-8b9e-4ebe-acc9-2cfb2d94c94c",
   "metadata": {},
   "outputs": [],
   "source": [
    "bus_stop_2021_df[['X좌표', 'Y좌표']].describe()"
   ]
  },
  {
   "cell_type": "code",
   "execution_count": null,
   "id": "54ccfe13-0d95-49ea-852d-b5d9a7f00086",
   "metadata": {},
   "outputs": [],
   "source": [
    "bus_stop_2021_df[bus_stop_2021_df['X좌표'] == 126.457230]"
   ]
  },
  {
   "cell_type": "code",
   "execution_count": null,
   "id": "f7427e40-c065-4e0d-80ff-c7db8a609899",
   "metadata": {},
   "outputs": [],
   "source": [
    "bus_stop_2021_df.loc[3179, 'X좌표'] = 127.037725\n",
    "bus_stop_2021_df.loc[3179, 'Y좌표'] = 37.613705\n",
    "display(bus_stop_2021_df.loc[3179])"
   ]
  },
  {
   "cell_type": "code",
   "execution_count": null,
   "id": "e247f537-e99c-4649-ae48-3057a5f417fa",
   "metadata": {},
   "outputs": [],
   "source": [
    "plt.figure(figsize = (20, 16))\n",
    "sns.scatterplot(bus_stop_2021_df, x = 'X좌표', y = 'Y좌표', hue = '구')"
   ]
  },
  {
   "cell_type": "code",
   "execution_count": null,
   "id": "4867a574-9d36-4128-b8ee-c621c90f119b",
   "metadata": {},
   "outputs": [],
   "source": [
    "concat_seoul_df = pd.concat([seoul_2021_avg_df, seoul_2022_avg_df, seoul_2023_avg_df])"
   ]
  },
  {
   "cell_type": "code",
   "execution_count": null,
   "id": "0d164533-562a-4817-a471-fb97387513fb",
   "metadata": {},
   "outputs": [],
   "source": [
    "concat_seoul_df"
   ]
  },
  {
   "cell_type": "code",
   "execution_count": null,
   "id": "2507743a-f987-42ad-91b4-b030dff70360",
   "metadata": {},
   "outputs": [],
   "source": [
    "'''\n",
    "연도별 평당분양가격 : pointplot()\n",
    "'''\n",
    "plt.figure(figsize = (12, 4))\n",
    "sns.pointplot(concat_seoul_df, x = '연도', y = '평균시세', hue = '구')\n",
    "\n",
    "plt.legend(bbox_to_anchor = (1.02, 1), loc = 2, borderaxespad = 0.)\n",
    "plt.title('서울시 연도별 평균분양가격 (2021 ~ 2023)')"
   ]
  },
  {
   "cell_type": "code",
   "execution_count": null,
   "id": "953b35b1-15ec-4be3-a9f5-51eb83ab7663",
   "metadata": {},
   "outputs": [],
   "source": [
    "plt.figure(figsize = (12, 4))\n",
    "sns.barplot(concat_seoul_df, x = '구', y = '평균시세', hue = '연도', palette = 'pastel', ci = None)\n",
    "plt.xticks(rotation=45)\n",
    "plt.legend(bbox_to_anchor = (1.02, 1), loc = 2, borderaxespad = 0.)"
   ]
  },
  {
   "cell_type": "code",
   "execution_count": null,
   "id": "f7684db9-5c9a-461b-86c9-5fbc78a67d41",
   "metadata": {},
   "outputs": [],
   "source": [
    "plt.figure(figsize = (12, 4))\n",
    "sns.boxplot(concat_seoul_df, x = '구', y = '평균시세', palette = 'pastel')\n",
    "\n",
    "# plt.legend(bbox_to_anchor = (1.02, 1), loc = 2, borderaxespad = 0.)\n",
    "plt.title('전국 연도별 평당분양가격 (2015.10 ~ 2024.09)')"
   ]
  },
  {
   "cell_type": "code",
   "execution_count": null,
   "id": "7a729513-f1eb-409d-b450-d442f2d3ca9a",
   "metadata": {},
   "outputs": [],
   "source": [
    "def wordcloud(data, width=1200, height=500):\n",
    "  word_c = WordCloud(font_path='C:/Windows/Fonts/malgun.ttf',\n",
    "                     width=width, height=height,\n",
    "                     background_color='white', random_state=42)\n",
    "  word_c.generate(data)\n",
    "  plt.figure(figsize=(15, 7))\n",
    "  plt.imshow(word_c)\n",
    "  plt.axis('off')\n",
    "  plt.show()  "
   ]
  },
  {
   "cell_type": "code",
   "execution_count": null,
   "id": "caffb8b5-1ff2-4bf2-9f10-48b2be2e8f57",
   "metadata": {},
   "outputs": [],
   "source": [
    "word2_df = pd.read_excel(root + 'NewsResult_2021.xlsx')\n",
    "word3_df = pd.read_excel(root + 'NewsResult_2022.xlsx')\n",
    "word4_df = pd.read_excel(root + 'NewsResult_2023.xlsx')"
   ]
  },
  {
   "cell_type": "code",
   "execution_count": null,
   "id": "e61539df-1133-4d23-b889-075afce07ff7",
   "metadata": {},
   "outputs": [],
   "source": [
    "text = \" \".join(word2_df['키워드'].values)\n",
    "wordcloud(text, width=1200, height=500)"
   ]
  },
  {
   "cell_type": "code",
   "execution_count": null,
   "id": "cf40262f-216c-46a9-a729-06baf17ca806",
   "metadata": {},
   "outputs": [],
   "source": [
    "text = \" \".join(word3_df['키워드'].values)\n",
    "wordcloud(text, width=1200, height=500)"
   ]
  },
  {
   "cell_type": "code",
   "execution_count": null,
   "id": "50aad828-2725-48a4-8bfe-36558faca9b9",
   "metadata": {},
   "outputs": [],
   "source": [
    "text = \" \".join(word4_df['키워드'].values)\n",
    "wordcloud(text, width=1200, height=500)"
   ]
  },
  {
   "cell_type": "code",
   "execution_count": null,
   "id": "ded5ea17-c815-4d37-b819-45d1d5371423",
   "metadata": {},
   "outputs": [],
   "source": [
    "news_concat_df = pd.concat([word2_df, word3_df, word4_df])\n",
    "text = \" \".join(news_concat_df['키워드'].values)\n",
    "wordcloud(text, width=1200, height=500)"
   ]
  },
  {
   "cell_type": "code",
   "execution_count": null,
   "id": "6beea77c-b4c9-4730-b623-f0e5515c2215",
   "metadata": {},
   "outputs": [],
   "source": [
    "seoul_2021_df.columns"
   ]
  },
  {
   "cell_type": "code",
   "execution_count": null,
   "id": "5dce8fbf-5f21-4d92-924b-9e3d843c8298",
   "metadata": {},
   "outputs": [],
   "source": [
    "json_path = root + '부동산_Data/seoul_municipalities_geo_simple.json'\n",
    "\n",
    "geo_dict = json.load(open(json_path, encoding = 'utf-8'))\n",
    "print(type(geo_dict))"
   ]
  },
  {
   "cell_type": "code",
   "execution_count": null,
   "id": "a2d6ad3a-a397-4d6f-a9d9-95c77f10ab39",
   "metadata": {},
   "outputs": [],
   "source": [
    "# pip install shapely\n",
    "from shapely.geometry import Polygon\n",
    "\n",
    "center_coords = {}\n",
    "for feature in geo_dict['features'] :\n",
    "  coords_list = feature['geometry']['coordinates'][0]\n",
    "  # 다각형 생성 및 중심점 계산\n",
    "  polygon = Polygon(coords_list)\n",
    "  centroid = polygon.centroid\n",
    "  \n",
    "  print(f\"{feature['properties']['name']} 중심 좌표:\", centroid.y, centroid.x)\n",
    "  center_coords[feature['properties']['name']] = [centroid.y, centroid.x]\n"
   ]
  },
  {
   "cell_type": "code",
   "execution_count": null,
   "id": "41ea6161-c5e4-483e-a4f1-742d59951efb",
   "metadata": {},
   "outputs": [],
   "source": [
    "latitude  = bus_stop_2021_df['Y좌표'].mean()\n",
    "longitude = bus_stop_2021_df['X좌표'].mean() \n",
    "latitude  = round(latitude, 4)\n",
    "longitude = round(longitude, 4)\n",
    "print(latitude, longitude)"
   ]
  },
  {
   "cell_type": "code",
   "execution_count": null,
   "id": "33bbde4c-b0ae-4044-9f0c-968566b4f8b4",
   "metadata": {},
   "outputs": [],
   "source": [
    "map = folium.Map([latitude, longitude])"
   ]
  },
  {
   "cell_type": "code",
   "execution_count": null,
   "id": "7f2f4d1b-9d4f-4228-a5f0-7069d2a15aec",
   "metadata": {},
   "outputs": [],
   "source": [
    "folium.Choropleth(\n",
    "    geo_data=geo_dict,\n",
    "    name='budongsan',\n",
    "    data=seoul_2021_avg_df,  # '구'와 '매장수' 열이 포함된 데이터프레임\n",
    "    columns=['구', '평균시세'],  # 사용할 열 지정\n",
    "    key_on='feature.properties.name',  # geo_dict의 'name'과 매칭\n",
    "    fill_color='PuRd',\n",
    "    fill_opacity=0.7,\n",
    "    line_opacity=0.2,\n",
    "    legend_name='행정구별 평균시세'\n",
    ").add_to(map)"
   ]
  },
  {
   "cell_type": "code",
   "execution_count": null,
   "id": "725db8bf-9469-47bd-a979-5165ce9d453c",
   "metadata": {},
   "outputs": [],
   "source": [
    "# 지도 위에 행정구 이름 추가\n",
    "for gu, coords in center_coords.items():\n",
    "    folium.Marker(\n",
    "        location=coords,\n",
    "        icon=folium.DivIcon(html=f'<div style=\"font-weight: bold; font-size: 10px; color: black; white-space: nowrap;\">{gu}</div>')\n",
    "    ).add_to(map)\n"
   ]
  },
  {
   "cell_type": "code",
   "execution_count": null,
   "id": "327396a2-7add-42d9-ab08-0b52af0d4744",
   "metadata": {},
   "outputs": [],
   "source": [
    "map"
   ]
  },
  {
   "cell_type": "code",
   "execution_count": null,
   "id": "cc2afa15-1401-42a7-8249-a62d19bb74d8",
   "metadata": {},
   "outputs": [],
   "source": []
  }
 ],
 "metadata": {
  "kernelspec": {
   "display_name": "Python 3 (ipykernel)",
   "language": "python",
   "name": "python3"
  },
  "language_info": {
   "codemirror_mode": {
    "name": "ipython",
    "version": 3
   },
   "file_extension": ".py",
   "mimetype": "text/x-python",
   "name": "python",
   "nbconvert_exporter": "python",
   "pygments_lexer": "ipython3",
   "version": "3.12.3"
  }
 },
 "nbformat": 4,
 "nbformat_minor": 5
}
